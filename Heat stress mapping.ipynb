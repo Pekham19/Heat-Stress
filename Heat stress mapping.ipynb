{
 "cells": [
  {
   "cell_type": "code",
   "execution_count": 21,
   "id": "fba39990-7db5-4b3d-a144-2e2122041efd",
   "metadata": {},
   "outputs": [
    {
     "name": "stdout",
     "output_type": "stream",
     "text": [
      "Converted: D:/Cognitud/Heat Stress\\Hi\\anomaly-hi-annual-mean_cmip6-x0.25_ec-earth3-veg-lr-r1i1p1f1-ssp370_climatology_mean_2020-2039.nc -> D:/Cognitud/Heat_Stress_CSV\\Hi\\anomaly-hi-annual-mean_cmip6-x0.25_ec-earth3-veg-lr-r1i1p1f1-ssp370_climatology_mean_2020-2039.csv\n",
      "Converted: D:/Cognitud/Heat Stress\\Hi\\anomaly-hi-annual-mean_cmip6-x0.25_ec-earth3-veg-lr-r1i1p1f1-ssp370_climatology_mean_2040-2059.nc -> D:/Cognitud/Heat_Stress_CSV\\Hi\\anomaly-hi-annual-mean_cmip6-x0.25_ec-earth3-veg-lr-r1i1p1f1-ssp370_climatology_mean_2040-2059.csv\n",
      "Converted: D:/Cognitud/Heat Stress\\Hi\\anomaly-hi-annual-mean_cmip6-x0.25_ec-earth3-veg-lr-r1i1p1f1-ssp370_climatology_mean_2060-2079.nc -> D:/Cognitud/Heat_Stress_CSV\\Hi\\anomaly-hi-annual-mean_cmip6-x0.25_ec-earth3-veg-lr-r1i1p1f1-ssp370_climatology_mean_2060-2079.csv\n",
      "Converted: D:/Cognitud/Heat Stress\\Hi\\anomaly-hi-annual-mean_cmip6-x0.25_ec-earth3-veg-lr-r1i1p1f1-ssp370_climatology_mean_2080-2099.nc -> D:/Cognitud/Heat_Stress_CSV\\Hi\\anomaly-hi-annual-mean_cmip6-x0.25_ec-earth3-veg-lr-r1i1p1f1-ssp370_climatology_mean_2080-2099.csv\n",
      "Converted: D:/Cognitud/Heat Stress\\Hi\\anomaly-hi-annual-mean_cmip6-x0.25_ec-earth3-veg-lr-r1i1p1f1-ssp585_climatology_mean_2020-2039.nc -> D:/Cognitud/Heat_Stress_CSV\\Hi\\anomaly-hi-annual-mean_cmip6-x0.25_ec-earth3-veg-lr-r1i1p1f1-ssp585_climatology_mean_2020-2039.csv\n",
      "Converted: D:/Cognitud/Heat Stress\\Hi\\anomaly-hi-annual-mean_cmip6-x0.25_ec-earth3-veg-lr-r1i1p1f1-ssp585_climatology_mean_2040-2059.nc -> D:/Cognitud/Heat_Stress_CSV\\Hi\\anomaly-hi-annual-mean_cmip6-x0.25_ec-earth3-veg-lr-r1i1p1f1-ssp585_climatology_mean_2040-2059.csv\n",
      "Converted: D:/Cognitud/Heat Stress\\Hi\\anomaly-hi-annual-mean_cmip6-x0.25_ec-earth3-veg-lr-r1i1p1f1-ssp585_climatology_mean_2060-2079.nc -> D:/Cognitud/Heat_Stress_CSV\\Hi\\anomaly-hi-annual-mean_cmip6-x0.25_ec-earth3-veg-lr-r1i1p1f1-ssp585_climatology_mean_2060-2079.csv\n",
      "Converted: D:/Cognitud/Heat Stress\\Hi\\anomaly-hi-annual-mean_cmip6-x0.25_ensemble-all-ssp119_climatology_median_2020-2039.nc -> D:/Cognitud/Heat_Stress_CSV\\Hi\\anomaly-hi-annual-mean_cmip6-x0.25_ensemble-all-ssp119_climatology_median_2020-2039.csv\n",
      "Converted: D:/Cognitud/Heat Stress\\Hi\\anomaly-hi-annual-mean_cmip6-x0.25_ensemble-all-ssp119_climatology_median_2040-2059.nc -> D:/Cognitud/Heat_Stress_CSV\\Hi\\anomaly-hi-annual-mean_cmip6-x0.25_ensemble-all-ssp119_climatology_median_2040-2059.csv\n",
      "Converted: D:/Cognitud/Heat Stress\\Hi\\anomaly-hi-annual-mean_cmip6-x0.25_ensemble-all-ssp119_climatology_median_2060-2079.nc -> D:/Cognitud/Heat_Stress_CSV\\Hi\\anomaly-hi-annual-mean_cmip6-x0.25_ensemble-all-ssp119_climatology_median_2060-2079.csv\n",
      "Converted: D:/Cognitud/Heat Stress\\Hi\\anomaly-hi-annual-mean_cmip6-x0.25_ensemble-all-ssp119_climatology_median_2080-2099.nc -> D:/Cognitud/Heat_Stress_CSV\\Hi\\anomaly-hi-annual-mean_cmip6-x0.25_ensemble-all-ssp119_climatology_median_2080-2099.csv\n",
      "Converted: D:/Cognitud/Heat Stress\\Hi\\anomaly-hi-annual-mean_cmip6-x0.25_ensemble-all-ssp126_climatology_median_2020-2039.nc -> D:/Cognitud/Heat_Stress_CSV\\Hi\\anomaly-hi-annual-mean_cmip6-x0.25_ensemble-all-ssp126_climatology_median_2020-2039.csv\n",
      "Converted: D:/Cognitud/Heat Stress\\Hi\\anomaly-hi-annual-mean_cmip6-x0.25_ensemble-all-ssp126_climatology_median_2040-2059.nc -> D:/Cognitud/Heat_Stress_CSV\\Hi\\anomaly-hi-annual-mean_cmip6-x0.25_ensemble-all-ssp126_climatology_median_2040-2059.csv\n",
      "Converted: D:/Cognitud/Heat Stress\\Hi\\anomaly-hi-annual-mean_cmip6-x0.25_ensemble-all-ssp126_climatology_median_2060-2079.nc -> D:/Cognitud/Heat_Stress_CSV\\Hi\\anomaly-hi-annual-mean_cmip6-x0.25_ensemble-all-ssp126_climatology_median_2060-2079.csv\n",
      "Converted: D:/Cognitud/Heat Stress\\Hi\\anomaly-hi-annual-mean_cmip6-x0.25_ensemble-all-ssp126_climatology_median_2080-2099.nc -> D:/Cognitud/Heat_Stress_CSV\\Hi\\anomaly-hi-annual-mean_cmip6-x0.25_ensemble-all-ssp126_climatology_median_2080-2099.csv\n",
      "Converted: D:/Cognitud/Heat Stress\\Hi\\climatology-hi-annual-mean_cmip6-x0.25_ensemble-all-historical_climatology_median_1995-2014.nc -> D:/Cognitud/Heat_Stress_CSV\\Hi\\climatology-hi-annual-mean_cmip6-x0.25_ensemble-all-historical_climatology_median_1995-2014.csv\n",
      "Converted: D:/Cognitud/Heat Stress\\Hi\\climatology-hi-annual-mean_cmip6-x0.25_ensemble-all-historical_climatology_p10_1995-2014.nc -> D:/Cognitud/Heat_Stress_CSV\\Hi\\climatology-hi-annual-mean_cmip6-x0.25_ensemble-all-historical_climatology_p10_1995-2014.csv\n",
      "Converted: D:/Cognitud/Heat Stress\\Hi\\climatology-hi-annual-mean_cmip6-x0.25_ensemble-all-historical_climatology_p90_1995-2014.nc -> D:/Cognitud/Heat_Stress_CSV\\Hi\\climatology-hi-annual-mean_cmip6-x0.25_ensemble-all-historical_climatology_p90_1995-2014.csv\n"
     ]
    },
    {
     "name": "stderr",
     "output_type": "stream",
     "text": [
      "C:\\Users\\Pekham_Ganguly\\AppData\\Local\\Temp\\ipykernel_10960\\754040362.py:26: FutureWarning: In a future version, xarray will not decode the variable 'anomaly-hi35-annual-mean' into a timedelta64 dtype based on the presence of a timedelta-like 'units' attribute by default. Instead it will rely on the presence of a timedelta64 'dtype' attribute, which is now xarray's default way of encoding timedelta64 values.\n",
      "To continue decoding into a timedelta64 dtype, either set `decode_timedelta=True` when opening this dataset, or add the attribute `dtype='timedelta64[ns]'` to this variable on disk.\n",
      "To opt-in to future behavior, set `decode_timedelta=False`.\n",
      "  ds = xr.open_dataset(nc_path)\n"
     ]
    },
    {
     "name": "stdout",
     "output_type": "stream",
     "text": [
      "Converted: D:/Cognitud/Heat Stress\\Hi35\\anomaly-hi35-annual-mean_cmip6-x0.25_ec-earth3-r1i1p1f1-ssp245_climatology_mean_2020-2039.nc -> D:/Cognitud/Heat_Stress_CSV\\Hi35\\anomaly-hi35-annual-mean_cmip6-x0.25_ec-earth3-r1i1p1f1-ssp245_climatology_mean_2020-2039.csv\n"
     ]
    },
    {
     "name": "stderr",
     "output_type": "stream",
     "text": [
      "C:\\Users\\Pekham_Ganguly\\AppData\\Local\\Temp\\ipykernel_10960\\754040362.py:26: FutureWarning: In a future version, xarray will not decode the variable 'anomaly-hi35-annual-mean' into a timedelta64 dtype based on the presence of a timedelta-like 'units' attribute by default. Instead it will rely on the presence of a timedelta64 'dtype' attribute, which is now xarray's default way of encoding timedelta64 values.\n",
      "To continue decoding into a timedelta64 dtype, either set `decode_timedelta=True` when opening this dataset, or add the attribute `dtype='timedelta64[ns]'` to this variable on disk.\n",
      "To opt-in to future behavior, set `decode_timedelta=False`.\n",
      "  ds = xr.open_dataset(nc_path)\n"
     ]
    },
    {
     "name": "stdout",
     "output_type": "stream",
     "text": [
      "Converted: D:/Cognitud/Heat Stress\\Hi35\\anomaly-hi35-annual-mean_cmip6-x0.25_ec-earth3-r1i1p1f1-ssp245_climatology_mean_2040-2059.nc -> D:/Cognitud/Heat_Stress_CSV\\Hi35\\anomaly-hi35-annual-mean_cmip6-x0.25_ec-earth3-r1i1p1f1-ssp245_climatology_mean_2040-2059.csv\n"
     ]
    },
    {
     "name": "stderr",
     "output_type": "stream",
     "text": [
      "C:\\Users\\Pekham_Ganguly\\AppData\\Local\\Temp\\ipykernel_10960\\754040362.py:26: FutureWarning: In a future version, xarray will not decode the variable 'anomaly-hi35-annual-mean' into a timedelta64 dtype based on the presence of a timedelta-like 'units' attribute by default. Instead it will rely on the presence of a timedelta64 'dtype' attribute, which is now xarray's default way of encoding timedelta64 values.\n",
      "To continue decoding into a timedelta64 dtype, either set `decode_timedelta=True` when opening this dataset, or add the attribute `dtype='timedelta64[ns]'` to this variable on disk.\n",
      "To opt-in to future behavior, set `decode_timedelta=False`.\n",
      "  ds = xr.open_dataset(nc_path)\n"
     ]
    },
    {
     "name": "stdout",
     "output_type": "stream",
     "text": [
      "Converted: D:/Cognitud/Heat Stress\\Hi35\\anomaly-hi35-annual-mean_cmip6-x0.25_ec-earth3-r1i1p1f1-ssp245_climatology_mean_2060-2079.nc -> D:/Cognitud/Heat_Stress_CSV\\Hi35\\anomaly-hi35-annual-mean_cmip6-x0.25_ec-earth3-r1i1p1f1-ssp245_climatology_mean_2060-2079.csv\n"
     ]
    },
    {
     "name": "stderr",
     "output_type": "stream",
     "text": [
      "C:\\Users\\Pekham_Ganguly\\AppData\\Local\\Temp\\ipykernel_10960\\754040362.py:26: FutureWarning: In a future version, xarray will not decode the variable 'anomaly-hi35-annual-mean' into a timedelta64 dtype based on the presence of a timedelta-like 'units' attribute by default. Instead it will rely on the presence of a timedelta64 'dtype' attribute, which is now xarray's default way of encoding timedelta64 values.\n",
      "To continue decoding into a timedelta64 dtype, either set `decode_timedelta=True` when opening this dataset, or add the attribute `dtype='timedelta64[ns]'` to this variable on disk.\n",
      "To opt-in to future behavior, set `decode_timedelta=False`.\n",
      "  ds = xr.open_dataset(nc_path)\n"
     ]
    },
    {
     "name": "stdout",
     "output_type": "stream",
     "text": [
      "Converted: D:/Cognitud/Heat Stress\\Hi35\\anomaly-hi35-annual-mean_cmip6-x0.25_ec-earth3-r1i1p1f1-ssp245_climatology_mean_2080-2099.nc -> D:/Cognitud/Heat_Stress_CSV\\Hi35\\anomaly-hi35-annual-mean_cmip6-x0.25_ec-earth3-r1i1p1f1-ssp245_climatology_mean_2080-2099.csv\n"
     ]
    },
    {
     "name": "stderr",
     "output_type": "stream",
     "text": [
      "C:\\Users\\Pekham_Ganguly\\AppData\\Local\\Temp\\ipykernel_10960\\754040362.py:26: FutureWarning: In a future version, xarray will not decode the variable 'anomaly-hi35-annual-mean' into a timedelta64 dtype based on the presence of a timedelta-like 'units' attribute by default. Instead it will rely on the presence of a timedelta64 'dtype' attribute, which is now xarray's default way of encoding timedelta64 values.\n",
      "To continue decoding into a timedelta64 dtype, either set `decode_timedelta=True` when opening this dataset, or add the attribute `dtype='timedelta64[ns]'` to this variable on disk.\n",
      "To opt-in to future behavior, set `decode_timedelta=False`.\n",
      "  ds = xr.open_dataset(nc_path)\n"
     ]
    },
    {
     "name": "stdout",
     "output_type": "stream",
     "text": [
      "Converted: D:/Cognitud/Heat Stress\\Hi35\\anomaly-hi35-annual-mean_cmip6-x0.25_ec-earth3-r1i1p1f1-ssp370_climatology_mean_2020-2039.nc -> D:/Cognitud/Heat_Stress_CSV\\Hi35\\anomaly-hi35-annual-mean_cmip6-x0.25_ec-earth3-r1i1p1f1-ssp370_climatology_mean_2020-2039.csv\n"
     ]
    },
    {
     "name": "stderr",
     "output_type": "stream",
     "text": [
      "C:\\Users\\Pekham_Ganguly\\AppData\\Local\\Temp\\ipykernel_10960\\754040362.py:26: FutureWarning: In a future version, xarray will not decode the variable 'anomaly-hi35-annual-mean' into a timedelta64 dtype based on the presence of a timedelta-like 'units' attribute by default. Instead it will rely on the presence of a timedelta64 'dtype' attribute, which is now xarray's default way of encoding timedelta64 values.\n",
      "To continue decoding into a timedelta64 dtype, either set `decode_timedelta=True` when opening this dataset, or add the attribute `dtype='timedelta64[ns]'` to this variable on disk.\n",
      "To opt-in to future behavior, set `decode_timedelta=False`.\n",
      "  ds = xr.open_dataset(nc_path)\n"
     ]
    },
    {
     "name": "stdout",
     "output_type": "stream",
     "text": [
      "Converted: D:/Cognitud/Heat Stress\\Hi35\\anomaly-hi35-annual-mean_cmip6-x0.25_ec-earth3-r1i1p1f1-ssp370_climatology_mean_2040-2059.nc -> D:/Cognitud/Heat_Stress_CSV\\Hi35\\anomaly-hi35-annual-mean_cmip6-x0.25_ec-earth3-r1i1p1f1-ssp370_climatology_mean_2040-2059.csv\n"
     ]
    },
    {
     "name": "stderr",
     "output_type": "stream",
     "text": [
      "C:\\Users\\Pekham_Ganguly\\AppData\\Local\\Temp\\ipykernel_10960\\754040362.py:26: FutureWarning: In a future version, xarray will not decode the variable 'anomaly-hi35-annual-mean' into a timedelta64 dtype based on the presence of a timedelta-like 'units' attribute by default. Instead it will rely on the presence of a timedelta64 'dtype' attribute, which is now xarray's default way of encoding timedelta64 values.\n",
      "To continue decoding into a timedelta64 dtype, either set `decode_timedelta=True` when opening this dataset, or add the attribute `dtype='timedelta64[ns]'` to this variable on disk.\n",
      "To opt-in to future behavior, set `decode_timedelta=False`.\n",
      "  ds = xr.open_dataset(nc_path)\n"
     ]
    },
    {
     "name": "stdout",
     "output_type": "stream",
     "text": [
      "Converted: D:/Cognitud/Heat Stress\\Hi35\\anomaly-hi35-annual-mean_cmip6-x0.25_ec-earth3-r1i1p1f1-ssp370_climatology_mean_2060-2079.nc -> D:/Cognitud/Heat_Stress_CSV\\Hi35\\anomaly-hi35-annual-mean_cmip6-x0.25_ec-earth3-r1i1p1f1-ssp370_climatology_mean_2060-2079.csv\n"
     ]
    },
    {
     "name": "stderr",
     "output_type": "stream",
     "text": [
      "C:\\Users\\Pekham_Ganguly\\AppData\\Local\\Temp\\ipykernel_10960\\754040362.py:26: FutureWarning: In a future version, xarray will not decode the variable 'anomaly-hi35-annual-mean' into a timedelta64 dtype based on the presence of a timedelta-like 'units' attribute by default. Instead it will rely on the presence of a timedelta64 'dtype' attribute, which is now xarray's default way of encoding timedelta64 values.\n",
      "To continue decoding into a timedelta64 dtype, either set `decode_timedelta=True` when opening this dataset, or add the attribute `dtype='timedelta64[ns]'` to this variable on disk.\n",
      "To opt-in to future behavior, set `decode_timedelta=False`.\n",
      "  ds = xr.open_dataset(nc_path)\n"
     ]
    },
    {
     "name": "stdout",
     "output_type": "stream",
     "text": [
      "Converted: D:/Cognitud/Heat Stress\\Hi35\\anomaly-hi35-annual-mean_cmip6-x0.25_ec-earth3-r1i1p1f1-ssp370_climatology_mean_2080-2099.nc -> D:/Cognitud/Heat_Stress_CSV\\Hi35\\anomaly-hi35-annual-mean_cmip6-x0.25_ec-earth3-r1i1p1f1-ssp370_climatology_mean_2080-2099.csv\n"
     ]
    },
    {
     "name": "stderr",
     "output_type": "stream",
     "text": [
      "C:\\Users\\Pekham_Ganguly\\AppData\\Local\\Temp\\ipykernel_10960\\754040362.py:26: FutureWarning: In a future version, xarray will not decode the variable 'anomaly-hi35-annual-mean' into a timedelta64 dtype based on the presence of a timedelta-like 'units' attribute by default. Instead it will rely on the presence of a timedelta64 'dtype' attribute, which is now xarray's default way of encoding timedelta64 values.\n",
      "To continue decoding into a timedelta64 dtype, either set `decode_timedelta=True` when opening this dataset, or add the attribute `dtype='timedelta64[ns]'` to this variable on disk.\n",
      "To opt-in to future behavior, set `decode_timedelta=False`.\n",
      "  ds = xr.open_dataset(nc_path)\n"
     ]
    },
    {
     "name": "stdout",
     "output_type": "stream",
     "text": [
      "Converted: D:/Cognitud/Heat Stress\\Hi35\\anomaly-hi35-annual-mean_cmip6-x0.25_ec-earth3-r1i1p1f1-ssp585_climatology_mean_2020-2039.nc -> D:/Cognitud/Heat_Stress_CSV\\Hi35\\anomaly-hi35-annual-mean_cmip6-x0.25_ec-earth3-r1i1p1f1-ssp585_climatology_mean_2020-2039.csv\n"
     ]
    },
    {
     "name": "stderr",
     "output_type": "stream",
     "text": [
      "C:\\Users\\Pekham_Ganguly\\AppData\\Local\\Temp\\ipykernel_10960\\754040362.py:26: FutureWarning: In a future version, xarray will not decode the variable 'anomaly-hi35-annual-mean' into a timedelta64 dtype based on the presence of a timedelta-like 'units' attribute by default. Instead it will rely on the presence of a timedelta64 'dtype' attribute, which is now xarray's default way of encoding timedelta64 values.\n",
      "To continue decoding into a timedelta64 dtype, either set `decode_timedelta=True` when opening this dataset, or add the attribute `dtype='timedelta64[ns]'` to this variable on disk.\n",
      "To opt-in to future behavior, set `decode_timedelta=False`.\n",
      "  ds = xr.open_dataset(nc_path)\n"
     ]
    },
    {
     "name": "stdout",
     "output_type": "stream",
     "text": [
      "Converted: D:/Cognitud/Heat Stress\\Hi35\\anomaly-hi35-annual-mean_cmip6-x0.25_ec-earth3-r1i1p1f1-ssp585_climatology_mean_2040-2059.nc -> D:/Cognitud/Heat_Stress_CSV\\Hi35\\anomaly-hi35-annual-mean_cmip6-x0.25_ec-earth3-r1i1p1f1-ssp585_climatology_mean_2040-2059.csv\n"
     ]
    },
    {
     "name": "stderr",
     "output_type": "stream",
     "text": [
      "C:\\Users\\Pekham_Ganguly\\AppData\\Local\\Temp\\ipykernel_10960\\754040362.py:26: FutureWarning: In a future version, xarray will not decode the variable 'anomaly-hi35-annual-mean' into a timedelta64 dtype based on the presence of a timedelta-like 'units' attribute by default. Instead it will rely on the presence of a timedelta64 'dtype' attribute, which is now xarray's default way of encoding timedelta64 values.\n",
      "To continue decoding into a timedelta64 dtype, either set `decode_timedelta=True` when opening this dataset, or add the attribute `dtype='timedelta64[ns]'` to this variable on disk.\n",
      "To opt-in to future behavior, set `decode_timedelta=False`.\n",
      "  ds = xr.open_dataset(nc_path)\n"
     ]
    },
    {
     "name": "stdout",
     "output_type": "stream",
     "text": [
      "Converted: D:/Cognitud/Heat Stress\\Hi35\\anomaly-hi35-annual-mean_cmip6-x0.25_ec-earth3-r1i1p1f1-ssp585_climatology_mean_2060-2079.nc -> D:/Cognitud/Heat_Stress_CSV\\Hi35\\anomaly-hi35-annual-mean_cmip6-x0.25_ec-earth3-r1i1p1f1-ssp585_climatology_mean_2060-2079.csv\n"
     ]
    },
    {
     "name": "stderr",
     "output_type": "stream",
     "text": [
      "C:\\Users\\Pekham_Ganguly\\AppData\\Local\\Temp\\ipykernel_10960\\754040362.py:26: FutureWarning: In a future version, xarray will not decode the variable 'anomaly-hi35-annual-mean' into a timedelta64 dtype based on the presence of a timedelta-like 'units' attribute by default. Instead it will rely on the presence of a timedelta64 'dtype' attribute, which is now xarray's default way of encoding timedelta64 values.\n",
      "To continue decoding into a timedelta64 dtype, either set `decode_timedelta=True` when opening this dataset, or add the attribute `dtype='timedelta64[ns]'` to this variable on disk.\n",
      "To opt-in to future behavior, set `decode_timedelta=False`.\n",
      "  ds = xr.open_dataset(nc_path)\n"
     ]
    },
    {
     "name": "stdout",
     "output_type": "stream",
     "text": [
      "Converted: D:/Cognitud/Heat Stress\\Hi35\\anomaly-hi35-annual-mean_cmip6-x0.25_ec-earth3-r1i1p1f1-ssp585_climatology_mean_2080-2099.nc -> D:/Cognitud/Heat_Stress_CSV\\Hi35\\anomaly-hi35-annual-mean_cmip6-x0.25_ec-earth3-r1i1p1f1-ssp585_climatology_mean_2080-2099.csv\n"
     ]
    },
    {
     "name": "stderr",
     "output_type": "stream",
     "text": [
      "C:\\Users\\Pekham_Ganguly\\AppData\\Local\\Temp\\ipykernel_10960\\754040362.py:26: FutureWarning: In a future version, xarray will not decode the variable 'anomaly-hi35-annual-mean' into a timedelta64 dtype based on the presence of a timedelta-like 'units' attribute by default. Instead it will rely on the presence of a timedelta64 'dtype' attribute, which is now xarray's default way of encoding timedelta64 values.\n",
      "To continue decoding into a timedelta64 dtype, either set `decode_timedelta=True` when opening this dataset, or add the attribute `dtype='timedelta64[ns]'` to this variable on disk.\n",
      "To opt-in to future behavior, set `decode_timedelta=False`.\n",
      "  ds = xr.open_dataset(nc_path)\n"
     ]
    },
    {
     "name": "stdout",
     "output_type": "stream",
     "text": [
      "Converted: D:/Cognitud/Heat Stress\\Hi35\\anomaly-hi35-annual-mean_cmip6-x0.25_ec-earth3-veg-lr-r1i1p1f1-ssp126_climatology_mean_2020-2039.nc -> D:/Cognitud/Heat_Stress_CSV\\Hi35\\anomaly-hi35-annual-mean_cmip6-x0.25_ec-earth3-veg-lr-r1i1p1f1-ssp126_climatology_mean_2020-2039.csv\n"
     ]
    },
    {
     "name": "stderr",
     "output_type": "stream",
     "text": [
      "C:\\Users\\Pekham_Ganguly\\AppData\\Local\\Temp\\ipykernel_10960\\754040362.py:26: FutureWarning: In a future version, xarray will not decode the variable 'anomaly-hi35-annual-mean' into a timedelta64 dtype based on the presence of a timedelta-like 'units' attribute by default. Instead it will rely on the presence of a timedelta64 'dtype' attribute, which is now xarray's default way of encoding timedelta64 values.\n",
      "To continue decoding into a timedelta64 dtype, either set `decode_timedelta=True` when opening this dataset, or add the attribute `dtype='timedelta64[ns]'` to this variable on disk.\n",
      "To opt-in to future behavior, set `decode_timedelta=False`.\n",
      "  ds = xr.open_dataset(nc_path)\n"
     ]
    },
    {
     "name": "stdout",
     "output_type": "stream",
     "text": [
      "Converted: D:/Cognitud/Heat Stress\\Hi35\\anomaly-hi35-annual-mean_cmip6-x0.25_ec-earth3-veg-lr-r1i1p1f1-ssp126_climatology_mean_2040-2059.nc -> D:/Cognitud/Heat_Stress_CSV\\Hi35\\anomaly-hi35-annual-mean_cmip6-x0.25_ec-earth3-veg-lr-r1i1p1f1-ssp126_climatology_mean_2040-2059.csv\n"
     ]
    },
    {
     "name": "stderr",
     "output_type": "stream",
     "text": [
      "C:\\Users\\Pekham_Ganguly\\AppData\\Local\\Temp\\ipykernel_10960\\754040362.py:26: FutureWarning: In a future version, xarray will not decode the variable 'anomaly-hi35-annual-mean' into a timedelta64 dtype based on the presence of a timedelta-like 'units' attribute by default. Instead it will rely on the presence of a timedelta64 'dtype' attribute, which is now xarray's default way of encoding timedelta64 values.\n",
      "To continue decoding into a timedelta64 dtype, either set `decode_timedelta=True` when opening this dataset, or add the attribute `dtype='timedelta64[ns]'` to this variable on disk.\n",
      "To opt-in to future behavior, set `decode_timedelta=False`.\n",
      "  ds = xr.open_dataset(nc_path)\n"
     ]
    },
    {
     "name": "stdout",
     "output_type": "stream",
     "text": [
      "Converted: D:/Cognitud/Heat Stress\\Hi35\\anomaly-hi35-annual-mean_cmip6-x0.25_ec-earth3-veg-lr-r1i1p1f1-ssp126_climatology_mean_2060-2079.nc -> D:/Cognitud/Heat_Stress_CSV\\Hi35\\anomaly-hi35-annual-mean_cmip6-x0.25_ec-earth3-veg-lr-r1i1p1f1-ssp126_climatology_mean_2060-2079.csv\n"
     ]
    },
    {
     "name": "stderr",
     "output_type": "stream",
     "text": [
      "C:\\Users\\Pekham_Ganguly\\AppData\\Local\\Temp\\ipykernel_10960\\754040362.py:26: FutureWarning: In a future version, xarray will not decode the variable 'anomaly-hi35-annual-mean' into a timedelta64 dtype based on the presence of a timedelta-like 'units' attribute by default. Instead it will rely on the presence of a timedelta64 'dtype' attribute, which is now xarray's default way of encoding timedelta64 values.\n",
      "To continue decoding into a timedelta64 dtype, either set `decode_timedelta=True` when opening this dataset, or add the attribute `dtype='timedelta64[ns]'` to this variable on disk.\n",
      "To opt-in to future behavior, set `decode_timedelta=False`.\n",
      "  ds = xr.open_dataset(nc_path)\n"
     ]
    },
    {
     "name": "stdout",
     "output_type": "stream",
     "text": [
      "Converted: D:/Cognitud/Heat Stress\\Hi35\\anomaly-hi35-annual-mean_cmip6-x0.25_ec-earth3-veg-lr-r1i1p1f1-ssp126_climatology_mean_2080-2099.nc -> D:/Cognitud/Heat_Stress_CSV\\Hi35\\anomaly-hi35-annual-mean_cmip6-x0.25_ec-earth3-veg-lr-r1i1p1f1-ssp126_climatology_mean_2080-2099.csv\n"
     ]
    },
    {
     "name": "stderr",
     "output_type": "stream",
     "text": [
      "C:\\Users\\Pekham_Ganguly\\AppData\\Local\\Temp\\ipykernel_10960\\754040362.py:26: FutureWarning: In a future version, xarray will not decode the variable 'climatology-hi35-annual-mean' into a timedelta64 dtype based on the presence of a timedelta-like 'units' attribute by default. Instead it will rely on the presence of a timedelta64 'dtype' attribute, which is now xarray's default way of encoding timedelta64 values.\n",
      "To continue decoding into a timedelta64 dtype, either set `decode_timedelta=True` when opening this dataset, or add the attribute `dtype='timedelta64[ns]'` to this variable on disk.\n",
      "To opt-in to future behavior, set `decode_timedelta=False`.\n",
      "  ds = xr.open_dataset(nc_path)\n"
     ]
    },
    {
     "name": "stdout",
     "output_type": "stream",
     "text": [
      "Converted: D:/Cognitud/Heat Stress\\Hi35\\climatology-hi35-annual-mean_cmip6-x0.25_ensemble-all-historical_climatology_median_1995-2014.nc -> D:/Cognitud/Heat_Stress_CSV\\Hi35\\climatology-hi35-annual-mean_cmip6-x0.25_ensemble-all-historical_climatology_median_1995-2014.csv\n"
     ]
    },
    {
     "name": "stderr",
     "output_type": "stream",
     "text": [
      "C:\\Users\\Pekham_Ganguly\\AppData\\Local\\Temp\\ipykernel_10960\\754040362.py:26: FutureWarning: In a future version, xarray will not decode the variable 'climatology-hi35-annual-mean' into a timedelta64 dtype based on the presence of a timedelta-like 'units' attribute by default. Instead it will rely on the presence of a timedelta64 'dtype' attribute, which is now xarray's default way of encoding timedelta64 values.\n",
      "To continue decoding into a timedelta64 dtype, either set `decode_timedelta=True` when opening this dataset, or add the attribute `dtype='timedelta64[ns]'` to this variable on disk.\n",
      "To opt-in to future behavior, set `decode_timedelta=False`.\n",
      "  ds = xr.open_dataset(nc_path)\n"
     ]
    },
    {
     "name": "stdout",
     "output_type": "stream",
     "text": [
      "Converted: D:/Cognitud/Heat Stress\\Hi35\\climatology-hi35-annual-mean_cmip6-x0.25_ensemble-all-historical_climatology_p10_1995-2014.nc -> D:/Cognitud/Heat_Stress_CSV\\Hi35\\climatology-hi35-annual-mean_cmip6-x0.25_ensemble-all-historical_climatology_p10_1995-2014.csv\n"
     ]
    },
    {
     "name": "stderr",
     "output_type": "stream",
     "text": [
      "C:\\Users\\Pekham_Ganguly\\AppData\\Local\\Temp\\ipykernel_10960\\754040362.py:26: FutureWarning: In a future version, xarray will not decode the variable 'climatology-hi35-annual-mean' into a timedelta64 dtype based on the presence of a timedelta-like 'units' attribute by default. Instead it will rely on the presence of a timedelta64 'dtype' attribute, which is now xarray's default way of encoding timedelta64 values.\n",
      "To continue decoding into a timedelta64 dtype, either set `decode_timedelta=True` when opening this dataset, or add the attribute `dtype='timedelta64[ns]'` to this variable on disk.\n",
      "To opt-in to future behavior, set `decode_timedelta=False`.\n",
      "  ds = xr.open_dataset(nc_path)\n"
     ]
    },
    {
     "name": "stdout",
     "output_type": "stream",
     "text": [
      "Converted: D:/Cognitud/Heat Stress\\Hi35\\climatology-hi35-annual-mean_cmip6-x0.25_ensemble-all-historical_climatology_p90_1995-2014.nc -> D:/Cognitud/Heat_Stress_CSV\\Hi35\\climatology-hi35-annual-mean_cmip6-x0.25_ensemble-all-historical_climatology_p90_1995-2014.csv\n"
     ]
    },
    {
     "name": "stderr",
     "output_type": "stream",
     "text": [
      "C:\\Users\\Pekham_Ganguly\\AppData\\Local\\Temp\\ipykernel_10960\\754040362.py:26: FutureWarning: In a future version, xarray will not decode the variable 'anomaly-hi37-annual-mean' into a timedelta64 dtype based on the presence of a timedelta-like 'units' attribute by default. Instead it will rely on the presence of a timedelta64 'dtype' attribute, which is now xarray's default way of encoding timedelta64 values.\n",
      "To continue decoding into a timedelta64 dtype, either set `decode_timedelta=True` when opening this dataset, or add the attribute `dtype='timedelta64[ns]'` to this variable on disk.\n",
      "To opt-in to future behavior, set `decode_timedelta=False`.\n",
      "  ds = xr.open_dataset(nc_path)\n"
     ]
    },
    {
     "name": "stdout",
     "output_type": "stream",
     "text": [
      "Converted: D:/Cognitud/Heat Stress\\Hi37\\anomaly-hi37-annual-mean_cmip6-x0.25_ec-earth3-r1i1p1f1-ssp370_climatology_mean_2020-2039.nc -> D:/Cognitud/Heat_Stress_CSV\\Hi37\\anomaly-hi37-annual-mean_cmip6-x0.25_ec-earth3-r1i1p1f1-ssp370_climatology_mean_2020-2039.csv\n"
     ]
    },
    {
     "name": "stderr",
     "output_type": "stream",
     "text": [
      "C:\\Users\\Pekham_Ganguly\\AppData\\Local\\Temp\\ipykernel_10960\\754040362.py:26: FutureWarning: In a future version, xarray will not decode the variable 'anomaly-hi37-annual-mean' into a timedelta64 dtype based on the presence of a timedelta-like 'units' attribute by default. Instead it will rely on the presence of a timedelta64 'dtype' attribute, which is now xarray's default way of encoding timedelta64 values.\n",
      "To continue decoding into a timedelta64 dtype, either set `decode_timedelta=True` when opening this dataset, or add the attribute `dtype='timedelta64[ns]'` to this variable on disk.\n",
      "To opt-in to future behavior, set `decode_timedelta=False`.\n",
      "  ds = xr.open_dataset(nc_path)\n"
     ]
    },
    {
     "name": "stdout",
     "output_type": "stream",
     "text": [
      "Converted: D:/Cognitud/Heat Stress\\Hi37\\anomaly-hi37-annual-mean_cmip6-x0.25_ec-earth3-r1i1p1f1-ssp370_climatology_mean_2040-2059.nc -> D:/Cognitud/Heat_Stress_CSV\\Hi37\\anomaly-hi37-annual-mean_cmip6-x0.25_ec-earth3-r1i1p1f1-ssp370_climatology_mean_2040-2059.csv\n"
     ]
    },
    {
     "name": "stderr",
     "output_type": "stream",
     "text": [
      "C:\\Users\\Pekham_Ganguly\\AppData\\Local\\Temp\\ipykernel_10960\\754040362.py:26: FutureWarning: In a future version, xarray will not decode the variable 'anomaly-hi37-annual-mean' into a timedelta64 dtype based on the presence of a timedelta-like 'units' attribute by default. Instead it will rely on the presence of a timedelta64 'dtype' attribute, which is now xarray's default way of encoding timedelta64 values.\n",
      "To continue decoding into a timedelta64 dtype, either set `decode_timedelta=True` when opening this dataset, or add the attribute `dtype='timedelta64[ns]'` to this variable on disk.\n",
      "To opt-in to future behavior, set `decode_timedelta=False`.\n",
      "  ds = xr.open_dataset(nc_path)\n"
     ]
    },
    {
     "name": "stdout",
     "output_type": "stream",
     "text": [
      "Converted: D:/Cognitud/Heat Stress\\Hi37\\anomaly-hi37-annual-mean_cmip6-x0.25_ec-earth3-r1i1p1f1-ssp370_climatology_mean_2060-2079.nc -> D:/Cognitud/Heat_Stress_CSV\\Hi37\\anomaly-hi37-annual-mean_cmip6-x0.25_ec-earth3-r1i1p1f1-ssp370_climatology_mean_2060-2079.csv\n"
     ]
    },
    {
     "name": "stderr",
     "output_type": "stream",
     "text": [
      "C:\\Users\\Pekham_Ganguly\\AppData\\Local\\Temp\\ipykernel_10960\\754040362.py:26: FutureWarning: In a future version, xarray will not decode the variable 'anomaly-hi37-annual-mean' into a timedelta64 dtype based on the presence of a timedelta-like 'units' attribute by default. Instead it will rely on the presence of a timedelta64 'dtype' attribute, which is now xarray's default way of encoding timedelta64 values.\n",
      "To continue decoding into a timedelta64 dtype, either set `decode_timedelta=True` when opening this dataset, or add the attribute `dtype='timedelta64[ns]'` to this variable on disk.\n",
      "To opt-in to future behavior, set `decode_timedelta=False`.\n",
      "  ds = xr.open_dataset(nc_path)\n"
     ]
    },
    {
     "name": "stdout",
     "output_type": "stream",
     "text": [
      "Converted: D:/Cognitud/Heat Stress\\Hi37\\anomaly-hi37-annual-mean_cmip6-x0.25_ec-earth3-r1i1p1f1-ssp370_climatology_mean_2080-2099.nc -> D:/Cognitud/Heat_Stress_CSV\\Hi37\\anomaly-hi37-annual-mean_cmip6-x0.25_ec-earth3-r1i1p1f1-ssp370_climatology_mean_2080-2099.csv\n"
     ]
    },
    {
     "name": "stderr",
     "output_type": "stream",
     "text": [
      "C:\\Users\\Pekham_Ganguly\\AppData\\Local\\Temp\\ipykernel_10960\\754040362.py:26: FutureWarning: In a future version, xarray will not decode the variable 'anomaly-hi37-annual-mean' into a timedelta64 dtype based on the presence of a timedelta-like 'units' attribute by default. Instead it will rely on the presence of a timedelta64 'dtype' attribute, which is now xarray's default way of encoding timedelta64 values.\n",
      "To continue decoding into a timedelta64 dtype, either set `decode_timedelta=True` when opening this dataset, or add the attribute `dtype='timedelta64[ns]'` to this variable on disk.\n",
      "To opt-in to future behavior, set `decode_timedelta=False`.\n",
      "  ds = xr.open_dataset(nc_path)\n"
     ]
    },
    {
     "name": "stdout",
     "output_type": "stream",
     "text": [
      "Converted: D:/Cognitud/Heat Stress\\Hi37\\anomaly-hi37-annual-mean_cmip6-x0.25_ec-earth3-r1i1p1f1-ssp585_climatology_mean_2020-2039.nc -> D:/Cognitud/Heat_Stress_CSV\\Hi37\\anomaly-hi37-annual-mean_cmip6-x0.25_ec-earth3-r1i1p1f1-ssp585_climatology_mean_2020-2039.csv\n"
     ]
    },
    {
     "name": "stderr",
     "output_type": "stream",
     "text": [
      "C:\\Users\\Pekham_Ganguly\\AppData\\Local\\Temp\\ipykernel_10960\\754040362.py:26: FutureWarning: In a future version, xarray will not decode the variable 'anomaly-hi37-annual-mean' into a timedelta64 dtype based on the presence of a timedelta-like 'units' attribute by default. Instead it will rely on the presence of a timedelta64 'dtype' attribute, which is now xarray's default way of encoding timedelta64 values.\n",
      "To continue decoding into a timedelta64 dtype, either set `decode_timedelta=True` when opening this dataset, or add the attribute `dtype='timedelta64[ns]'` to this variable on disk.\n",
      "To opt-in to future behavior, set `decode_timedelta=False`.\n",
      "  ds = xr.open_dataset(nc_path)\n"
     ]
    },
    {
     "name": "stdout",
     "output_type": "stream",
     "text": [
      "Converted: D:/Cognitud/Heat Stress\\Hi37\\anomaly-hi37-annual-mean_cmip6-x0.25_ec-earth3-r1i1p1f1-ssp585_climatology_mean_2040-2059.nc -> D:/Cognitud/Heat_Stress_CSV\\Hi37\\anomaly-hi37-annual-mean_cmip6-x0.25_ec-earth3-r1i1p1f1-ssp585_climatology_mean_2040-2059.csv\n"
     ]
    },
    {
     "name": "stderr",
     "output_type": "stream",
     "text": [
      "C:\\Users\\Pekham_Ganguly\\AppData\\Local\\Temp\\ipykernel_10960\\754040362.py:26: FutureWarning: In a future version, xarray will not decode the variable 'anomaly-hi37-annual-mean' into a timedelta64 dtype based on the presence of a timedelta-like 'units' attribute by default. Instead it will rely on the presence of a timedelta64 'dtype' attribute, which is now xarray's default way of encoding timedelta64 values.\n",
      "To continue decoding into a timedelta64 dtype, either set `decode_timedelta=True` when opening this dataset, or add the attribute `dtype='timedelta64[ns]'` to this variable on disk.\n",
      "To opt-in to future behavior, set `decode_timedelta=False`.\n",
      "  ds = xr.open_dataset(nc_path)\n"
     ]
    },
    {
     "name": "stdout",
     "output_type": "stream",
     "text": [
      "Converted: D:/Cognitud/Heat Stress\\Hi37\\anomaly-hi37-annual-mean_cmip6-x0.25_ec-earth3-r1i1p1f1-ssp585_climatology_mean_2060-2079.nc -> D:/Cognitud/Heat_Stress_CSV\\Hi37\\anomaly-hi37-annual-mean_cmip6-x0.25_ec-earth3-r1i1p1f1-ssp585_climatology_mean_2060-2079.csv\n"
     ]
    },
    {
     "name": "stderr",
     "output_type": "stream",
     "text": [
      "C:\\Users\\Pekham_Ganguly\\AppData\\Local\\Temp\\ipykernel_10960\\754040362.py:26: FutureWarning: In a future version, xarray will not decode the variable 'anomaly-hi37-annual-mean' into a timedelta64 dtype based on the presence of a timedelta-like 'units' attribute by default. Instead it will rely on the presence of a timedelta64 'dtype' attribute, which is now xarray's default way of encoding timedelta64 values.\n",
      "To continue decoding into a timedelta64 dtype, either set `decode_timedelta=True` when opening this dataset, or add the attribute `dtype='timedelta64[ns]'` to this variable on disk.\n",
      "To opt-in to future behavior, set `decode_timedelta=False`.\n",
      "  ds = xr.open_dataset(nc_path)\n"
     ]
    },
    {
     "name": "stdout",
     "output_type": "stream",
     "text": [
      "Converted: D:/Cognitud/Heat Stress\\Hi37\\anomaly-hi37-annual-mean_cmip6-x0.25_ec-earth3-r1i1p1f1-ssp585_climatology_mean_2080-2099.nc -> D:/Cognitud/Heat_Stress_CSV\\Hi37\\anomaly-hi37-annual-mean_cmip6-x0.25_ec-earth3-r1i1p1f1-ssp585_climatology_mean_2080-2099.csv\n"
     ]
    },
    {
     "name": "stderr",
     "output_type": "stream",
     "text": [
      "C:\\Users\\Pekham_Ganguly\\AppData\\Local\\Temp\\ipykernel_10960\\754040362.py:26: FutureWarning: In a future version, xarray will not decode the variable 'anomaly-hi37-annual-mean' into a timedelta64 dtype based on the presence of a timedelta-like 'units' attribute by default. Instead it will rely on the presence of a timedelta64 'dtype' attribute, which is now xarray's default way of encoding timedelta64 values.\n",
      "To continue decoding into a timedelta64 dtype, either set `decode_timedelta=True` when opening this dataset, or add the attribute `dtype='timedelta64[ns]'` to this variable on disk.\n",
      "To opt-in to future behavior, set `decode_timedelta=False`.\n",
      "  ds = xr.open_dataset(nc_path)\n"
     ]
    },
    {
     "name": "stdout",
     "output_type": "stream",
     "text": [
      "Converted: D:/Cognitud/Heat Stress\\Hi37\\anomaly-hi37-annual-mean_cmip6-x0.25_ec-earth3-veg-lr-r1i1p1f1-ssp245_climatology_mean_2020-2039.nc -> D:/Cognitud/Heat_Stress_CSV\\Hi37\\anomaly-hi37-annual-mean_cmip6-x0.25_ec-earth3-veg-lr-r1i1p1f1-ssp245_climatology_mean_2020-2039.csv\n"
     ]
    },
    {
     "name": "stderr",
     "output_type": "stream",
     "text": [
      "C:\\Users\\Pekham_Ganguly\\AppData\\Local\\Temp\\ipykernel_10960\\754040362.py:26: FutureWarning: In a future version, xarray will not decode the variable 'anomaly-hi37-annual-mean' into a timedelta64 dtype based on the presence of a timedelta-like 'units' attribute by default. Instead it will rely on the presence of a timedelta64 'dtype' attribute, which is now xarray's default way of encoding timedelta64 values.\n",
      "To continue decoding into a timedelta64 dtype, either set `decode_timedelta=True` when opening this dataset, or add the attribute `dtype='timedelta64[ns]'` to this variable on disk.\n",
      "To opt-in to future behavior, set `decode_timedelta=False`.\n",
      "  ds = xr.open_dataset(nc_path)\n"
     ]
    },
    {
     "name": "stdout",
     "output_type": "stream",
     "text": [
      "Converted: D:/Cognitud/Heat Stress\\Hi37\\anomaly-hi37-annual-mean_cmip6-x0.25_ec-earth3-veg-lr-r1i1p1f1-ssp245_climatology_mean_2040-2059.nc -> D:/Cognitud/Heat_Stress_CSV\\Hi37\\anomaly-hi37-annual-mean_cmip6-x0.25_ec-earth3-veg-lr-r1i1p1f1-ssp245_climatology_mean_2040-2059.csv\n"
     ]
    },
    {
     "name": "stderr",
     "output_type": "stream",
     "text": [
      "C:\\Users\\Pekham_Ganguly\\AppData\\Local\\Temp\\ipykernel_10960\\754040362.py:26: FutureWarning: In a future version, xarray will not decode the variable 'anomaly-hi37-annual-mean' into a timedelta64 dtype based on the presence of a timedelta-like 'units' attribute by default. Instead it will rely on the presence of a timedelta64 'dtype' attribute, which is now xarray's default way of encoding timedelta64 values.\n",
      "To continue decoding into a timedelta64 dtype, either set `decode_timedelta=True` when opening this dataset, or add the attribute `dtype='timedelta64[ns]'` to this variable on disk.\n",
      "To opt-in to future behavior, set `decode_timedelta=False`.\n",
      "  ds = xr.open_dataset(nc_path)\n"
     ]
    },
    {
     "name": "stdout",
     "output_type": "stream",
     "text": [
      "Converted: D:/Cognitud/Heat Stress\\Hi37\\anomaly-hi37-annual-mean_cmip6-x0.25_ec-earth3-veg-lr-r1i1p1f1-ssp245_climatology_mean_2060-2079.nc -> D:/Cognitud/Heat_Stress_CSV\\Hi37\\anomaly-hi37-annual-mean_cmip6-x0.25_ec-earth3-veg-lr-r1i1p1f1-ssp245_climatology_mean_2060-2079.csv\n"
     ]
    },
    {
     "name": "stderr",
     "output_type": "stream",
     "text": [
      "C:\\Users\\Pekham_Ganguly\\AppData\\Local\\Temp\\ipykernel_10960\\754040362.py:26: FutureWarning: In a future version, xarray will not decode the variable 'anomaly-hi37-annual-mean' into a timedelta64 dtype based on the presence of a timedelta-like 'units' attribute by default. Instead it will rely on the presence of a timedelta64 'dtype' attribute, which is now xarray's default way of encoding timedelta64 values.\n",
      "To continue decoding into a timedelta64 dtype, either set `decode_timedelta=True` when opening this dataset, or add the attribute `dtype='timedelta64[ns]'` to this variable on disk.\n",
      "To opt-in to future behavior, set `decode_timedelta=False`.\n",
      "  ds = xr.open_dataset(nc_path)\n"
     ]
    },
    {
     "name": "stdout",
     "output_type": "stream",
     "text": [
      "Converted: D:/Cognitud/Heat Stress\\Hi37\\anomaly-hi37-annual-mean_cmip6-x0.25_ec-earth3-veg-lr-r1i1p1f1-ssp245_climatology_mean_2080-2099.nc -> D:/Cognitud/Heat_Stress_CSV\\Hi37\\anomaly-hi37-annual-mean_cmip6-x0.25_ec-earth3-veg-lr-r1i1p1f1-ssp245_climatology_mean_2080-2099.csv\n"
     ]
    },
    {
     "name": "stderr",
     "output_type": "stream",
     "text": [
      "C:\\Users\\Pekham_Ganguly\\AppData\\Local\\Temp\\ipykernel_10960\\754040362.py:26: FutureWarning: In a future version, xarray will not decode the variable 'anomaly-hi37-annual-mean' into a timedelta64 dtype based on the presence of a timedelta-like 'units' attribute by default. Instead it will rely on the presence of a timedelta64 'dtype' attribute, which is now xarray's default way of encoding timedelta64 values.\n",
      "To continue decoding into a timedelta64 dtype, either set `decode_timedelta=True` when opening this dataset, or add the attribute `dtype='timedelta64[ns]'` to this variable on disk.\n",
      "To opt-in to future behavior, set `decode_timedelta=False`.\n",
      "  ds = xr.open_dataset(nc_path)\n"
     ]
    },
    {
     "name": "stdout",
     "output_type": "stream",
     "text": [
      "Converted: D:/Cognitud/Heat Stress\\Hi37\\anomaly-hi37-annual-mean_cmip6-x0.25_ensemble-all-ssp119_climatology_median_2020-2039.nc -> D:/Cognitud/Heat_Stress_CSV\\Hi37\\anomaly-hi37-annual-mean_cmip6-x0.25_ensemble-all-ssp119_climatology_median_2020-2039.csv\n"
     ]
    },
    {
     "name": "stderr",
     "output_type": "stream",
     "text": [
      "C:\\Users\\Pekham_Ganguly\\AppData\\Local\\Temp\\ipykernel_10960\\754040362.py:26: FutureWarning: In a future version, xarray will not decode the variable 'anomaly-hi37-annual-mean' into a timedelta64 dtype based on the presence of a timedelta-like 'units' attribute by default. Instead it will rely on the presence of a timedelta64 'dtype' attribute, which is now xarray's default way of encoding timedelta64 values.\n",
      "To continue decoding into a timedelta64 dtype, either set `decode_timedelta=True` when opening this dataset, or add the attribute `dtype='timedelta64[ns]'` to this variable on disk.\n",
      "To opt-in to future behavior, set `decode_timedelta=False`.\n",
      "  ds = xr.open_dataset(nc_path)\n"
     ]
    },
    {
     "name": "stdout",
     "output_type": "stream",
     "text": [
      "Converted: D:/Cognitud/Heat Stress\\Hi37\\anomaly-hi37-annual-mean_cmip6-x0.25_ensemble-all-ssp119_climatology_median_2040-2059.nc -> D:/Cognitud/Heat_Stress_CSV\\Hi37\\anomaly-hi37-annual-mean_cmip6-x0.25_ensemble-all-ssp119_climatology_median_2040-2059.csv\n"
     ]
    },
    {
     "name": "stderr",
     "output_type": "stream",
     "text": [
      "C:\\Users\\Pekham_Ganguly\\AppData\\Local\\Temp\\ipykernel_10960\\754040362.py:26: FutureWarning: In a future version, xarray will not decode the variable 'anomaly-hi37-annual-mean' into a timedelta64 dtype based on the presence of a timedelta-like 'units' attribute by default. Instead it will rely on the presence of a timedelta64 'dtype' attribute, which is now xarray's default way of encoding timedelta64 values.\n",
      "To continue decoding into a timedelta64 dtype, either set `decode_timedelta=True` when opening this dataset, or add the attribute `dtype='timedelta64[ns]'` to this variable on disk.\n",
      "To opt-in to future behavior, set `decode_timedelta=False`.\n",
      "  ds = xr.open_dataset(nc_path)\n"
     ]
    },
    {
     "name": "stdout",
     "output_type": "stream",
     "text": [
      "Converted: D:/Cognitud/Heat Stress\\Hi37\\anomaly-hi37-annual-mean_cmip6-x0.25_ensemble-all-ssp119_climatology_median_2060-2079.nc -> D:/Cognitud/Heat_Stress_CSV\\Hi37\\anomaly-hi37-annual-mean_cmip6-x0.25_ensemble-all-ssp119_climatology_median_2060-2079.csv\n"
     ]
    },
    {
     "name": "stderr",
     "output_type": "stream",
     "text": [
      "C:\\Users\\Pekham_Ganguly\\AppData\\Local\\Temp\\ipykernel_10960\\754040362.py:26: FutureWarning: In a future version, xarray will not decode the variable 'anomaly-hi37-annual-mean' into a timedelta64 dtype based on the presence of a timedelta-like 'units' attribute by default. Instead it will rely on the presence of a timedelta64 'dtype' attribute, which is now xarray's default way of encoding timedelta64 values.\n",
      "To continue decoding into a timedelta64 dtype, either set `decode_timedelta=True` when opening this dataset, or add the attribute `dtype='timedelta64[ns]'` to this variable on disk.\n",
      "To opt-in to future behavior, set `decode_timedelta=False`.\n",
      "  ds = xr.open_dataset(nc_path)\n"
     ]
    },
    {
     "name": "stdout",
     "output_type": "stream",
     "text": [
      "Converted: D:/Cognitud/Heat Stress\\Hi37\\anomaly-hi37-annual-mean_cmip6-x0.25_ensemble-all-ssp119_climatology_median_2080-2099.nc -> D:/Cognitud/Heat_Stress_CSV\\Hi37\\anomaly-hi37-annual-mean_cmip6-x0.25_ensemble-all-ssp119_climatology_median_2080-2099.csv\n"
     ]
    },
    {
     "name": "stderr",
     "output_type": "stream",
     "text": [
      "C:\\Users\\Pekham_Ganguly\\AppData\\Local\\Temp\\ipykernel_10960\\754040362.py:26: FutureWarning: In a future version, xarray will not decode the variable 'climatology-hi37-annual-mean' into a timedelta64 dtype based on the presence of a timedelta-like 'units' attribute by default. Instead it will rely on the presence of a timedelta64 'dtype' attribute, which is now xarray's default way of encoding timedelta64 values.\n",
      "To continue decoding into a timedelta64 dtype, either set `decode_timedelta=True` when opening this dataset, or add the attribute `dtype='timedelta64[ns]'` to this variable on disk.\n",
      "To opt-in to future behavior, set `decode_timedelta=False`.\n",
      "  ds = xr.open_dataset(nc_path)\n"
     ]
    },
    {
     "name": "stdout",
     "output_type": "stream",
     "text": [
      "Converted: D:/Cognitud/Heat Stress\\Hi37\\climatology-hi37-annual-mean_cmip6-x0.25_ensemble-all-historical_climatology_median_1995-2014.nc -> D:/Cognitud/Heat_Stress_CSV\\Hi37\\climatology-hi37-annual-mean_cmip6-x0.25_ensemble-all-historical_climatology_median_1995-2014.csv\n"
     ]
    },
    {
     "name": "stderr",
     "output_type": "stream",
     "text": [
      "C:\\Users\\Pekham_Ganguly\\AppData\\Local\\Temp\\ipykernel_10960\\754040362.py:26: FutureWarning: In a future version, xarray will not decode the variable 'climatology-hi37-annual-mean' into a timedelta64 dtype based on the presence of a timedelta-like 'units' attribute by default. Instead it will rely on the presence of a timedelta64 'dtype' attribute, which is now xarray's default way of encoding timedelta64 values.\n",
      "To continue decoding into a timedelta64 dtype, either set `decode_timedelta=True` when opening this dataset, or add the attribute `dtype='timedelta64[ns]'` to this variable on disk.\n",
      "To opt-in to future behavior, set `decode_timedelta=False`.\n",
      "  ds = xr.open_dataset(nc_path)\n"
     ]
    },
    {
     "name": "stdout",
     "output_type": "stream",
     "text": [
      "Converted: D:/Cognitud/Heat Stress\\Hi37\\climatology-hi37-annual-mean_cmip6-x0.25_ensemble-all-historical_climatology_p10_1995-2014.nc -> D:/Cognitud/Heat_Stress_CSV\\Hi37\\climatology-hi37-annual-mean_cmip6-x0.25_ensemble-all-historical_climatology_p10_1995-2014.csv\n"
     ]
    },
    {
     "name": "stderr",
     "output_type": "stream",
     "text": [
      "C:\\Users\\Pekham_Ganguly\\AppData\\Local\\Temp\\ipykernel_10960\\754040362.py:26: FutureWarning: In a future version, xarray will not decode the variable 'climatology-hi37-annual-mean' into a timedelta64 dtype based on the presence of a timedelta-like 'units' attribute by default. Instead it will rely on the presence of a timedelta64 'dtype' attribute, which is now xarray's default way of encoding timedelta64 values.\n",
      "To continue decoding into a timedelta64 dtype, either set `decode_timedelta=True` when opening this dataset, or add the attribute `dtype='timedelta64[ns]'` to this variable on disk.\n",
      "To opt-in to future behavior, set `decode_timedelta=False`.\n",
      "  ds = xr.open_dataset(nc_path)\n"
     ]
    },
    {
     "name": "stdout",
     "output_type": "stream",
     "text": [
      "Converted: D:/Cognitud/Heat Stress\\Hi37\\climatology-hi37-annual-mean_cmip6-x0.25_ensemble-all-historical_climatology_p90_1995-2014.nc -> D:/Cognitud/Heat_Stress_CSV\\Hi37\\climatology-hi37-annual-mean_cmip6-x0.25_ensemble-all-historical_climatology_p90_1995-2014.csv\n"
     ]
    },
    {
     "name": "stderr",
     "output_type": "stream",
     "text": [
      "C:\\Users\\Pekham_Ganguly\\AppData\\Local\\Temp\\ipykernel_10960\\754040362.py:26: FutureWarning: In a future version, xarray will not decode the variable 'anomaly-hi39-annual-mean' into a timedelta64 dtype based on the presence of a timedelta-like 'units' attribute by default. Instead it will rely on the presence of a timedelta64 'dtype' attribute, which is now xarray's default way of encoding timedelta64 values.\n",
      "To continue decoding into a timedelta64 dtype, either set `decode_timedelta=True` when opening this dataset, or add the attribute `dtype='timedelta64[ns]'` to this variable on disk.\n",
      "To opt-in to future behavior, set `decode_timedelta=False`.\n",
      "  ds = xr.open_dataset(nc_path)\n"
     ]
    },
    {
     "name": "stdout",
     "output_type": "stream",
     "text": [
      "Converted: D:/Cognitud/Heat Stress\\Hi39\\anomaly-hi39-annual-mean_cmip6-x0.25_ec-earth3-veg-lr-r1i1p1f1-ssp370_climatology_mean_2020-2039.nc -> D:/Cognitud/Heat_Stress_CSV\\Hi39\\anomaly-hi39-annual-mean_cmip6-x0.25_ec-earth3-veg-lr-r1i1p1f1-ssp370_climatology_mean_2020-2039.csv\n"
     ]
    },
    {
     "name": "stderr",
     "output_type": "stream",
     "text": [
      "C:\\Users\\Pekham_Ganguly\\AppData\\Local\\Temp\\ipykernel_10960\\754040362.py:26: FutureWarning: In a future version, xarray will not decode the variable 'anomaly-hi39-annual-mean' into a timedelta64 dtype based on the presence of a timedelta-like 'units' attribute by default. Instead it will rely on the presence of a timedelta64 'dtype' attribute, which is now xarray's default way of encoding timedelta64 values.\n",
      "To continue decoding into a timedelta64 dtype, either set `decode_timedelta=True` when opening this dataset, or add the attribute `dtype='timedelta64[ns]'` to this variable on disk.\n",
      "To opt-in to future behavior, set `decode_timedelta=False`.\n",
      "  ds = xr.open_dataset(nc_path)\n"
     ]
    },
    {
     "name": "stdout",
     "output_type": "stream",
     "text": [
      "Converted: D:/Cognitud/Heat Stress\\Hi39\\anomaly-hi39-annual-mean_cmip6-x0.25_ec-earth3-veg-lr-r1i1p1f1-ssp370_climatology_mean_2040-2059.nc -> D:/Cognitud/Heat_Stress_CSV\\Hi39\\anomaly-hi39-annual-mean_cmip6-x0.25_ec-earth3-veg-lr-r1i1p1f1-ssp370_climatology_mean_2040-2059.csv\n"
     ]
    },
    {
     "name": "stderr",
     "output_type": "stream",
     "text": [
      "C:\\Users\\Pekham_Ganguly\\AppData\\Local\\Temp\\ipykernel_10960\\754040362.py:26: FutureWarning: In a future version, xarray will not decode the variable 'anomaly-hi39-annual-mean' into a timedelta64 dtype based on the presence of a timedelta-like 'units' attribute by default. Instead it will rely on the presence of a timedelta64 'dtype' attribute, which is now xarray's default way of encoding timedelta64 values.\n",
      "To continue decoding into a timedelta64 dtype, either set `decode_timedelta=True` when opening this dataset, or add the attribute `dtype='timedelta64[ns]'` to this variable on disk.\n",
      "To opt-in to future behavior, set `decode_timedelta=False`.\n",
      "  ds = xr.open_dataset(nc_path)\n"
     ]
    },
    {
     "name": "stdout",
     "output_type": "stream",
     "text": [
      "Converted: D:/Cognitud/Heat Stress\\Hi39\\anomaly-hi39-annual-mean_cmip6-x0.25_ec-earth3-veg-lr-r1i1p1f1-ssp370_climatology_mean_2060-2079.nc -> D:/Cognitud/Heat_Stress_CSV\\Hi39\\anomaly-hi39-annual-mean_cmip6-x0.25_ec-earth3-veg-lr-r1i1p1f1-ssp370_climatology_mean_2060-2079.csv\n"
     ]
    },
    {
     "name": "stderr",
     "output_type": "stream",
     "text": [
      "C:\\Users\\Pekham_Ganguly\\AppData\\Local\\Temp\\ipykernel_10960\\754040362.py:26: FutureWarning: In a future version, xarray will not decode the variable 'anomaly-hi39-annual-mean' into a timedelta64 dtype based on the presence of a timedelta-like 'units' attribute by default. Instead it will rely on the presence of a timedelta64 'dtype' attribute, which is now xarray's default way of encoding timedelta64 values.\n",
      "To continue decoding into a timedelta64 dtype, either set `decode_timedelta=True` when opening this dataset, or add the attribute `dtype='timedelta64[ns]'` to this variable on disk.\n",
      "To opt-in to future behavior, set `decode_timedelta=False`.\n",
      "  ds = xr.open_dataset(nc_path)\n"
     ]
    },
    {
     "name": "stdout",
     "output_type": "stream",
     "text": [
      "Converted: D:/Cognitud/Heat Stress\\Hi39\\anomaly-hi39-annual-mean_cmip6-x0.25_ec-earth3-veg-lr-r1i1p1f1-ssp370_climatology_mean_2080-2099.nc -> D:/Cognitud/Heat_Stress_CSV\\Hi39\\anomaly-hi39-annual-mean_cmip6-x0.25_ec-earth3-veg-lr-r1i1p1f1-ssp370_climatology_mean_2080-2099.csv\n"
     ]
    },
    {
     "name": "stderr",
     "output_type": "stream",
     "text": [
      "C:\\Users\\Pekham_Ganguly\\AppData\\Local\\Temp\\ipykernel_10960\\754040362.py:26: FutureWarning: In a future version, xarray will not decode the variable 'anomaly-hi39-annual-mean' into a timedelta64 dtype based on the presence of a timedelta-like 'units' attribute by default. Instead it will rely on the presence of a timedelta64 'dtype' attribute, which is now xarray's default way of encoding timedelta64 values.\n",
      "To continue decoding into a timedelta64 dtype, either set `decode_timedelta=True` when opening this dataset, or add the attribute `dtype='timedelta64[ns]'` to this variable on disk.\n",
      "To opt-in to future behavior, set `decode_timedelta=False`.\n",
      "  ds = xr.open_dataset(nc_path)\n"
     ]
    },
    {
     "name": "stdout",
     "output_type": "stream",
     "text": [
      "Converted: D:/Cognitud/Heat Stress\\Hi39\\anomaly-hi39-annual-mean_cmip6-x0.25_ec-earth3-veg-lr-r1i1p1f1-ssp585_climatology_mean_2020-2039.nc -> D:/Cognitud/Heat_Stress_CSV\\Hi39\\anomaly-hi39-annual-mean_cmip6-x0.25_ec-earth3-veg-lr-r1i1p1f1-ssp585_climatology_mean_2020-2039.csv\n"
     ]
    },
    {
     "name": "stderr",
     "output_type": "stream",
     "text": [
      "C:\\Users\\Pekham_Ganguly\\AppData\\Local\\Temp\\ipykernel_10960\\754040362.py:26: FutureWarning: In a future version, xarray will not decode the variable 'anomaly-hi39-annual-mean' into a timedelta64 dtype based on the presence of a timedelta-like 'units' attribute by default. Instead it will rely on the presence of a timedelta64 'dtype' attribute, which is now xarray's default way of encoding timedelta64 values.\n",
      "To continue decoding into a timedelta64 dtype, either set `decode_timedelta=True` when opening this dataset, or add the attribute `dtype='timedelta64[ns]'` to this variable on disk.\n",
      "To opt-in to future behavior, set `decode_timedelta=False`.\n",
      "  ds = xr.open_dataset(nc_path)\n"
     ]
    },
    {
     "name": "stdout",
     "output_type": "stream",
     "text": [
      "Converted: D:/Cognitud/Heat Stress\\Hi39\\anomaly-hi39-annual-mean_cmip6-x0.25_ec-earth3-veg-lr-r1i1p1f1-ssp585_climatology_mean_2040-2059.nc -> D:/Cognitud/Heat_Stress_CSV\\Hi39\\anomaly-hi39-annual-mean_cmip6-x0.25_ec-earth3-veg-lr-r1i1p1f1-ssp585_climatology_mean_2040-2059.csv\n"
     ]
    },
    {
     "name": "stderr",
     "output_type": "stream",
     "text": [
      "C:\\Users\\Pekham_Ganguly\\AppData\\Local\\Temp\\ipykernel_10960\\754040362.py:26: FutureWarning: In a future version, xarray will not decode the variable 'anomaly-hi39-annual-mean' into a timedelta64 dtype based on the presence of a timedelta-like 'units' attribute by default. Instead it will rely on the presence of a timedelta64 'dtype' attribute, which is now xarray's default way of encoding timedelta64 values.\n",
      "To continue decoding into a timedelta64 dtype, either set `decode_timedelta=True` when opening this dataset, or add the attribute `dtype='timedelta64[ns]'` to this variable on disk.\n",
      "To opt-in to future behavior, set `decode_timedelta=False`.\n",
      "  ds = xr.open_dataset(nc_path)\n"
     ]
    },
    {
     "name": "stdout",
     "output_type": "stream",
     "text": [
      "Converted: D:/Cognitud/Heat Stress\\Hi39\\anomaly-hi39-annual-mean_cmip6-x0.25_ec-earth3-veg-lr-r1i1p1f1-ssp585_climatology_mean_2060-2079.nc -> D:/Cognitud/Heat_Stress_CSV\\Hi39\\anomaly-hi39-annual-mean_cmip6-x0.25_ec-earth3-veg-lr-r1i1p1f1-ssp585_climatology_mean_2060-2079.csv\n"
     ]
    },
    {
     "name": "stderr",
     "output_type": "stream",
     "text": [
      "C:\\Users\\Pekham_Ganguly\\AppData\\Local\\Temp\\ipykernel_10960\\754040362.py:26: FutureWarning: In a future version, xarray will not decode the variable 'anomaly-hi39-annual-mean' into a timedelta64 dtype based on the presence of a timedelta-like 'units' attribute by default. Instead it will rely on the presence of a timedelta64 'dtype' attribute, which is now xarray's default way of encoding timedelta64 values.\n",
      "To continue decoding into a timedelta64 dtype, either set `decode_timedelta=True` when opening this dataset, or add the attribute `dtype='timedelta64[ns]'` to this variable on disk.\n",
      "To opt-in to future behavior, set `decode_timedelta=False`.\n",
      "  ds = xr.open_dataset(nc_path)\n"
     ]
    },
    {
     "name": "stdout",
     "output_type": "stream",
     "text": [
      "Converted: D:/Cognitud/Heat Stress\\Hi39\\anomaly-hi39-annual-mean_cmip6-x0.25_ec-earth3-veg-lr-r1i1p1f1-ssp585_climatology_mean_2080-2099.nc -> D:/Cognitud/Heat_Stress_CSV\\Hi39\\anomaly-hi39-annual-mean_cmip6-x0.25_ec-earth3-veg-lr-r1i1p1f1-ssp585_climatology_mean_2080-2099.csv\n"
     ]
    },
    {
     "name": "stderr",
     "output_type": "stream",
     "text": [
      "C:\\Users\\Pekham_Ganguly\\AppData\\Local\\Temp\\ipykernel_10960\\754040362.py:26: FutureWarning: In a future version, xarray will not decode the variable 'anomaly-hi39-annual-mean' into a timedelta64 dtype based on the presence of a timedelta-like 'units' attribute by default. Instead it will rely on the presence of a timedelta64 'dtype' attribute, which is now xarray's default way of encoding timedelta64 values.\n",
      "To continue decoding into a timedelta64 dtype, either set `decode_timedelta=True` when opening this dataset, or add the attribute `dtype='timedelta64[ns]'` to this variable on disk.\n",
      "To opt-in to future behavior, set `decode_timedelta=False`.\n",
      "  ds = xr.open_dataset(nc_path)\n"
     ]
    },
    {
     "name": "stdout",
     "output_type": "stream",
     "text": [
      "Converted: D:/Cognitud/Heat Stress\\Hi39\\anomaly-hi39-annual-mean_cmip6-x0.25_ensemble-all-ssp119_climatology_median_2020-2039.nc -> D:/Cognitud/Heat_Stress_CSV\\Hi39\\anomaly-hi39-annual-mean_cmip6-x0.25_ensemble-all-ssp119_climatology_median_2020-2039.csv\n"
     ]
    },
    {
     "name": "stderr",
     "output_type": "stream",
     "text": [
      "C:\\Users\\Pekham_Ganguly\\AppData\\Local\\Temp\\ipykernel_10960\\754040362.py:26: FutureWarning: In a future version, xarray will not decode the variable 'anomaly-hi39-annual-mean' into a timedelta64 dtype based on the presence of a timedelta-like 'units' attribute by default. Instead it will rely on the presence of a timedelta64 'dtype' attribute, which is now xarray's default way of encoding timedelta64 values.\n",
      "To continue decoding into a timedelta64 dtype, either set `decode_timedelta=True` when opening this dataset, or add the attribute `dtype='timedelta64[ns]'` to this variable on disk.\n",
      "To opt-in to future behavior, set `decode_timedelta=False`.\n",
      "  ds = xr.open_dataset(nc_path)\n"
     ]
    },
    {
     "name": "stdout",
     "output_type": "stream",
     "text": [
      "Converted: D:/Cognitud/Heat Stress\\Hi39\\anomaly-hi39-annual-mean_cmip6-x0.25_ensemble-all-ssp119_climatology_median_2040-2059.nc -> D:/Cognitud/Heat_Stress_CSV\\Hi39\\anomaly-hi39-annual-mean_cmip6-x0.25_ensemble-all-ssp119_climatology_median_2040-2059.csv\n"
     ]
    },
    {
     "name": "stderr",
     "output_type": "stream",
     "text": [
      "C:\\Users\\Pekham_Ganguly\\AppData\\Local\\Temp\\ipykernel_10960\\754040362.py:26: FutureWarning: In a future version, xarray will not decode the variable 'anomaly-hi39-annual-mean' into a timedelta64 dtype based on the presence of a timedelta-like 'units' attribute by default. Instead it will rely on the presence of a timedelta64 'dtype' attribute, which is now xarray's default way of encoding timedelta64 values.\n",
      "To continue decoding into a timedelta64 dtype, either set `decode_timedelta=True` when opening this dataset, or add the attribute `dtype='timedelta64[ns]'` to this variable on disk.\n",
      "To opt-in to future behavior, set `decode_timedelta=False`.\n",
      "  ds = xr.open_dataset(nc_path)\n"
     ]
    },
    {
     "name": "stdout",
     "output_type": "stream",
     "text": [
      "Converted: D:/Cognitud/Heat Stress\\Hi39\\anomaly-hi39-annual-mean_cmip6-x0.25_ensemble-all-ssp119_climatology_median_2060-2079.nc -> D:/Cognitud/Heat_Stress_CSV\\Hi39\\anomaly-hi39-annual-mean_cmip6-x0.25_ensemble-all-ssp119_climatology_median_2060-2079.csv\n"
     ]
    },
    {
     "name": "stderr",
     "output_type": "stream",
     "text": [
      "C:\\Users\\Pekham_Ganguly\\AppData\\Local\\Temp\\ipykernel_10960\\754040362.py:26: FutureWarning: In a future version, xarray will not decode the variable 'anomaly-hi39-annual-mean' into a timedelta64 dtype based on the presence of a timedelta-like 'units' attribute by default. Instead it will rely on the presence of a timedelta64 'dtype' attribute, which is now xarray's default way of encoding timedelta64 values.\n",
      "To continue decoding into a timedelta64 dtype, either set `decode_timedelta=True` when opening this dataset, or add the attribute `dtype='timedelta64[ns]'` to this variable on disk.\n",
      "To opt-in to future behavior, set `decode_timedelta=False`.\n",
      "  ds = xr.open_dataset(nc_path)\n"
     ]
    },
    {
     "name": "stdout",
     "output_type": "stream",
     "text": [
      "Converted: D:/Cognitud/Heat Stress\\Hi39\\anomaly-hi39-annual-mean_cmip6-x0.25_ensemble-all-ssp119_climatology_median_2080-2099.nc -> D:/Cognitud/Heat_Stress_CSV\\Hi39\\anomaly-hi39-annual-mean_cmip6-x0.25_ensemble-all-ssp119_climatology_median_2080-2099.csv\n"
     ]
    },
    {
     "name": "stderr",
     "output_type": "stream",
     "text": [
      "C:\\Users\\Pekham_Ganguly\\AppData\\Local\\Temp\\ipykernel_10960\\754040362.py:26: FutureWarning: In a future version, xarray will not decode the variable 'anomaly-hi39-annual-mean' into a timedelta64 dtype based on the presence of a timedelta-like 'units' attribute by default. Instead it will rely on the presence of a timedelta64 'dtype' attribute, which is now xarray's default way of encoding timedelta64 values.\n",
      "To continue decoding into a timedelta64 dtype, either set `decode_timedelta=True` when opening this dataset, or add the attribute `dtype='timedelta64[ns]'` to this variable on disk.\n",
      "To opt-in to future behavior, set `decode_timedelta=False`.\n",
      "  ds = xr.open_dataset(nc_path)\n"
     ]
    },
    {
     "name": "stdout",
     "output_type": "stream",
     "text": [
      "Converted: D:/Cognitud/Heat Stress\\Hi39\\anomaly-hi39-annual-mean_cmip6-x0.25_ensemble-all-ssp126_climatology_median_2020-2039.nc -> D:/Cognitud/Heat_Stress_CSV\\Hi39\\anomaly-hi39-annual-mean_cmip6-x0.25_ensemble-all-ssp126_climatology_median_2020-2039.csv\n"
     ]
    },
    {
     "name": "stderr",
     "output_type": "stream",
     "text": [
      "C:\\Users\\Pekham_Ganguly\\AppData\\Local\\Temp\\ipykernel_10960\\754040362.py:26: FutureWarning: In a future version, xarray will not decode the variable 'anomaly-hi39-annual-mean' into a timedelta64 dtype based on the presence of a timedelta-like 'units' attribute by default. Instead it will rely on the presence of a timedelta64 'dtype' attribute, which is now xarray's default way of encoding timedelta64 values.\n",
      "To continue decoding into a timedelta64 dtype, either set `decode_timedelta=True` when opening this dataset, or add the attribute `dtype='timedelta64[ns]'` to this variable on disk.\n",
      "To opt-in to future behavior, set `decode_timedelta=False`.\n",
      "  ds = xr.open_dataset(nc_path)\n"
     ]
    },
    {
     "name": "stdout",
     "output_type": "stream",
     "text": [
      "Converted: D:/Cognitud/Heat Stress\\Hi39\\anomaly-hi39-annual-mean_cmip6-x0.25_ensemble-all-ssp126_climatology_median_2040-2059.nc -> D:/Cognitud/Heat_Stress_CSV\\Hi39\\anomaly-hi39-annual-mean_cmip6-x0.25_ensemble-all-ssp126_climatology_median_2040-2059.csv\n"
     ]
    },
    {
     "name": "stderr",
     "output_type": "stream",
     "text": [
      "C:\\Users\\Pekham_Ganguly\\AppData\\Local\\Temp\\ipykernel_10960\\754040362.py:26: FutureWarning: In a future version, xarray will not decode the variable 'anomaly-hi39-annual-mean' into a timedelta64 dtype based on the presence of a timedelta-like 'units' attribute by default. Instead it will rely on the presence of a timedelta64 'dtype' attribute, which is now xarray's default way of encoding timedelta64 values.\n",
      "To continue decoding into a timedelta64 dtype, either set `decode_timedelta=True` when opening this dataset, or add the attribute `dtype='timedelta64[ns]'` to this variable on disk.\n",
      "To opt-in to future behavior, set `decode_timedelta=False`.\n",
      "  ds = xr.open_dataset(nc_path)\n"
     ]
    },
    {
     "name": "stdout",
     "output_type": "stream",
     "text": [
      "Converted: D:/Cognitud/Heat Stress\\Hi39\\anomaly-hi39-annual-mean_cmip6-x0.25_ensemble-all-ssp126_climatology_median_2060-2079.nc -> D:/Cognitud/Heat_Stress_CSV\\Hi39\\anomaly-hi39-annual-mean_cmip6-x0.25_ensemble-all-ssp126_climatology_median_2060-2079.csv\n"
     ]
    },
    {
     "name": "stderr",
     "output_type": "stream",
     "text": [
      "C:\\Users\\Pekham_Ganguly\\AppData\\Local\\Temp\\ipykernel_10960\\754040362.py:26: FutureWarning: In a future version, xarray will not decode the variable 'anomaly-hi39-annual-mean' into a timedelta64 dtype based on the presence of a timedelta-like 'units' attribute by default. Instead it will rely on the presence of a timedelta64 'dtype' attribute, which is now xarray's default way of encoding timedelta64 values.\n",
      "To continue decoding into a timedelta64 dtype, either set `decode_timedelta=True` when opening this dataset, or add the attribute `dtype='timedelta64[ns]'` to this variable on disk.\n",
      "To opt-in to future behavior, set `decode_timedelta=False`.\n",
      "  ds = xr.open_dataset(nc_path)\n"
     ]
    },
    {
     "name": "stdout",
     "output_type": "stream",
     "text": [
      "Converted: D:/Cognitud/Heat Stress\\Hi39\\anomaly-hi39-annual-mean_cmip6-x0.25_ensemble-all-ssp126_climatology_median_2080-2099.nc -> D:/Cognitud/Heat_Stress_CSV\\Hi39\\anomaly-hi39-annual-mean_cmip6-x0.25_ensemble-all-ssp126_climatology_median_2080-2099.csv\n"
     ]
    },
    {
     "name": "stderr",
     "output_type": "stream",
     "text": [
      "C:\\Users\\Pekham_Ganguly\\AppData\\Local\\Temp\\ipykernel_10960\\754040362.py:26: FutureWarning: In a future version, xarray will not decode the variable 'anomaly-hi39-annual-mean' into a timedelta64 dtype based on the presence of a timedelta-like 'units' attribute by default. Instead it will rely on the presence of a timedelta64 'dtype' attribute, which is now xarray's default way of encoding timedelta64 values.\n",
      "To continue decoding into a timedelta64 dtype, either set `decode_timedelta=True` when opening this dataset, or add the attribute `dtype='timedelta64[ns]'` to this variable on disk.\n",
      "To opt-in to future behavior, set `decode_timedelta=False`.\n",
      "  ds = xr.open_dataset(nc_path)\n"
     ]
    },
    {
     "name": "stdout",
     "output_type": "stream",
     "text": [
      "Converted: D:/Cognitud/Heat Stress\\Hi39\\anomaly-hi39-annual-mean_cmip6-x0.25_ensemble-all-ssp245_climatology_median_2020-2039.nc -> D:/Cognitud/Heat_Stress_CSV\\Hi39\\anomaly-hi39-annual-mean_cmip6-x0.25_ensemble-all-ssp245_climatology_median_2020-2039.csv\n"
     ]
    },
    {
     "name": "stderr",
     "output_type": "stream",
     "text": [
      "C:\\Users\\Pekham_Ganguly\\AppData\\Local\\Temp\\ipykernel_10960\\754040362.py:26: FutureWarning: In a future version, xarray will not decode the variable 'anomaly-hi39-annual-mean' into a timedelta64 dtype based on the presence of a timedelta-like 'units' attribute by default. Instead it will rely on the presence of a timedelta64 'dtype' attribute, which is now xarray's default way of encoding timedelta64 values.\n",
      "To continue decoding into a timedelta64 dtype, either set `decode_timedelta=True` when opening this dataset, or add the attribute `dtype='timedelta64[ns]'` to this variable on disk.\n",
      "To opt-in to future behavior, set `decode_timedelta=False`.\n",
      "  ds = xr.open_dataset(nc_path)\n"
     ]
    },
    {
     "name": "stdout",
     "output_type": "stream",
     "text": [
      "Converted: D:/Cognitud/Heat Stress\\Hi39\\anomaly-hi39-annual-mean_cmip6-x0.25_ensemble-all-ssp245_climatology_median_2040-2059.nc -> D:/Cognitud/Heat_Stress_CSV\\Hi39\\anomaly-hi39-annual-mean_cmip6-x0.25_ensemble-all-ssp245_climatology_median_2040-2059.csv\n"
     ]
    },
    {
     "name": "stderr",
     "output_type": "stream",
     "text": [
      "C:\\Users\\Pekham_Ganguly\\AppData\\Local\\Temp\\ipykernel_10960\\754040362.py:26: FutureWarning: In a future version, xarray will not decode the variable 'anomaly-hi39-annual-mean' into a timedelta64 dtype based on the presence of a timedelta-like 'units' attribute by default. Instead it will rely on the presence of a timedelta64 'dtype' attribute, which is now xarray's default way of encoding timedelta64 values.\n",
      "To continue decoding into a timedelta64 dtype, either set `decode_timedelta=True` when opening this dataset, or add the attribute `dtype='timedelta64[ns]'` to this variable on disk.\n",
      "To opt-in to future behavior, set `decode_timedelta=False`.\n",
      "  ds = xr.open_dataset(nc_path)\n"
     ]
    },
    {
     "name": "stdout",
     "output_type": "stream",
     "text": [
      "Converted: D:/Cognitud/Heat Stress\\Hi39\\anomaly-hi39-annual-mean_cmip6-x0.25_ensemble-all-ssp245_climatology_median_2060-2079.nc -> D:/Cognitud/Heat_Stress_CSV\\Hi39\\anomaly-hi39-annual-mean_cmip6-x0.25_ensemble-all-ssp245_climatology_median_2060-2079.csv\n"
     ]
    },
    {
     "name": "stderr",
     "output_type": "stream",
     "text": [
      "C:\\Users\\Pekham_Ganguly\\AppData\\Local\\Temp\\ipykernel_10960\\754040362.py:26: FutureWarning: In a future version, xarray will not decode the variable 'anomaly-hi39-annual-mean' into a timedelta64 dtype based on the presence of a timedelta-like 'units' attribute by default. Instead it will rely on the presence of a timedelta64 'dtype' attribute, which is now xarray's default way of encoding timedelta64 values.\n",
      "To continue decoding into a timedelta64 dtype, either set `decode_timedelta=True` when opening this dataset, or add the attribute `dtype='timedelta64[ns]'` to this variable on disk.\n",
      "To opt-in to future behavior, set `decode_timedelta=False`.\n",
      "  ds = xr.open_dataset(nc_path)\n"
     ]
    },
    {
     "name": "stdout",
     "output_type": "stream",
     "text": [
      "Converted: D:/Cognitud/Heat Stress\\Hi39\\anomaly-hi39-annual-mean_cmip6-x0.25_ensemble-all-ssp245_climatology_median_2080-2099.nc -> D:/Cognitud/Heat_Stress_CSV\\Hi39\\anomaly-hi39-annual-mean_cmip6-x0.25_ensemble-all-ssp245_climatology_median_2080-2099.csv\n"
     ]
    },
    {
     "name": "stderr",
     "output_type": "stream",
     "text": [
      "C:\\Users\\Pekham_Ganguly\\AppData\\Local\\Temp\\ipykernel_10960\\754040362.py:26: FutureWarning: In a future version, xarray will not decode the variable 'climatology-hi39-annual-mean' into a timedelta64 dtype based on the presence of a timedelta-like 'units' attribute by default. Instead it will rely on the presence of a timedelta64 'dtype' attribute, which is now xarray's default way of encoding timedelta64 values.\n",
      "To continue decoding into a timedelta64 dtype, either set `decode_timedelta=True` when opening this dataset, or add the attribute `dtype='timedelta64[ns]'` to this variable on disk.\n",
      "To opt-in to future behavior, set `decode_timedelta=False`.\n",
      "  ds = xr.open_dataset(nc_path)\n"
     ]
    },
    {
     "name": "stdout",
     "output_type": "stream",
     "text": [
      "Converted: D:/Cognitud/Heat Stress\\Hi39\\climatology-hi39-annual-mean_cmip6-x0.25_ensemble-all-historical_climatology_median_1995-2014.nc -> D:/Cognitud/Heat_Stress_CSV\\Hi39\\climatology-hi39-annual-mean_cmip6-x0.25_ensemble-all-historical_climatology_median_1995-2014.csv\n"
     ]
    },
    {
     "name": "stderr",
     "output_type": "stream",
     "text": [
      "C:\\Users\\Pekham_Ganguly\\AppData\\Local\\Temp\\ipykernel_10960\\754040362.py:26: FutureWarning: In a future version, xarray will not decode the variable 'climatology-hi39-annual-mean' into a timedelta64 dtype based on the presence of a timedelta-like 'units' attribute by default. Instead it will rely on the presence of a timedelta64 'dtype' attribute, which is now xarray's default way of encoding timedelta64 values.\n",
      "To continue decoding into a timedelta64 dtype, either set `decode_timedelta=True` when opening this dataset, or add the attribute `dtype='timedelta64[ns]'` to this variable on disk.\n",
      "To opt-in to future behavior, set `decode_timedelta=False`.\n",
      "  ds = xr.open_dataset(nc_path)\n"
     ]
    },
    {
     "name": "stdout",
     "output_type": "stream",
     "text": [
      "Converted: D:/Cognitud/Heat Stress\\Hi39\\climatology-hi39-annual-mean_cmip6-x0.25_ensemble-all-historical_climatology_p10_1995-2014.nc -> D:/Cognitud/Heat_Stress_CSV\\Hi39\\climatology-hi39-annual-mean_cmip6-x0.25_ensemble-all-historical_climatology_p10_1995-2014.csv\n"
     ]
    },
    {
     "name": "stderr",
     "output_type": "stream",
     "text": [
      "C:\\Users\\Pekham_Ganguly\\AppData\\Local\\Temp\\ipykernel_10960\\754040362.py:26: FutureWarning: In a future version, xarray will not decode the variable 'climatology-hi39-annual-mean' into a timedelta64 dtype based on the presence of a timedelta-like 'units' attribute by default. Instead it will rely on the presence of a timedelta64 'dtype' attribute, which is now xarray's default way of encoding timedelta64 values.\n",
      "To continue decoding into a timedelta64 dtype, either set `decode_timedelta=True` when opening this dataset, or add the attribute `dtype='timedelta64[ns]'` to this variable on disk.\n",
      "To opt-in to future behavior, set `decode_timedelta=False`.\n",
      "  ds = xr.open_dataset(nc_path)\n"
     ]
    },
    {
     "name": "stdout",
     "output_type": "stream",
     "text": [
      "Converted: D:/Cognitud/Heat Stress\\Hi39\\climatology-hi39-annual-mean_cmip6-x0.25_ensemble-all-historical_climatology_p90_1995-2014.nc -> D:/Cognitud/Heat_Stress_CSV\\Hi39\\climatology-hi39-annual-mean_cmip6-x0.25_ensemble-all-historical_climatology_p90_1995-2014.csv\n",
      "Converted: D:/Cognitud/Heat Stress\\Hurs\\anomaly-hurs-annual-mean_cmip6-x0.25_ec-earth3-r1i1p1f1-ssp370_climatology_mean_2020-2039.nc -> D:/Cognitud/Heat_Stress_CSV\\Hurs\\anomaly-hurs-annual-mean_cmip6-x0.25_ec-earth3-r1i1p1f1-ssp370_climatology_mean_2020-2039.csv\n",
      "Converted: D:/Cognitud/Heat Stress\\Hurs\\anomaly-hurs-annual-mean_cmip6-x0.25_ec-earth3-r1i1p1f1-ssp370_climatology_mean_2040-2059.nc -> D:/Cognitud/Heat_Stress_CSV\\Hurs\\anomaly-hurs-annual-mean_cmip6-x0.25_ec-earth3-r1i1p1f1-ssp370_climatology_mean_2040-2059.csv\n",
      "Converted: D:/Cognitud/Heat Stress\\Hurs\\anomaly-hurs-annual-mean_cmip6-x0.25_ec-earth3-r1i1p1f1-ssp370_climatology_mean_2060-2079.nc -> D:/Cognitud/Heat_Stress_CSV\\Hurs\\anomaly-hurs-annual-mean_cmip6-x0.25_ec-earth3-r1i1p1f1-ssp370_climatology_mean_2060-2079.csv\n",
      "Converted: D:/Cognitud/Heat Stress\\Hurs\\anomaly-hurs-annual-mean_cmip6-x0.25_ec-earth3-r1i1p1f1-ssp370_climatology_mean_2080-2099.nc -> D:/Cognitud/Heat_Stress_CSV\\Hurs\\anomaly-hurs-annual-mean_cmip6-x0.25_ec-earth3-r1i1p1f1-ssp370_climatology_mean_2080-2099.csv\n",
      "Converted: D:/Cognitud/Heat Stress\\Hurs\\anomaly-hurs-annual-mean_cmip6-x0.25_ec-earth3-veg-lr-r1i1p1f1-ssp126_climatology_mean_2020-2039.nc -> D:/Cognitud/Heat_Stress_CSV\\Hurs\\anomaly-hurs-annual-mean_cmip6-x0.25_ec-earth3-veg-lr-r1i1p1f1-ssp126_climatology_mean_2020-2039.csv\n",
      "Converted: D:/Cognitud/Heat Stress\\Hurs\\anomaly-hurs-annual-mean_cmip6-x0.25_ec-earth3-veg-lr-r1i1p1f1-ssp126_climatology_mean_2040-2059.nc -> D:/Cognitud/Heat_Stress_CSV\\Hurs\\anomaly-hurs-annual-mean_cmip6-x0.25_ec-earth3-veg-lr-r1i1p1f1-ssp126_climatology_mean_2040-2059.csv\n",
      "Converted: D:/Cognitud/Heat Stress\\Hurs\\anomaly-hurs-annual-mean_cmip6-x0.25_ec-earth3-veg-lr-r1i1p1f1-ssp126_climatology_mean_2060-2079.nc -> D:/Cognitud/Heat_Stress_CSV\\Hurs\\anomaly-hurs-annual-mean_cmip6-x0.25_ec-earth3-veg-lr-r1i1p1f1-ssp126_climatology_mean_2060-2079.csv\n",
      "Converted: D:/Cognitud/Heat Stress\\Hurs\\anomaly-hurs-annual-mean_cmip6-x0.25_ec-earth3-veg-lr-r1i1p1f1-ssp126_climatology_mean_2080-2099.nc -> D:/Cognitud/Heat_Stress_CSV\\Hurs\\anomaly-hurs-annual-mean_cmip6-x0.25_ec-earth3-veg-lr-r1i1p1f1-ssp126_climatology_mean_2080-2099.csv\n",
      "Converted: D:/Cognitud/Heat Stress\\Hurs\\anomaly-hurs-annual-mean_cmip6-x0.25_ec-earth3-veg-lr-r1i1p1f1-ssp245_climatology_mean_2020-2039.nc -> D:/Cognitud/Heat_Stress_CSV\\Hurs\\anomaly-hurs-annual-mean_cmip6-x0.25_ec-earth3-veg-lr-r1i1p1f1-ssp245_climatology_mean_2020-2039.csv\n",
      "Converted: D:/Cognitud/Heat Stress\\Hurs\\anomaly-hurs-annual-mean_cmip6-x0.25_ec-earth3-veg-lr-r1i1p1f1-ssp245_climatology_mean_2040-2059.nc -> D:/Cognitud/Heat_Stress_CSV\\Hurs\\anomaly-hurs-annual-mean_cmip6-x0.25_ec-earth3-veg-lr-r1i1p1f1-ssp245_climatology_mean_2040-2059.csv\n",
      "Converted: D:/Cognitud/Heat Stress\\Hurs\\anomaly-hurs-annual-mean_cmip6-x0.25_ec-earth3-veg-lr-r1i1p1f1-ssp245_climatology_mean_2060-2079.nc -> D:/Cognitud/Heat_Stress_CSV\\Hurs\\anomaly-hurs-annual-mean_cmip6-x0.25_ec-earth3-veg-lr-r1i1p1f1-ssp245_climatology_mean_2060-2079.csv\n",
      "Converted: D:/Cognitud/Heat Stress\\Hurs\\anomaly-hurs-annual-mean_cmip6-x0.25_ec-earth3-veg-lr-r1i1p1f1-ssp245_climatology_mean_2080-2099.nc -> D:/Cognitud/Heat_Stress_CSV\\Hurs\\anomaly-hurs-annual-mean_cmip6-x0.25_ec-earth3-veg-lr-r1i1p1f1-ssp245_climatology_mean_2080-2099.csv\n",
      "Converted: D:/Cognitud/Heat Stress\\Hurs\\anomaly-hurs-annual-mean_cmip6-x0.25_ensemble-all-ssp585_climatology_median_2020-2039.nc -> D:/Cognitud/Heat_Stress_CSV\\Hurs\\anomaly-hurs-annual-mean_cmip6-x0.25_ensemble-all-ssp585_climatology_median_2020-2039.csv\n",
      "Converted: D:/Cognitud/Heat Stress\\Hurs\\anomaly-hurs-annual-mean_cmip6-x0.25_ensemble-all-ssp585_climatology_median_2040-2059.nc -> D:/Cognitud/Heat_Stress_CSV\\Hurs\\anomaly-hurs-annual-mean_cmip6-x0.25_ensemble-all-ssp585_climatology_median_2040-2059.csv\n",
      "Converted: D:/Cognitud/Heat Stress\\Hurs\\anomaly-hurs-annual-mean_cmip6-x0.25_ensemble-all-ssp585_climatology_median_2060-2079.nc -> D:/Cognitud/Heat_Stress_CSV\\Hurs\\anomaly-hurs-annual-mean_cmip6-x0.25_ensemble-all-ssp585_climatology_median_2060-2079.csv\n",
      "Converted: D:/Cognitud/Heat Stress\\Hurs\\anomaly-hurs-annual-mean_cmip6-x0.25_ensemble-all-ssp585_climatology_median_2080-2099.nc -> D:/Cognitud/Heat_Stress_CSV\\Hurs\\anomaly-hurs-annual-mean_cmip6-x0.25_ensemble-all-ssp585_climatology_median_2080-2099.csv\n",
      "Converted: D:/Cognitud/Heat Stress\\Hurs\\climatology-hurs-annual-mean_cmip6-x0.25_ensemble-all-historical_climatology_median_1995-2014.nc -> D:/Cognitud/Heat_Stress_CSV\\Hurs\\climatology-hurs-annual-mean_cmip6-x0.25_ensemble-all-historical_climatology_median_1995-2014.csv\n",
      "Converted: D:/Cognitud/Heat Stress\\Hurs\\climatology-hurs-annual-mean_cmip6-x0.25_ensemble-all-historical_climatology_p10_1995-2014.nc -> D:/Cognitud/Heat_Stress_CSV\\Hurs\\climatology-hurs-annual-mean_cmip6-x0.25_ensemble-all-historical_climatology_p10_1995-2014.csv\n",
      "Converted: D:/Cognitud/Heat Stress\\Hurs\\climatology-hurs-annual-mean_cmip6-x0.25_ensemble-all-historical_climatology_p90_1995-2014.nc -> D:/Cognitud/Heat_Stress_CSV\\Hurs\\climatology-hurs-annual-mean_cmip6-x0.25_ensemble-all-historical_climatology_p90_1995-2014.csv\n",
      "Converted: D:/Cognitud/Heat Stress\\Tas\\anomaly-tas-annual-mean_cmip6-x0.25_ensemble-all-ssp119_climatology_median_2020-2039.nc -> D:/Cognitud/Heat_Stress_CSV\\Tas\\anomaly-tas-annual-mean_cmip6-x0.25_ensemble-all-ssp119_climatology_median_2020-2039.csv\n",
      "Converted: D:/Cognitud/Heat Stress\\Tas\\anomaly-tas-annual-mean_cmip6-x0.25_ensemble-all-ssp119_climatology_median_2040-2059.nc -> D:/Cognitud/Heat_Stress_CSV\\Tas\\anomaly-tas-annual-mean_cmip6-x0.25_ensemble-all-ssp119_climatology_median_2040-2059.csv\n",
      "Converted: D:/Cognitud/Heat Stress\\Tas\\anomaly-tas-annual-mean_cmip6-x0.25_ensemble-all-ssp119_climatology_median_2060-2079.nc -> D:/Cognitud/Heat_Stress_CSV\\Tas\\anomaly-tas-annual-mean_cmip6-x0.25_ensemble-all-ssp119_climatology_median_2060-2079.csv\n",
      "Converted: D:/Cognitud/Heat Stress\\Tas\\anomaly-tas-annual-mean_cmip6-x0.25_ensemble-all-ssp119_climatology_median_2080-2099.nc -> D:/Cognitud/Heat_Stress_CSV\\Tas\\anomaly-tas-annual-mean_cmip6-x0.25_ensemble-all-ssp119_climatology_median_2080-2099.csv\n",
      "Converted: D:/Cognitud/Heat Stress\\Tas\\anomaly-tas-annual-mean_cmip6-x0.25_ensemble-all-ssp126_climatology_median_2020-2039.nc -> D:/Cognitud/Heat_Stress_CSV\\Tas\\anomaly-tas-annual-mean_cmip6-x0.25_ensemble-all-ssp126_climatology_median_2020-2039.csv\n",
      "Converted: D:/Cognitud/Heat Stress\\Tas\\anomaly-tas-annual-mean_cmip6-x0.25_ensemble-all-ssp126_climatology_median_2040-2059.nc -> D:/Cognitud/Heat_Stress_CSV\\Tas\\anomaly-tas-annual-mean_cmip6-x0.25_ensemble-all-ssp126_climatology_median_2040-2059.csv\n",
      "Converted: D:/Cognitud/Heat Stress\\Tas\\anomaly-tas-annual-mean_cmip6-x0.25_ensemble-all-ssp126_climatology_median_2060-2079.nc -> D:/Cognitud/Heat_Stress_CSV\\Tas\\anomaly-tas-annual-mean_cmip6-x0.25_ensemble-all-ssp126_climatology_median_2060-2079.csv\n",
      "Converted: D:/Cognitud/Heat Stress\\Tas\\anomaly-tas-annual-mean_cmip6-x0.25_ensemble-all-ssp126_climatology_median_2080-2099.nc -> D:/Cognitud/Heat_Stress_CSV\\Tas\\anomaly-tas-annual-mean_cmip6-x0.25_ensemble-all-ssp126_climatology_median_2080-2099.csv\n",
      "Converted: D:/Cognitud/Heat Stress\\Tas\\anomaly-tas-annual-mean_cmip6-x0.25_ensemble-all-ssp245_climatology_median_2020-2039.nc -> D:/Cognitud/Heat_Stress_CSV\\Tas\\anomaly-tas-annual-mean_cmip6-x0.25_ensemble-all-ssp245_climatology_median_2020-2039.csv\n",
      "Converted: D:/Cognitud/Heat Stress\\Tas\\anomaly-tas-annual-mean_cmip6-x0.25_ensemble-all-ssp245_climatology_median_2040-2059.nc -> D:/Cognitud/Heat_Stress_CSV\\Tas\\anomaly-tas-annual-mean_cmip6-x0.25_ensemble-all-ssp245_climatology_median_2040-2059.csv\n",
      "Converted: D:/Cognitud/Heat Stress\\Tas\\anomaly-tas-annual-mean_cmip6-x0.25_ensemble-all-ssp245_climatology_median_2060-2079.nc -> D:/Cognitud/Heat_Stress_CSV\\Tas\\anomaly-tas-annual-mean_cmip6-x0.25_ensemble-all-ssp245_climatology_median_2060-2079.csv\n",
      "Converted: D:/Cognitud/Heat Stress\\Tas\\anomaly-tas-annual-mean_cmip6-x0.25_ensemble-all-ssp245_climatology_median_2080-2099.nc -> D:/Cognitud/Heat_Stress_CSV\\Tas\\anomaly-tas-annual-mean_cmip6-x0.25_ensemble-all-ssp245_climatology_median_2080-2099.csv\n",
      "Converted: D:/Cognitud/Heat Stress\\Tas\\anomaly-tas-annual-mean_cmip6-x0.25_ensemble-all-ssp370_climatology_median_2020-2039.nc -> D:/Cognitud/Heat_Stress_CSV\\Tas\\anomaly-tas-annual-mean_cmip6-x0.25_ensemble-all-ssp370_climatology_median_2020-2039.csv\n",
      "Converted: D:/Cognitud/Heat Stress\\Tas\\anomaly-tas-annual-mean_cmip6-x0.25_ensemble-all-ssp370_climatology_median_2040-2059.nc -> D:/Cognitud/Heat_Stress_CSV\\Tas\\anomaly-tas-annual-mean_cmip6-x0.25_ensemble-all-ssp370_climatology_median_2040-2059.csv\n",
      "Converted: D:/Cognitud/Heat Stress\\Tas\\anomaly-tas-annual-mean_cmip6-x0.25_ensemble-all-ssp370_climatology_median_2060-2079.nc -> D:/Cognitud/Heat_Stress_CSV\\Tas\\anomaly-tas-annual-mean_cmip6-x0.25_ensemble-all-ssp370_climatology_median_2060-2079.csv\n",
      "Converted: D:/Cognitud/Heat Stress\\Tas\\anomaly-tas-annual-mean_cmip6-x0.25_ensemble-all-ssp370_climatology_median_2080-2099.nc -> D:/Cognitud/Heat_Stress_CSV\\Tas\\anomaly-tas-annual-mean_cmip6-x0.25_ensemble-all-ssp370_climatology_median_2080-2099.csv\n",
      "Converted: D:/Cognitud/Heat Stress\\Tas\\anomaly-tas-annual-mean_cmip6-x0.25_ensemble-all-ssp585_climatology_median_2020-2039.nc -> D:/Cognitud/Heat_Stress_CSV\\Tas\\anomaly-tas-annual-mean_cmip6-x0.25_ensemble-all-ssp585_climatology_median_2020-2039.csv\n",
      "Converted: D:/Cognitud/Heat Stress\\Tas\\anomaly-tas-annual-mean_cmip6-x0.25_ensemble-all-ssp585_climatology_median_2040-2059.nc -> D:/Cognitud/Heat_Stress_CSV\\Tas\\anomaly-tas-annual-mean_cmip6-x0.25_ensemble-all-ssp585_climatology_median_2040-2059.csv\n",
      "Converted: D:/Cognitud/Heat Stress\\Tas\\anomaly-tas-annual-mean_cmip6-x0.25_ensemble-all-ssp585_climatology_median_2060-2079.nc -> D:/Cognitud/Heat_Stress_CSV\\Tas\\anomaly-tas-annual-mean_cmip6-x0.25_ensemble-all-ssp585_climatology_median_2060-2079.csv\n",
      "Converted: D:/Cognitud/Heat Stress\\Tas\\anomaly-tas-annual-mean_cmip6-x0.25_ensemble-all-ssp585_climatology_median_2080-2099.nc -> D:/Cognitud/Heat_Stress_CSV\\Tas\\anomaly-tas-annual-mean_cmip6-x0.25_ensemble-all-ssp585_climatology_median_2080-2099.csv\n",
      "Converted: D:/Cognitud/Heat Stress\\Tas\\climatology-tas-annual-mean_cmip6-x0.25_ensemble-all-historical_climatology_median_1995-2014.nc -> D:/Cognitud/Heat_Stress_CSV\\Tas\\climatology-tas-annual-mean_cmip6-x0.25_ensemble-all-historical_climatology_median_1995-2014.csv\n",
      "Converted: D:/Cognitud/Heat Stress\\Tas\\climatology-tas-annual-mean_cmip6-x0.25_ensemble-all-historical_climatology_p10_1995-2014.nc -> D:/Cognitud/Heat_Stress_CSV\\Tas\\climatology-tas-annual-mean_cmip6-x0.25_ensemble-all-historical_climatology_p10_1995-2014.csv\n",
      "Converted: D:/Cognitud/Heat Stress\\Tas\\climatology-tas-annual-mean_cmip6-x0.25_ensemble-all-historical_climatology_p90_1995-2014.nc -> D:/Cognitud/Heat_Stress_CSV\\Tas\\climatology-tas-annual-mean_cmip6-x0.25_ensemble-all-historical_climatology_p90_1995-2014.csv\n",
      "Converted: D:/Cognitud/Heat Stress\\Tasmax\\anomaly-tasmax-annual-mean_cmip6-x0.25_ensemble-all-ssp119_climatology_median_2020-2039.nc -> D:/Cognitud/Heat_Stress_CSV\\Tasmax\\anomaly-tasmax-annual-mean_cmip6-x0.25_ensemble-all-ssp119_climatology_median_2020-2039.csv\n",
      "Converted: D:/Cognitud/Heat Stress\\Tasmax\\anomaly-tasmax-annual-mean_cmip6-x0.25_ensemble-all-ssp119_climatology_median_2040-2059.nc -> D:/Cognitud/Heat_Stress_CSV\\Tasmax\\anomaly-tasmax-annual-mean_cmip6-x0.25_ensemble-all-ssp119_climatology_median_2040-2059.csv\n",
      "Converted: D:/Cognitud/Heat Stress\\Tasmax\\anomaly-tasmax-annual-mean_cmip6-x0.25_ensemble-all-ssp119_climatology_median_2060-2079.nc -> D:/Cognitud/Heat_Stress_CSV\\Tasmax\\anomaly-tasmax-annual-mean_cmip6-x0.25_ensemble-all-ssp119_climatology_median_2060-2079.csv\n",
      "Converted: D:/Cognitud/Heat Stress\\Tasmax\\anomaly-tasmax-annual-mean_cmip6-x0.25_ensemble-all-ssp119_climatology_median_2080-2099.nc -> D:/Cognitud/Heat_Stress_CSV\\Tasmax\\anomaly-tasmax-annual-mean_cmip6-x0.25_ensemble-all-ssp119_climatology_median_2080-2099.csv\n",
      "Converted: D:/Cognitud/Heat Stress\\Tasmax\\anomaly-tasmax-annual-mean_cmip6-x0.25_ensemble-all-ssp126_climatology_median_2020-2039.nc -> D:/Cognitud/Heat_Stress_CSV\\Tasmax\\anomaly-tasmax-annual-mean_cmip6-x0.25_ensemble-all-ssp126_climatology_median_2020-2039.csv\n",
      "Converted: D:/Cognitud/Heat Stress\\Tasmax\\anomaly-tasmax-annual-mean_cmip6-x0.25_ensemble-all-ssp126_climatology_median_2040-2059.nc -> D:/Cognitud/Heat_Stress_CSV\\Tasmax\\anomaly-tasmax-annual-mean_cmip6-x0.25_ensemble-all-ssp126_climatology_median_2040-2059.csv\n",
      "Converted: D:/Cognitud/Heat Stress\\Tasmax\\anomaly-tasmax-annual-mean_cmip6-x0.25_ensemble-all-ssp126_climatology_median_2060-2079.nc -> D:/Cognitud/Heat_Stress_CSV\\Tasmax\\anomaly-tasmax-annual-mean_cmip6-x0.25_ensemble-all-ssp126_climatology_median_2060-2079.csv\n",
      "Converted: D:/Cognitud/Heat Stress\\Tasmax\\anomaly-tasmax-annual-mean_cmip6-x0.25_ensemble-all-ssp126_climatology_median_2080-2099.nc -> D:/Cognitud/Heat_Stress_CSV\\Tasmax\\anomaly-tasmax-annual-mean_cmip6-x0.25_ensemble-all-ssp126_climatology_median_2080-2099.csv\n",
      "Converted: D:/Cognitud/Heat Stress\\Tasmax\\anomaly-tasmax-annual-mean_cmip6-x0.25_ensemble-all-ssp245_climatology_median_2020-2039.nc -> D:/Cognitud/Heat_Stress_CSV\\Tasmax\\anomaly-tasmax-annual-mean_cmip6-x0.25_ensemble-all-ssp245_climatology_median_2020-2039.csv\n",
      "Converted: D:/Cognitud/Heat Stress\\Tasmax\\anomaly-tasmax-annual-mean_cmip6-x0.25_ensemble-all-ssp245_climatology_median_2040-2059.nc -> D:/Cognitud/Heat_Stress_CSV\\Tasmax\\anomaly-tasmax-annual-mean_cmip6-x0.25_ensemble-all-ssp245_climatology_median_2040-2059.csv\n",
      "Converted: D:/Cognitud/Heat Stress\\Tasmax\\anomaly-tasmax-annual-mean_cmip6-x0.25_ensemble-all-ssp245_climatology_median_2060-2079.nc -> D:/Cognitud/Heat_Stress_CSV\\Tasmax\\anomaly-tasmax-annual-mean_cmip6-x0.25_ensemble-all-ssp245_climatology_median_2060-2079.csv\n",
      "Converted: D:/Cognitud/Heat Stress\\Tasmax\\anomaly-tasmax-annual-mean_cmip6-x0.25_ensemble-all-ssp245_climatology_median_2080-2099.nc -> D:/Cognitud/Heat_Stress_CSV\\Tasmax\\anomaly-tasmax-annual-mean_cmip6-x0.25_ensemble-all-ssp245_climatology_median_2080-2099.csv\n",
      "Converted: D:/Cognitud/Heat Stress\\Tasmax\\anomaly-tasmax-annual-mean_cmip6-x0.25_ensemble-all-ssp370_climatology_median_2020-2039.nc -> D:/Cognitud/Heat_Stress_CSV\\Tasmax\\anomaly-tasmax-annual-mean_cmip6-x0.25_ensemble-all-ssp370_climatology_median_2020-2039.csv\n",
      "Converted: D:/Cognitud/Heat Stress\\Tasmax\\anomaly-tasmax-annual-mean_cmip6-x0.25_ensemble-all-ssp370_climatology_median_2040-2059.nc -> D:/Cognitud/Heat_Stress_CSV\\Tasmax\\anomaly-tasmax-annual-mean_cmip6-x0.25_ensemble-all-ssp370_climatology_median_2040-2059.csv\n",
      "Converted: D:/Cognitud/Heat Stress\\Tasmax\\anomaly-tasmax-annual-mean_cmip6-x0.25_ensemble-all-ssp370_climatology_median_2060-2079.nc -> D:/Cognitud/Heat_Stress_CSV\\Tasmax\\anomaly-tasmax-annual-mean_cmip6-x0.25_ensemble-all-ssp370_climatology_median_2060-2079.csv\n",
      "Converted: D:/Cognitud/Heat Stress\\Tasmax\\anomaly-tasmax-annual-mean_cmip6-x0.25_ensemble-all-ssp370_climatology_median_2080-2099.nc -> D:/Cognitud/Heat_Stress_CSV\\Tasmax\\anomaly-tasmax-annual-mean_cmip6-x0.25_ensemble-all-ssp370_climatology_median_2080-2099.csv\n",
      "Converted: D:/Cognitud/Heat Stress\\Tasmax\\anomaly-tasmax-annual-mean_cmip6-x0.25_ensemble-all-ssp585_climatology_median_2020-2039.nc -> D:/Cognitud/Heat_Stress_CSV\\Tasmax\\anomaly-tasmax-annual-mean_cmip6-x0.25_ensemble-all-ssp585_climatology_median_2020-2039.csv\n",
      "Converted: D:/Cognitud/Heat Stress\\Tasmax\\anomaly-tasmax-annual-mean_cmip6-x0.25_ensemble-all-ssp585_climatology_median_2040-2059.nc -> D:/Cognitud/Heat_Stress_CSV\\Tasmax\\anomaly-tasmax-annual-mean_cmip6-x0.25_ensemble-all-ssp585_climatology_median_2040-2059.csv\n",
      "Converted: D:/Cognitud/Heat Stress\\Tasmax\\anomaly-tasmax-annual-mean_cmip6-x0.25_ensemble-all-ssp585_climatology_median_2060-2079.nc -> D:/Cognitud/Heat_Stress_CSV\\Tasmax\\anomaly-tasmax-annual-mean_cmip6-x0.25_ensemble-all-ssp585_climatology_median_2060-2079.csv\n",
      "Converted: D:/Cognitud/Heat Stress\\Tasmax\\anomaly-tasmax-annual-mean_cmip6-x0.25_ensemble-all-ssp585_climatology_median_2080-2099.nc -> D:/Cognitud/Heat_Stress_CSV\\Tasmax\\anomaly-tasmax-annual-mean_cmip6-x0.25_ensemble-all-ssp585_climatology_median_2080-2099.csv\n",
      "Converted: D:/Cognitud/Heat Stress\\Tasmax\\climatology-tasmax-annual-mean_cmip6-x0.25_ensemble-all-historical_climatology_median_1995-2014.nc -> D:/Cognitud/Heat_Stress_CSV\\Tasmax\\climatology-tasmax-annual-mean_cmip6-x0.25_ensemble-all-historical_climatology_median_1995-2014.csv\n",
      "Converted: D:/Cognitud/Heat Stress\\Tasmax\\climatology-tasmax-annual-mean_cmip6-x0.25_ensemble-all-historical_climatology_p10_1995-2014.nc -> D:/Cognitud/Heat_Stress_CSV\\Tasmax\\climatology-tasmax-annual-mean_cmip6-x0.25_ensemble-all-historical_climatology_p10_1995-2014.csv\n",
      "Converted: D:/Cognitud/Heat Stress\\Tasmax\\climatology-tasmax-annual-mean_cmip6-x0.25_ensemble-all-historical_climatology_p90_1995-2014.nc -> D:/Cognitud/Heat_Stress_CSV\\Tasmax\\climatology-tasmax-annual-mean_cmip6-x0.25_ensemble-all-historical_climatology_p90_1995-2014.csv\n",
      "Converted: D:/Cognitud/Heat Stress\\TasMin\\anomaly-tasmin-annual-mean_cmip6-x0.25_ensemble-all-ssp119_climatology_median_2020-2039.nc -> D:/Cognitud/Heat_Stress_CSV\\TasMin\\anomaly-tasmin-annual-mean_cmip6-x0.25_ensemble-all-ssp119_climatology_median_2020-2039.csv\n",
      "Converted: D:/Cognitud/Heat Stress\\TasMin\\anomaly-tasmin-annual-mean_cmip6-x0.25_ensemble-all-ssp119_climatology_median_2040-2059.nc -> D:/Cognitud/Heat_Stress_CSV\\TasMin\\anomaly-tasmin-annual-mean_cmip6-x0.25_ensemble-all-ssp119_climatology_median_2040-2059.csv\n",
      "Converted: D:/Cognitud/Heat Stress\\TasMin\\anomaly-tasmin-annual-mean_cmip6-x0.25_ensemble-all-ssp119_climatology_median_2060-2079.nc -> D:/Cognitud/Heat_Stress_CSV\\TasMin\\anomaly-tasmin-annual-mean_cmip6-x0.25_ensemble-all-ssp119_climatology_median_2060-2079.csv\n",
      "Converted: D:/Cognitud/Heat Stress\\TasMin\\anomaly-tasmin-annual-mean_cmip6-x0.25_ensemble-all-ssp119_climatology_median_2080-2099.nc -> D:/Cognitud/Heat_Stress_CSV\\TasMin\\anomaly-tasmin-annual-mean_cmip6-x0.25_ensemble-all-ssp119_climatology_median_2080-2099.csv\n",
      "Converted: D:/Cognitud/Heat Stress\\TasMin\\anomaly-tasmin-annual-mean_cmip6-x0.25_ensemble-all-ssp126_climatology_median_2020-2039.nc -> D:/Cognitud/Heat_Stress_CSV\\TasMin\\anomaly-tasmin-annual-mean_cmip6-x0.25_ensemble-all-ssp126_climatology_median_2020-2039.csv\n",
      "Converted: D:/Cognitud/Heat Stress\\TasMin\\anomaly-tasmin-annual-mean_cmip6-x0.25_ensemble-all-ssp126_climatology_median_2040-2059.nc -> D:/Cognitud/Heat_Stress_CSV\\TasMin\\anomaly-tasmin-annual-mean_cmip6-x0.25_ensemble-all-ssp126_climatology_median_2040-2059.csv\n",
      "Converted: D:/Cognitud/Heat Stress\\TasMin\\anomaly-tasmin-annual-mean_cmip6-x0.25_ensemble-all-ssp126_climatology_median_2060-2079.nc -> D:/Cognitud/Heat_Stress_CSV\\TasMin\\anomaly-tasmin-annual-mean_cmip6-x0.25_ensemble-all-ssp126_climatology_median_2060-2079.csv\n",
      "Converted: D:/Cognitud/Heat Stress\\TasMin\\anomaly-tasmin-annual-mean_cmip6-x0.25_ensemble-all-ssp126_climatology_median_2080-2099.nc -> D:/Cognitud/Heat_Stress_CSV\\TasMin\\anomaly-tasmin-annual-mean_cmip6-x0.25_ensemble-all-ssp126_climatology_median_2080-2099.csv\n",
      "Converted: D:/Cognitud/Heat Stress\\TasMin\\anomaly-tasmin-annual-mean_cmip6-x0.25_ensemble-all-ssp245_climatology_median_2020-2039.nc -> D:/Cognitud/Heat_Stress_CSV\\TasMin\\anomaly-tasmin-annual-mean_cmip6-x0.25_ensemble-all-ssp245_climatology_median_2020-2039.csv\n",
      "Converted: D:/Cognitud/Heat Stress\\TasMin\\anomaly-tasmin-annual-mean_cmip6-x0.25_ensemble-all-ssp245_climatology_median_2040-2059.nc -> D:/Cognitud/Heat_Stress_CSV\\TasMin\\anomaly-tasmin-annual-mean_cmip6-x0.25_ensemble-all-ssp245_climatology_median_2040-2059.csv\n",
      "Converted: D:/Cognitud/Heat Stress\\TasMin\\anomaly-tasmin-annual-mean_cmip6-x0.25_ensemble-all-ssp245_climatology_median_2060-2079.nc -> D:/Cognitud/Heat_Stress_CSV\\TasMin\\anomaly-tasmin-annual-mean_cmip6-x0.25_ensemble-all-ssp245_climatology_median_2060-2079.csv\n",
      "Converted: D:/Cognitud/Heat Stress\\TasMin\\anomaly-tasmin-annual-mean_cmip6-x0.25_ensemble-all-ssp245_climatology_median_2080-2099.nc -> D:/Cognitud/Heat_Stress_CSV\\TasMin\\anomaly-tasmin-annual-mean_cmip6-x0.25_ensemble-all-ssp245_climatology_median_2080-2099.csv\n",
      "Converted: D:/Cognitud/Heat Stress\\TasMin\\anomaly-tasmin-annual-mean_cmip6-x0.25_ensemble-all-ssp585_climatology_median_2020-2039.nc -> D:/Cognitud/Heat_Stress_CSV\\TasMin\\anomaly-tasmin-annual-mean_cmip6-x0.25_ensemble-all-ssp585_climatology_median_2020-2039.csv\n",
      "Converted: D:/Cognitud/Heat Stress\\TasMin\\anomaly-tasmin-annual-mean_cmip6-x0.25_ensemble-all-ssp585_climatology_median_2040-2059.nc -> D:/Cognitud/Heat_Stress_CSV\\TasMin\\anomaly-tasmin-annual-mean_cmip6-x0.25_ensemble-all-ssp585_climatology_median_2040-2059.csv\n",
      "Converted: D:/Cognitud/Heat Stress\\TasMin\\anomaly-tasmin-annual-mean_cmip6-x0.25_ensemble-all-ssp585_climatology_median_2060-2079.nc -> D:/Cognitud/Heat_Stress_CSV\\TasMin\\anomaly-tasmin-annual-mean_cmip6-x0.25_ensemble-all-ssp585_climatology_median_2060-2079.csv\n",
      "Converted: D:/Cognitud/Heat Stress\\TasMin\\anomaly-tasmin-annual-mean_cmip6-x0.25_ensemble-all-ssp585_climatology_median_2080-2099.nc -> D:/Cognitud/Heat_Stress_CSV\\TasMin\\anomaly-tasmin-annual-mean_cmip6-x0.25_ensemble-all-ssp585_climatology_median_2080-2099.csv\n",
      "Converted: D:/Cognitud/Heat Stress\\TasMin\\climatology-tasmin-annual-mean_cmip6-x0.25_ensemble-all-historical_climatology_median_1995-2014.nc -> D:/Cognitud/Heat_Stress_CSV\\TasMin\\climatology-tasmin-annual-mean_cmip6-x0.25_ensemble-all-historical_climatology_median_1995-2014.csv\n",
      "Converted: D:/Cognitud/Heat Stress\\TasMin\\climatology-tasmin-annual-mean_cmip6-x0.25_ensemble-all-historical_climatology_p10_1995-2014.nc -> D:/Cognitud/Heat_Stress_CSV\\TasMin\\climatology-tasmin-annual-mean_cmip6-x0.25_ensemble-all-historical_climatology_p10_1995-2014.csv\n",
      "Converted: D:/Cognitud/Heat Stress\\TasMin\\climatology-tasmin-annual-mean_cmip6-x0.25_ensemble-all-historical_climatology_p90_1995-2014.nc -> D:/Cognitud/Heat_Stress_CSV\\TasMin\\climatology-tasmin-annual-mean_cmip6-x0.25_ensemble-all-historical_climatology_p90_1995-2014.csv\n",
      "Converted: D:/Cognitud/Heat Stress\\Wbt\\anomaly-wbt-annual-mean_cmip6-x0.25_ec-earth3-veg-lr-r1i1p1f1-ssp370_climatology_mean_2020-2039.nc -> D:/Cognitud/Heat_Stress_CSV\\Wbt\\anomaly-wbt-annual-mean_cmip6-x0.25_ec-earth3-veg-lr-r1i1p1f1-ssp370_climatology_mean_2020-2039.csv\n",
      "Converted: D:/Cognitud/Heat Stress\\Wbt\\anomaly-wbt-annual-mean_cmip6-x0.25_ec-earth3-veg-lr-r1i1p1f1-ssp370_climatology_mean_2040-2059.nc -> D:/Cognitud/Heat_Stress_CSV\\Wbt\\anomaly-wbt-annual-mean_cmip6-x0.25_ec-earth3-veg-lr-r1i1p1f1-ssp370_climatology_mean_2040-2059.csv\n",
      "Converted: D:/Cognitud/Heat Stress\\Wbt\\anomaly-wbt-annual-mean_cmip6-x0.25_ec-earth3-veg-lr-r1i1p1f1-ssp370_climatology_mean_2060-2079.nc -> D:/Cognitud/Heat_Stress_CSV\\Wbt\\anomaly-wbt-annual-mean_cmip6-x0.25_ec-earth3-veg-lr-r1i1p1f1-ssp370_climatology_mean_2060-2079.csv\n",
      "Converted: D:/Cognitud/Heat Stress\\Wbt\\anomaly-wbt-annual-mean_cmip6-x0.25_ec-earth3-veg-lr-r1i1p1f1-ssp370_climatology_mean_2080-2099.nc -> D:/Cognitud/Heat_Stress_CSV\\Wbt\\anomaly-wbt-annual-mean_cmip6-x0.25_ec-earth3-veg-lr-r1i1p1f1-ssp370_climatology_mean_2080-2099.csv\n",
      "Converted: D:/Cognitud/Heat Stress\\Wbt\\climatology-wbt-annual-mean_cmip6-x0.25_ensemble-all-historical_climatology_median_1995-2014.nc -> D:/Cognitud/Heat_Stress_CSV\\Wbt\\climatology-wbt-annual-mean_cmip6-x0.25_ensemble-all-historical_climatology_median_1995-2014.csv\n",
      "Converted: D:/Cognitud/Heat Stress\\Wbt\\climatology-wbt-annual-mean_cmip6-x0.25_ensemble-all-historical_climatology_p10_1995-2014.nc -> D:/Cognitud/Heat_Stress_CSV\\Wbt\\climatology-wbt-annual-mean_cmip6-x0.25_ensemble-all-historical_climatology_p10_1995-2014.csv\n",
      "Converted: D:/Cognitud/Heat Stress\\Wbt\\climatology-wbt-annual-mean_cmip6-x0.25_ensemble-all-historical_climatology_p90_1995-2014.nc -> D:/Cognitud/Heat_Stress_CSV\\Wbt\\climatology-wbt-annual-mean_cmip6-x0.25_ensemble-all-historical_climatology_p90_1995-2014.csv\n",
      "Converted: D:/Cognitud/Heat Stress\\Wbt\\climatology-wbt-annual-mean_cmip6-x0.25_ensemble-all-ssp126_climatology_median_2020-2039.nc -> D:/Cognitud/Heat_Stress_CSV\\Wbt\\climatology-wbt-annual-mean_cmip6-x0.25_ensemble-all-ssp126_climatology_median_2020-2039.csv\n",
      "Converted: D:/Cognitud/Heat Stress\\Wbt\\climatology-wbt-annual-mean_cmip6-x0.25_ensemble-all-ssp126_climatology_median_2040-2059.nc -> D:/Cognitud/Heat_Stress_CSV\\Wbt\\climatology-wbt-annual-mean_cmip6-x0.25_ensemble-all-ssp126_climatology_median_2040-2059.csv\n",
      "Converted: D:/Cognitud/Heat Stress\\Wbt\\climatology-wbt-annual-mean_cmip6-x0.25_ensemble-all-ssp126_climatology_median_2060-2079.nc -> D:/Cognitud/Heat_Stress_CSV\\Wbt\\climatology-wbt-annual-mean_cmip6-x0.25_ensemble-all-ssp126_climatology_median_2060-2079.csv\n",
      "Converted: D:/Cognitud/Heat Stress\\Wbt\\climatology-wbt-annual-mean_cmip6-x0.25_ensemble-all-ssp126_climatology_median_2080-2099.nc -> D:/Cognitud/Heat_Stress_CSV\\Wbt\\climatology-wbt-annual-mean_cmip6-x0.25_ensemble-all-ssp126_climatology_median_2080-2099.csv\n",
      "Converted: D:/Cognitud/Heat Stress\\Wbt\\climatology-wbt-annual-mean_cmip6-x0.25_ensemble-all-ssp245_climatology_median_2020-2039.nc -> D:/Cognitud/Heat_Stress_CSV\\Wbt\\climatology-wbt-annual-mean_cmip6-x0.25_ensemble-all-ssp245_climatology_median_2020-2039.csv\n",
      "Converted: D:/Cognitud/Heat Stress\\Wbt\\climatology-wbt-annual-mean_cmip6-x0.25_ensemble-all-ssp245_climatology_median_2040-2059.nc -> D:/Cognitud/Heat_Stress_CSV\\Wbt\\climatology-wbt-annual-mean_cmip6-x0.25_ensemble-all-ssp245_climatology_median_2040-2059.csv\n",
      "Converted: D:/Cognitud/Heat Stress\\Wbt\\climatology-wbt-annual-mean_cmip6-x0.25_ensemble-all-ssp245_climatology_median_2060-2079.nc -> D:/Cognitud/Heat_Stress_CSV\\Wbt\\climatology-wbt-annual-mean_cmip6-x0.25_ensemble-all-ssp245_climatology_median_2060-2079.csv\n",
      "Converted: D:/Cognitud/Heat Stress\\Wbt\\climatology-wbt-annual-mean_cmip6-x0.25_ensemble-all-ssp245_climatology_median_2080-2099.nc -> D:/Cognitud/Heat_Stress_CSV\\Wbt\\climatology-wbt-annual-mean_cmip6-x0.25_ensemble-all-ssp245_climatology_median_2080-2099.csv\n",
      "Converted: D:/Cognitud/Heat Stress\\Wbt\\climatology-wbt-annual-mean_cmip6-x0.25_ensemble-all-ssp585_climatology_median_2020-2039.nc -> D:/Cognitud/Heat_Stress_CSV\\Wbt\\climatology-wbt-annual-mean_cmip6-x0.25_ensemble-all-ssp585_climatology_median_2020-2039.csv\n",
      "Converted: D:/Cognitud/Heat Stress\\Wbt\\climatology-wbt-annual-mean_cmip6-x0.25_ensemble-all-ssp585_climatology_median_2040-2059.nc -> D:/Cognitud/Heat_Stress_CSV\\Wbt\\climatology-wbt-annual-mean_cmip6-x0.25_ensemble-all-ssp585_climatology_median_2040-2059.csv\n",
      "Converted: D:/Cognitud/Heat Stress\\Wbt\\climatology-wbt-annual-mean_cmip6-x0.25_ensemble-all-ssp585_climatology_median_2060-2079.nc -> D:/Cognitud/Heat_Stress_CSV\\Wbt\\climatology-wbt-annual-mean_cmip6-x0.25_ensemble-all-ssp585_climatology_median_2060-2079.csv\n",
      "Converted: D:/Cognitud/Heat Stress\\Wbt\\climatology-wbt-annual-mean_cmip6-x0.25_ensemble-all-ssp585_climatology_median_2080-2099.nc -> D:/Cognitud/Heat_Stress_CSV\\Wbt\\climatology-wbt-annual-mean_cmip6-x0.25_ensemble-all-ssp585_climatology_median_2080-2099.csv\n"
     ]
    },
    {
     "name": "stderr",
     "output_type": "stream",
     "text": [
      "C:\\Users\\Pekham_Ganguly\\AppData\\Local\\Temp\\ipykernel_10960\\754040362.py:26: FutureWarning: In a future version, xarray will not decode the variable 'climatology-wbt25-annual-mean' into a timedelta64 dtype based on the presence of a timedelta-like 'units' attribute by default. Instead it will rely on the presence of a timedelta64 'dtype' attribute, which is now xarray's default way of encoding timedelta64 values.\n",
      "To continue decoding into a timedelta64 dtype, either set `decode_timedelta=True` when opening this dataset, or add the attribute `dtype='timedelta64[ns]'` to this variable on disk.\n",
      "To opt-in to future behavior, set `decode_timedelta=False`.\n",
      "  ds = xr.open_dataset(nc_path)\n"
     ]
    },
    {
     "name": "stdout",
     "output_type": "stream",
     "text": [
      "Converted: D:/Cognitud/Heat Stress\\Wbt25\\climatology-wbt25-annual-mean_cmip6-x0.25_ensemble-all-historical_climatology_median_1995-2014.nc -> D:/Cognitud/Heat_Stress_CSV\\Wbt25\\climatology-wbt25-annual-mean_cmip6-x0.25_ensemble-all-historical_climatology_median_1995-2014.csv\n"
     ]
    },
    {
     "name": "stderr",
     "output_type": "stream",
     "text": [
      "C:\\Users\\Pekham_Ganguly\\AppData\\Local\\Temp\\ipykernel_10960\\754040362.py:26: FutureWarning: In a future version, xarray will not decode the variable 'climatology-wbt25-annual-mean' into a timedelta64 dtype based on the presence of a timedelta-like 'units' attribute by default. Instead it will rely on the presence of a timedelta64 'dtype' attribute, which is now xarray's default way of encoding timedelta64 values.\n",
      "To continue decoding into a timedelta64 dtype, either set `decode_timedelta=True` when opening this dataset, or add the attribute `dtype='timedelta64[ns]'` to this variable on disk.\n",
      "To opt-in to future behavior, set `decode_timedelta=False`.\n",
      "  ds = xr.open_dataset(nc_path)\n"
     ]
    },
    {
     "name": "stdout",
     "output_type": "stream",
     "text": [
      "Converted: D:/Cognitud/Heat Stress\\Wbt25\\climatology-wbt25-annual-mean_cmip6-x0.25_ensemble-all-historical_climatology_p10_1995-2014.nc -> D:/Cognitud/Heat_Stress_CSV\\Wbt25\\climatology-wbt25-annual-mean_cmip6-x0.25_ensemble-all-historical_climatology_p10_1995-2014.csv\n"
     ]
    },
    {
     "name": "stderr",
     "output_type": "stream",
     "text": [
      "C:\\Users\\Pekham_Ganguly\\AppData\\Local\\Temp\\ipykernel_10960\\754040362.py:26: FutureWarning: In a future version, xarray will not decode the variable 'climatology-wbt25-annual-mean' into a timedelta64 dtype based on the presence of a timedelta-like 'units' attribute by default. Instead it will rely on the presence of a timedelta64 'dtype' attribute, which is now xarray's default way of encoding timedelta64 values.\n",
      "To continue decoding into a timedelta64 dtype, either set `decode_timedelta=True` when opening this dataset, or add the attribute `dtype='timedelta64[ns]'` to this variable on disk.\n",
      "To opt-in to future behavior, set `decode_timedelta=False`.\n",
      "  ds = xr.open_dataset(nc_path)\n"
     ]
    },
    {
     "name": "stdout",
     "output_type": "stream",
     "text": [
      "Converted: D:/Cognitud/Heat Stress\\Wbt25\\climatology-wbt25-annual-mean_cmip6-x0.25_ensemble-all-historical_climatology_p90_1995-2014.nc -> D:/Cognitud/Heat_Stress_CSV\\Wbt25\\climatology-wbt25-annual-mean_cmip6-x0.25_ensemble-all-historical_climatology_p90_1995-2014.csv\n"
     ]
    },
    {
     "name": "stderr",
     "output_type": "stream",
     "text": [
      "C:\\Users\\Pekham_Ganguly\\AppData\\Local\\Temp\\ipykernel_10960\\754040362.py:26: FutureWarning: In a future version, xarray will not decode the variable 'climatology-wbt25-annual-mean' into a timedelta64 dtype based on the presence of a timedelta-like 'units' attribute by default. Instead it will rely on the presence of a timedelta64 'dtype' attribute, which is now xarray's default way of encoding timedelta64 values.\n",
      "To continue decoding into a timedelta64 dtype, either set `decode_timedelta=True` when opening this dataset, or add the attribute `dtype='timedelta64[ns]'` to this variable on disk.\n",
      "To opt-in to future behavior, set `decode_timedelta=False`.\n",
      "  ds = xr.open_dataset(nc_path)\n"
     ]
    },
    {
     "name": "stdout",
     "output_type": "stream",
     "text": [
      "Converted: D:/Cognitud/Heat Stress\\Wbt25\\climatology-wbt25-annual-mean_cmip6-x0.25_ensemble-all-ssp126_climatology_median_2020-2039.nc -> D:/Cognitud/Heat_Stress_CSV\\Wbt25\\climatology-wbt25-annual-mean_cmip6-x0.25_ensemble-all-ssp126_climatology_median_2020-2039.csv\n"
     ]
    },
    {
     "name": "stderr",
     "output_type": "stream",
     "text": [
      "C:\\Users\\Pekham_Ganguly\\AppData\\Local\\Temp\\ipykernel_10960\\754040362.py:26: FutureWarning: In a future version, xarray will not decode the variable 'climatology-wbt25-annual-mean' into a timedelta64 dtype based on the presence of a timedelta-like 'units' attribute by default. Instead it will rely on the presence of a timedelta64 'dtype' attribute, which is now xarray's default way of encoding timedelta64 values.\n",
      "To continue decoding into a timedelta64 dtype, either set `decode_timedelta=True` when opening this dataset, or add the attribute `dtype='timedelta64[ns]'` to this variable on disk.\n",
      "To opt-in to future behavior, set `decode_timedelta=False`.\n",
      "  ds = xr.open_dataset(nc_path)\n"
     ]
    },
    {
     "name": "stdout",
     "output_type": "stream",
     "text": [
      "Converted: D:/Cognitud/Heat Stress\\Wbt25\\climatology-wbt25-annual-mean_cmip6-x0.25_ensemble-all-ssp126_climatology_median_2040-2059.nc -> D:/Cognitud/Heat_Stress_CSV\\Wbt25\\climatology-wbt25-annual-mean_cmip6-x0.25_ensemble-all-ssp126_climatology_median_2040-2059.csv\n"
     ]
    },
    {
     "name": "stderr",
     "output_type": "stream",
     "text": [
      "C:\\Users\\Pekham_Ganguly\\AppData\\Local\\Temp\\ipykernel_10960\\754040362.py:26: FutureWarning: In a future version, xarray will not decode the variable 'climatology-wbt25-annual-mean' into a timedelta64 dtype based on the presence of a timedelta-like 'units' attribute by default. Instead it will rely on the presence of a timedelta64 'dtype' attribute, which is now xarray's default way of encoding timedelta64 values.\n",
      "To continue decoding into a timedelta64 dtype, either set `decode_timedelta=True` when opening this dataset, or add the attribute `dtype='timedelta64[ns]'` to this variable on disk.\n",
      "To opt-in to future behavior, set `decode_timedelta=False`.\n",
      "  ds = xr.open_dataset(nc_path)\n"
     ]
    },
    {
     "name": "stdout",
     "output_type": "stream",
     "text": [
      "Converted: D:/Cognitud/Heat Stress\\Wbt25\\climatology-wbt25-annual-mean_cmip6-x0.25_ensemble-all-ssp126_climatology_median_2060-2079.nc -> D:/Cognitud/Heat_Stress_CSV\\Wbt25\\climatology-wbt25-annual-mean_cmip6-x0.25_ensemble-all-ssp126_climatology_median_2060-2079.csv\n"
     ]
    },
    {
     "name": "stderr",
     "output_type": "stream",
     "text": [
      "C:\\Users\\Pekham_Ganguly\\AppData\\Local\\Temp\\ipykernel_10960\\754040362.py:26: FutureWarning: In a future version, xarray will not decode the variable 'climatology-wbt25-annual-mean' into a timedelta64 dtype based on the presence of a timedelta-like 'units' attribute by default. Instead it will rely on the presence of a timedelta64 'dtype' attribute, which is now xarray's default way of encoding timedelta64 values.\n",
      "To continue decoding into a timedelta64 dtype, either set `decode_timedelta=True` when opening this dataset, or add the attribute `dtype='timedelta64[ns]'` to this variable on disk.\n",
      "To opt-in to future behavior, set `decode_timedelta=False`.\n",
      "  ds = xr.open_dataset(nc_path)\n"
     ]
    },
    {
     "name": "stdout",
     "output_type": "stream",
     "text": [
      "Converted: D:/Cognitud/Heat Stress\\Wbt25\\climatology-wbt25-annual-mean_cmip6-x0.25_ensemble-all-ssp126_climatology_median_2080-2099.nc -> D:/Cognitud/Heat_Stress_CSV\\Wbt25\\climatology-wbt25-annual-mean_cmip6-x0.25_ensemble-all-ssp126_climatology_median_2080-2099.csv\n"
     ]
    },
    {
     "name": "stderr",
     "output_type": "stream",
     "text": [
      "C:\\Users\\Pekham_Ganguly\\AppData\\Local\\Temp\\ipykernel_10960\\754040362.py:26: FutureWarning: In a future version, xarray will not decode the variable 'climatology-wbt25-annual-mean' into a timedelta64 dtype based on the presence of a timedelta-like 'units' attribute by default. Instead it will rely on the presence of a timedelta64 'dtype' attribute, which is now xarray's default way of encoding timedelta64 values.\n",
      "To continue decoding into a timedelta64 dtype, either set `decode_timedelta=True` when opening this dataset, or add the attribute `dtype='timedelta64[ns]'` to this variable on disk.\n",
      "To opt-in to future behavior, set `decode_timedelta=False`.\n",
      "  ds = xr.open_dataset(nc_path)\n"
     ]
    },
    {
     "name": "stdout",
     "output_type": "stream",
     "text": [
      "Converted: D:/Cognitud/Heat Stress\\Wbt25\\climatology-wbt25-annual-mean_cmip6-x0.25_ensemble-all-ssp245_climatology_median_2020-2039.nc -> D:/Cognitud/Heat_Stress_CSV\\Wbt25\\climatology-wbt25-annual-mean_cmip6-x0.25_ensemble-all-ssp245_climatology_median_2020-2039.csv\n"
     ]
    },
    {
     "name": "stderr",
     "output_type": "stream",
     "text": [
      "C:\\Users\\Pekham_Ganguly\\AppData\\Local\\Temp\\ipykernel_10960\\754040362.py:26: FutureWarning: In a future version, xarray will not decode the variable 'climatology-wbt25-annual-mean' into a timedelta64 dtype based on the presence of a timedelta-like 'units' attribute by default. Instead it will rely on the presence of a timedelta64 'dtype' attribute, which is now xarray's default way of encoding timedelta64 values.\n",
      "To continue decoding into a timedelta64 dtype, either set `decode_timedelta=True` when opening this dataset, or add the attribute `dtype='timedelta64[ns]'` to this variable on disk.\n",
      "To opt-in to future behavior, set `decode_timedelta=False`.\n",
      "  ds = xr.open_dataset(nc_path)\n"
     ]
    },
    {
     "name": "stdout",
     "output_type": "stream",
     "text": [
      "Converted: D:/Cognitud/Heat Stress\\Wbt25\\climatology-wbt25-annual-mean_cmip6-x0.25_ensemble-all-ssp245_climatology_median_2040-2059.nc -> D:/Cognitud/Heat_Stress_CSV\\Wbt25\\climatology-wbt25-annual-mean_cmip6-x0.25_ensemble-all-ssp245_climatology_median_2040-2059.csv\n"
     ]
    },
    {
     "name": "stderr",
     "output_type": "stream",
     "text": [
      "C:\\Users\\Pekham_Ganguly\\AppData\\Local\\Temp\\ipykernel_10960\\754040362.py:26: FutureWarning: In a future version, xarray will not decode the variable 'climatology-wbt25-annual-mean' into a timedelta64 dtype based on the presence of a timedelta-like 'units' attribute by default. Instead it will rely on the presence of a timedelta64 'dtype' attribute, which is now xarray's default way of encoding timedelta64 values.\n",
      "To continue decoding into a timedelta64 dtype, either set `decode_timedelta=True` when opening this dataset, or add the attribute `dtype='timedelta64[ns]'` to this variable on disk.\n",
      "To opt-in to future behavior, set `decode_timedelta=False`.\n",
      "  ds = xr.open_dataset(nc_path)\n"
     ]
    },
    {
     "name": "stdout",
     "output_type": "stream",
     "text": [
      "Converted: D:/Cognitud/Heat Stress\\Wbt25\\climatology-wbt25-annual-mean_cmip6-x0.25_ensemble-all-ssp245_climatology_median_2060-2079.nc -> D:/Cognitud/Heat_Stress_CSV\\Wbt25\\climatology-wbt25-annual-mean_cmip6-x0.25_ensemble-all-ssp245_climatology_median_2060-2079.csv\n"
     ]
    },
    {
     "name": "stderr",
     "output_type": "stream",
     "text": [
      "C:\\Users\\Pekham_Ganguly\\AppData\\Local\\Temp\\ipykernel_10960\\754040362.py:26: FutureWarning: In a future version, xarray will not decode the variable 'climatology-wbt25-annual-mean' into a timedelta64 dtype based on the presence of a timedelta-like 'units' attribute by default. Instead it will rely on the presence of a timedelta64 'dtype' attribute, which is now xarray's default way of encoding timedelta64 values.\n",
      "To continue decoding into a timedelta64 dtype, either set `decode_timedelta=True` when opening this dataset, or add the attribute `dtype='timedelta64[ns]'` to this variable on disk.\n",
      "To opt-in to future behavior, set `decode_timedelta=False`.\n",
      "  ds = xr.open_dataset(nc_path)\n"
     ]
    },
    {
     "name": "stdout",
     "output_type": "stream",
     "text": [
      "Converted: D:/Cognitud/Heat Stress\\Wbt25\\climatology-wbt25-annual-mean_cmip6-x0.25_ensemble-all-ssp245_climatology_median_2080-2099.nc -> D:/Cognitud/Heat_Stress_CSV\\Wbt25\\climatology-wbt25-annual-mean_cmip6-x0.25_ensemble-all-ssp245_climatology_median_2080-2099.csv\n"
     ]
    },
    {
     "name": "stderr",
     "output_type": "stream",
     "text": [
      "C:\\Users\\Pekham_Ganguly\\AppData\\Local\\Temp\\ipykernel_10960\\754040362.py:26: FutureWarning: In a future version, xarray will not decode the variable 'climatology-wbt25-annual-mean' into a timedelta64 dtype based on the presence of a timedelta-like 'units' attribute by default. Instead it will rely on the presence of a timedelta64 'dtype' attribute, which is now xarray's default way of encoding timedelta64 values.\n",
      "To continue decoding into a timedelta64 dtype, either set `decode_timedelta=True` when opening this dataset, or add the attribute `dtype='timedelta64[ns]'` to this variable on disk.\n",
      "To opt-in to future behavior, set `decode_timedelta=False`.\n",
      "  ds = xr.open_dataset(nc_path)\n"
     ]
    },
    {
     "name": "stdout",
     "output_type": "stream",
     "text": [
      "Converted: D:/Cognitud/Heat Stress\\Wbt25\\climatology-wbt25-annual-mean_cmip6-x0.25_ensemble-all-ssp370_climatology_median_2020-2039.nc -> D:/Cognitud/Heat_Stress_CSV\\Wbt25\\climatology-wbt25-annual-mean_cmip6-x0.25_ensemble-all-ssp370_climatology_median_2020-2039.csv\n"
     ]
    },
    {
     "name": "stderr",
     "output_type": "stream",
     "text": [
      "C:\\Users\\Pekham_Ganguly\\AppData\\Local\\Temp\\ipykernel_10960\\754040362.py:26: FutureWarning: In a future version, xarray will not decode the variable 'climatology-wbt25-annual-mean' into a timedelta64 dtype based on the presence of a timedelta-like 'units' attribute by default. Instead it will rely on the presence of a timedelta64 'dtype' attribute, which is now xarray's default way of encoding timedelta64 values.\n",
      "To continue decoding into a timedelta64 dtype, either set `decode_timedelta=True` when opening this dataset, or add the attribute `dtype='timedelta64[ns]'` to this variable on disk.\n",
      "To opt-in to future behavior, set `decode_timedelta=False`.\n",
      "  ds = xr.open_dataset(nc_path)\n"
     ]
    },
    {
     "name": "stdout",
     "output_type": "stream",
     "text": [
      "Converted: D:/Cognitud/Heat Stress\\Wbt25\\climatology-wbt25-annual-mean_cmip6-x0.25_ensemble-all-ssp370_climatology_median_2040-2059.nc -> D:/Cognitud/Heat_Stress_CSV\\Wbt25\\climatology-wbt25-annual-mean_cmip6-x0.25_ensemble-all-ssp370_climatology_median_2040-2059.csv\n"
     ]
    },
    {
     "name": "stderr",
     "output_type": "stream",
     "text": [
      "C:\\Users\\Pekham_Ganguly\\AppData\\Local\\Temp\\ipykernel_10960\\754040362.py:26: FutureWarning: In a future version, xarray will not decode the variable 'climatology-wbt25-annual-mean' into a timedelta64 dtype based on the presence of a timedelta-like 'units' attribute by default. Instead it will rely on the presence of a timedelta64 'dtype' attribute, which is now xarray's default way of encoding timedelta64 values.\n",
      "To continue decoding into a timedelta64 dtype, either set `decode_timedelta=True` when opening this dataset, or add the attribute `dtype='timedelta64[ns]'` to this variable on disk.\n",
      "To opt-in to future behavior, set `decode_timedelta=False`.\n",
      "  ds = xr.open_dataset(nc_path)\n"
     ]
    },
    {
     "name": "stdout",
     "output_type": "stream",
     "text": [
      "Converted: D:/Cognitud/Heat Stress\\Wbt25\\climatology-wbt25-annual-mean_cmip6-x0.25_ensemble-all-ssp370_climatology_median_2060-2079.nc -> D:/Cognitud/Heat_Stress_CSV\\Wbt25\\climatology-wbt25-annual-mean_cmip6-x0.25_ensemble-all-ssp370_climatology_median_2060-2079.csv\n"
     ]
    },
    {
     "name": "stderr",
     "output_type": "stream",
     "text": [
      "C:\\Users\\Pekham_Ganguly\\AppData\\Local\\Temp\\ipykernel_10960\\754040362.py:26: FutureWarning: In a future version, xarray will not decode the variable 'climatology-wbt25-annual-mean' into a timedelta64 dtype based on the presence of a timedelta-like 'units' attribute by default. Instead it will rely on the presence of a timedelta64 'dtype' attribute, which is now xarray's default way of encoding timedelta64 values.\n",
      "To continue decoding into a timedelta64 dtype, either set `decode_timedelta=True` when opening this dataset, or add the attribute `dtype='timedelta64[ns]'` to this variable on disk.\n",
      "To opt-in to future behavior, set `decode_timedelta=False`.\n",
      "  ds = xr.open_dataset(nc_path)\n"
     ]
    },
    {
     "name": "stdout",
     "output_type": "stream",
     "text": [
      "Converted: D:/Cognitud/Heat Stress\\Wbt25\\climatology-wbt25-annual-mean_cmip6-x0.25_ensemble-all-ssp370_climatology_median_2080-2099.nc -> D:/Cognitud/Heat_Stress_CSV\\Wbt25\\climatology-wbt25-annual-mean_cmip6-x0.25_ensemble-all-ssp370_climatology_median_2080-2099.csv\n"
     ]
    },
    {
     "name": "stderr",
     "output_type": "stream",
     "text": [
      "C:\\Users\\Pekham_Ganguly\\AppData\\Local\\Temp\\ipykernel_10960\\754040362.py:26: FutureWarning: In a future version, xarray will not decode the variable 'climatology-wbt25-annual-mean' into a timedelta64 dtype based on the presence of a timedelta-like 'units' attribute by default. Instead it will rely on the presence of a timedelta64 'dtype' attribute, which is now xarray's default way of encoding timedelta64 values.\n",
      "To continue decoding into a timedelta64 dtype, either set `decode_timedelta=True` when opening this dataset, or add the attribute `dtype='timedelta64[ns]'` to this variable on disk.\n",
      "To opt-in to future behavior, set `decode_timedelta=False`.\n",
      "  ds = xr.open_dataset(nc_path)\n"
     ]
    },
    {
     "name": "stdout",
     "output_type": "stream",
     "text": [
      "Converted: D:/Cognitud/Heat Stress\\Wbt25\\climatology-wbt25-annual-mean_cmip6-x0.25_ensemble-all-ssp585_climatology_median_2020-2039.nc -> D:/Cognitud/Heat_Stress_CSV\\Wbt25\\climatology-wbt25-annual-mean_cmip6-x0.25_ensemble-all-ssp585_climatology_median_2020-2039.csv\n"
     ]
    },
    {
     "name": "stderr",
     "output_type": "stream",
     "text": [
      "C:\\Users\\Pekham_Ganguly\\AppData\\Local\\Temp\\ipykernel_10960\\754040362.py:26: FutureWarning: In a future version, xarray will not decode the variable 'climatology-wbt25-annual-mean' into a timedelta64 dtype based on the presence of a timedelta-like 'units' attribute by default. Instead it will rely on the presence of a timedelta64 'dtype' attribute, which is now xarray's default way of encoding timedelta64 values.\n",
      "To continue decoding into a timedelta64 dtype, either set `decode_timedelta=True` when opening this dataset, or add the attribute `dtype='timedelta64[ns]'` to this variable on disk.\n",
      "To opt-in to future behavior, set `decode_timedelta=False`.\n",
      "  ds = xr.open_dataset(nc_path)\n"
     ]
    },
    {
     "name": "stdout",
     "output_type": "stream",
     "text": [
      "Converted: D:/Cognitud/Heat Stress\\Wbt25\\climatology-wbt25-annual-mean_cmip6-x0.25_ensemble-all-ssp585_climatology_median_2040-2059.nc -> D:/Cognitud/Heat_Stress_CSV\\Wbt25\\climatology-wbt25-annual-mean_cmip6-x0.25_ensemble-all-ssp585_climatology_median_2040-2059.csv\n"
     ]
    },
    {
     "name": "stderr",
     "output_type": "stream",
     "text": [
      "C:\\Users\\Pekham_Ganguly\\AppData\\Local\\Temp\\ipykernel_10960\\754040362.py:26: FutureWarning: In a future version, xarray will not decode the variable 'climatology-wbt25-annual-mean' into a timedelta64 dtype based on the presence of a timedelta-like 'units' attribute by default. Instead it will rely on the presence of a timedelta64 'dtype' attribute, which is now xarray's default way of encoding timedelta64 values.\n",
      "To continue decoding into a timedelta64 dtype, either set `decode_timedelta=True` when opening this dataset, or add the attribute `dtype='timedelta64[ns]'` to this variable on disk.\n",
      "To opt-in to future behavior, set `decode_timedelta=False`.\n",
      "  ds = xr.open_dataset(nc_path)\n"
     ]
    },
    {
     "name": "stdout",
     "output_type": "stream",
     "text": [
      "Converted: D:/Cognitud/Heat Stress\\Wbt25\\climatology-wbt25-annual-mean_cmip6-x0.25_ensemble-all-ssp585_climatology_median_2060-2079.nc -> D:/Cognitud/Heat_Stress_CSV\\Wbt25\\climatology-wbt25-annual-mean_cmip6-x0.25_ensemble-all-ssp585_climatology_median_2060-2079.csv\n"
     ]
    },
    {
     "name": "stderr",
     "output_type": "stream",
     "text": [
      "C:\\Users\\Pekham_Ganguly\\AppData\\Local\\Temp\\ipykernel_10960\\754040362.py:26: FutureWarning: In a future version, xarray will not decode the variable 'climatology-wbt25-annual-mean' into a timedelta64 dtype based on the presence of a timedelta-like 'units' attribute by default. Instead it will rely on the presence of a timedelta64 'dtype' attribute, which is now xarray's default way of encoding timedelta64 values.\n",
      "To continue decoding into a timedelta64 dtype, either set `decode_timedelta=True` when opening this dataset, or add the attribute `dtype='timedelta64[ns]'` to this variable on disk.\n",
      "To opt-in to future behavior, set `decode_timedelta=False`.\n",
      "  ds = xr.open_dataset(nc_path)\n"
     ]
    },
    {
     "name": "stdout",
     "output_type": "stream",
     "text": [
      "Converted: D:/Cognitud/Heat Stress\\Wbt25\\climatology-wbt25-annual-mean_cmip6-x0.25_ensemble-all-ssp585_climatology_median_2080-2099.nc -> D:/Cognitud/Heat_Stress_CSV\\Wbt25\\climatology-wbt25-annual-mean_cmip6-x0.25_ensemble-all-ssp585_climatology_median_2080-2099.csv\n"
     ]
    }
   ],
   "source": [
    "import os\n",
    "import xarray as xr\n",
    "import pandas as pd\n",
    "\n",
    "# ========= CONFIG =========\n",
    "IN_DIR  = r\"D:/Cognitud/Heat Stress\"   # Parent folder containing subfolders with NetCDFs\n",
    "OUT_DIR = r\"D:/Cognitud/Heat_Stress_CSV\"      # Parent folder to save CSVs\n",
    "\n",
    "# Make sure output root exists\n",
    "os.makedirs(OUT_DIR, exist_ok=True)\n",
    "\n",
    "# Walk through all subfolders\n",
    "for root, dirs, files in os.walk(IN_DIR):\n",
    "    # Create the equivalent output folder\n",
    "    rel_path = os.path.relpath(root, IN_DIR)\n",
    "    out_subdir = os.path.join(OUT_DIR, rel_path)\n",
    "    os.makedirs(out_subdir, exist_ok=True)\n",
    "\n",
    "    for file in files:\n",
    "        if file.endswith(\".nc\"):\n",
    "            nc_path = os.path.join(root, file)\n",
    "            csv_path = os.path.join(out_subdir, file.replace(\".nc\", \".csv\"))\n",
    "\n",
    "            try:\n",
    "                # Open NetCDF\n",
    "                ds = xr.open_dataset(nc_path)\n",
    "\n",
    "                # Convert to DataFrame\n",
    "                df = ds.to_dataframe().reset_index()\n",
    "\n",
    "                # Save CSV\n",
    "                df.to_csv(csv_path, index=False)\n",
    "                print(f\"Converted: {nc_path} -> {csv_path}\")\n",
    "\n",
    "            except Exception as e:\n",
    "                print(f\"Failed: {nc_path}, Error: {e}\")\n"
   ]
  },
  {
   "cell_type": "code",
   "execution_count": 7,
   "id": "a30374a1-d6e2-410e-aa8c-9b3ecd062a95",
   "metadata": {},
   "outputs": [
    {
     "name": "stdout",
     "output_type": "stream",
     "text": [
      "✅ Found ssp126 2030 in climatology-wbt-annual-mean_cmip6-x0.25_ensemble-all-ssp126_climatology_median_2020-2039.csv\n",
      "📦 Saved: D:\\Cognitud\\Wbt_updated\\Wbt_ssp126_2030.csv\n",
      "✅ Found ssp126 2050 in climatology-wbt-annual-mean_cmip6-x0.25_ensemble-all-ssp126_climatology_median_2040-2059.csv\n",
      "📦 Saved: D:\\Cognitud\\Wbt_updated\\Wbt_ssp126_2050.csv\n",
      "✅ Found ssp126 2099 in climatology-wbt-annual-mean_cmip6-x0.25_ensemble-all-ssp126_climatology_median_2080-2099.csv\n",
      "📦 Saved: D:\\Cognitud\\Wbt_updated\\Wbt_ssp126_2099.csv\n",
      "✅ Found ssp245 2030 in climatology-wbt-annual-mean_cmip6-x0.25_ensemble-all-ssp245_climatology_median_2020-2039.csv\n",
      "📦 Saved: D:\\Cognitud\\Wbt_updated\\Wbt_ssp245_2030.csv\n",
      "✅ Found ssp245 2050 in climatology-wbt-annual-mean_cmip6-x0.25_ensemble-all-ssp245_climatology_median_2040-2059.csv\n",
      "📦 Saved: D:\\Cognitud\\Wbt_updated\\Wbt_ssp245_2050.csv\n",
      "✅ Found ssp245 2099 in climatology-wbt-annual-mean_cmip6-x0.25_ensemble-all-ssp245_climatology_median_2080-2099.csv\n",
      "📦 Saved: D:\\Cognitud\\Wbt_updated\\Wbt_ssp245_2099.csv\n",
      "✅ Found ssp370 2030 in anomaly-wbt-annual-mean_cmip6-x0.25_ec-earth3-veg-lr-r1i1p1f1-ssp370_climatology_mean_2020-2039.csv\n",
      "📦 Saved: D:\\Cognitud\\Wbt_updated\\Wbt_ssp370_2030.csv\n",
      "✅ Found ssp370 2050 in anomaly-wbt-annual-mean_cmip6-x0.25_ec-earth3-veg-lr-r1i1p1f1-ssp370_climatology_mean_2040-2059.csv\n",
      "📦 Saved: D:\\Cognitud\\Wbt_updated\\Wbt_ssp370_2050.csv\n",
      "✅ Found ssp370 2099 in anomaly-wbt-annual-mean_cmip6-x0.25_ec-earth3-veg-lr-r1i1p1f1-ssp370_climatology_mean_2080-2099.csv\n",
      "📦 Saved: D:\\Cognitud\\Wbt_updated\\Wbt_ssp370_2099.csv\n",
      "✅ Found ssp585 2030 in climatology-wbt-annual-mean_cmip6-x0.25_ensemble-all-ssp585_climatology_median_2020-2039.csv\n",
      "📦 Saved: D:\\Cognitud\\Wbt_updated\\Wbt_ssp585_2030.csv\n",
      "✅ Found ssp585 2050 in climatology-wbt-annual-mean_cmip6-x0.25_ensemble-all-ssp585_climatology_median_2040-2059.csv\n",
      "📦 Saved: D:\\Cognitud\\Wbt_updated\\Wbt_ssp585_2050.csv\n",
      "✅ Found ssp585 2099 in climatology-wbt-annual-mean_cmip6-x0.25_ensemble-all-ssp585_climatology_median_2080-2099.csv\n",
      "📦 Saved: D:\\Cognitud\\Wbt_updated\\Wbt_ssp585_2099.csv\n"
     ]
    }
   ],
   "source": [
    "import os\n",
    "import re\n",
    "import pandas as pd\n",
    "\n",
    "# 📂 Path to Wbt folder (input)\n",
    "WBT_DIR = r\"D:\\Cognitud\\Heat_Stress_CSV\\Wbt\"\n",
    "\n",
    "# 📂 Output folder (new)\n",
    "OUTPUT_DIR = r\"D:\\Cognitud\\Wbt_updated\"\n",
    "os.makedirs(OUTPUT_DIR, exist_ok=True)\n",
    "\n",
    "# 🔹 Scenarios\n",
    "SCENARIOS = [\"ssp126\", \"ssp245\", \"ssp370\", \"ssp585\"]\n",
    "\n",
    "# 🔹 Years of interest\n",
    "TARGET_YEARS = [2030, 2050, 2099]\n",
    "\n",
    "def find_csvs_for_scenario(scenario):\n",
    "    \"\"\"Return list of CSV files matching a scenario\"\"\"\n",
    "    return [f for f in os.listdir(WBT_DIR) if f.endswith(\".csv\") and scenario in f]\n",
    "\n",
    "def match_year_to_file(file, year):\n",
    "    \"\"\"Check if year fits inside filename period (e.g., 2020–2039 contains 2030)\"\"\"\n",
    "    match = re.search(r\"(\\d{4})-(\\d{4})\", file)\n",
    "    if match:\n",
    "        start_year, end_year = int(match.group(1)), int(match.group(2))\n",
    "        return start_year <= year <= end_year\n",
    "    return False\n",
    "\n",
    "for scen in SCENARIOS:\n",
    "    csvs = find_csvs_for_scenario(scen)\n",
    "\n",
    "    for year in TARGET_YEARS:\n",
    "        dfs = []\n",
    "\n",
    "        for file in csvs:\n",
    "            if match_year_to_file(file, year):\n",
    "                file_path = os.path.join(WBT_DIR, file)\n",
    "                df = pd.read_csv(file_path)\n",
    "\n",
    "                # Ensure correct value column\n",
    "                if \"climatology-wbt-annual-mean\" in df.columns:\n",
    "                    value_col = \"climatology-wbt-annual-mean\"\n",
    "                else:\n",
    "                    value_col = df.columns[4]  # fallback\n",
    "\n",
    "                # Keep required columns\n",
    "                df = df[[\"lat\", \"lon\", \"lon_bnds\", \"lat_bnds\", value_col]].copy()\n",
    "                df.rename(columns={value_col: \"climatology-wbt-annual-mean\"}, inplace=True)\n",
    "\n",
    "                # Add metadata\n",
    "                df[\"year\"] = year\n",
    "                df[\"scenario\"] = scen\n",
    "\n",
    "                dfs.append(df)\n",
    "                print(f\"✅ Found {scen} {year} in {file}\")\n",
    "\n",
    "        if dfs:\n",
    "            merged = pd.concat(dfs, ignore_index=True)\n",
    "            output_file = os.path.join(OUTPUT_DIR, f\"Wbt_{scen}_{year}.csv\")\n",
    "            merged.to_csv(output_file, index=False)\n",
    "            print(f\"📦 Saved: {output_file}\")\n",
    "        else:\n",
    "            print(f\"⚠️ No file found for {scen} {year}\")\n"
   ]
  },
  {
   "cell_type": "code",
   "execution_count": 16,
   "id": "60a6a7a1-802e-4125-8a7b-c85e4f318a4c",
   "metadata": {},
   "outputs": [
    {
     "name": "stdout",
     "output_type": "stream",
     "text": [
      "📦 Saved GeoTIFF (fixed orientation): D:\\Cognitud\\Wbt_tiffs\\Wbt_ssp126_2030.tif\n",
      "📦 Saved GeoTIFF (fixed orientation): D:\\Cognitud\\Wbt_tiffs\\Wbt_ssp126_2050.tif\n",
      "📦 Saved GeoTIFF (fixed orientation): D:\\Cognitud\\Wbt_tiffs\\Wbt_ssp126_2099.tif\n",
      "📦 Saved GeoTIFF (fixed orientation): D:\\Cognitud\\Wbt_tiffs\\Wbt_ssp245_2030.tif\n",
      "📦 Saved GeoTIFF (fixed orientation): D:\\Cognitud\\Wbt_tiffs\\Wbt_ssp245_2050.tif\n",
      "📦 Saved GeoTIFF (fixed orientation): D:\\Cognitud\\Wbt_tiffs\\Wbt_ssp245_2099.tif\n",
      "📦 Saved GeoTIFF (fixed orientation): D:\\Cognitud\\Wbt_tiffs\\Wbt_ssp585_2030.tif\n",
      "📦 Saved GeoTIFF (fixed orientation): D:\\Cognitud\\Wbt_tiffs\\Wbt_ssp585_2050.tif\n",
      "📦 Saved GeoTIFF (fixed orientation): D:\\Cognitud\\Wbt_tiffs\\Wbt_ssp585_2099.tif\n"
     ]
    }
   ],
   "source": [
    "import os\n",
    "import pandas as pd\n",
    "import numpy as np\n",
    "from scipy.interpolate import griddata\n",
    "import rasterio\n",
    "from rasterio.transform import from_origin\n",
    "\n",
    "# 📂 Input: processed CSVs\n",
    "INPUT_DIR = r\"D:\\Cognitud\\Wbt_updated\"\n",
    "\n",
    "# 📂 Output: GeoTIFFs\n",
    "OUTPUT_DIR = r\"D:\\Cognitud\\Wbt_tiffs\"\n",
    "os.makedirs(OUTPUT_DIR, exist_ok=True)\n",
    "\n",
    "# 🔎 Collect all CSVs\n",
    "csv_files = [f for f in os.listdir(INPUT_DIR) if f.endswith(\".csv\")]\n",
    "\n",
    "for file in csv_files:\n",
    "    file_path = os.path.join(INPUT_DIR, file)\n",
    "\n",
    "    # Load CSV\n",
    "    df = pd.read_csv(file_path)\n",
    "\n",
    "    # Extract lat/lon/value\n",
    "    lats = df[\"lat\"].values\n",
    "    lons = df[\"lon\"].values\n",
    "    values = df[\"climatology-wbt-annual-mean\"].values\n",
    "\n",
    "    # Create interpolation grid\n",
    "    lon_grid = np.linspace(lons.min(), lons.max(), 500)   \n",
    "    lat_grid = np.linspace(lats.max(), lats.min(), 500)   # 🔹 flip order (north → south)\n",
    "    lon_mesh, lat_mesh = np.meshgrid(lon_grid, lat_grid)\n",
    "\n",
    "    # Interpolate values\n",
    "    grid_z = griddata((lons, lats), values, (lon_mesh, lat_mesh), method=\"cubic\")\n",
    "\n",
    "    # Raster metadata\n",
    "    pixel_size_lon = (lons.max() - lons.min()) / (len(lon_grid) - 1)\n",
    "    pixel_size_lat = (lats.max() - lats.min()) / (len(lat_grid) - 1)\n",
    "\n",
    "    transform = from_origin(lon_grid.min(), lat_grid.max(), pixel_size_lon, abs(pixel_size_lat))\n",
    "\n",
    "    # Define raster profile\n",
    "    with rasterio.open(\n",
    "        os.path.join(OUTPUT_DIR, file.replace(\".csv\", \".tif\")),\n",
    "        \"w\",\n",
    "        driver=\"GTiff\",\n",
    "        height=grid_z.shape[0],\n",
    "        width=grid_z.shape[1],\n",
    "        count=1,\n",
    "        dtype=str(grid_z.dtype),\n",
    "        crs=\"EPSG:4326\",\n",
    "        transform=transform,\n",
    "    ) as dst:\n",
    "        dst.write(np.nan_to_num(grid_z), 1)\n",
    "\n",
    "    print(f\"📦 Saved GeoTIFF (fixed orientation): {os.path.join(OUTPUT_DIR, file.replace('.csv', '.tif'))}\")\n"
   ]
  },
  {
   "cell_type": "code",
   "execution_count": 34,
   "id": "9dbb9fa8-c97e-479a-8f84-768cfa99f41c",
   "metadata": {},
   "outputs": [
    {
     "name": "stdout",
     "output_type": "stream",
     "text": [
      "🔎 Found time column: time\n",
      "📊 This file looks like a climatology dataset (only one representative year: 1995).\n"
     ]
    }
   ],
   "source": [
    "import pandas as pd\n",
    "\n",
    "# 📂 Path to your CSV (change this)\n",
    "CSV_FILE = r\"D:\\Cognitud\\climatology-wbt-annual-mean_cmip6-x0.25_ensemble-all-historical_climatology_p10_1995-2014.csv\"\n",
    "\n",
    "# Load CSV\n",
    "df = pd.read_csv(CSV_FILE)\n",
    "\n",
    "# Possible time-related columns to check\n",
    "time_candidates = [\"time\", \"year\", \"date\"]\n",
    "\n",
    "# Find which column exists\n",
    "time_col = None\n",
    "for col in time_candidates:\n",
    "    if col in df.columns:\n",
    "        time_col = col\n",
    "        break\n",
    "\n",
    "if not time_col:\n",
    "    print(\"⚠️ No 'time', 'year', or 'date' column found — likely a climatology CSV with no yearly breakdown.\")\n",
    "else:\n",
    "    print(f\"🔎 Found time column: {time_col}\")\n",
    "\n",
    "    # If it's already year numbers\n",
    "    if time_col.lower() == \"year\" and pd.api.types.is_integer_dtype(df[time_col]):\n",
    "        unique_years = df[time_col].dropna().unique()\n",
    "    else:\n",
    "        # Try to parse as datetime\n",
    "        df[time_col] = pd.to_datetime(df[time_col], errors=\"coerce\")\n",
    "        df[\"year_extracted\"] = df[time_col].dt.year\n",
    "        unique_years = df[\"year_extracted\"].dropna().unique()\n",
    "\n",
    "    # Report results\n",
    "    if len(unique_years) == 0:\n",
    "        print(\"⚠️ No valid years detected in this CSV.\")\n",
    "    elif len(unique_years) == 1:\n",
    "        print(f\"📊 This file looks like a climatology dataset (only one representative year: {unique_years[0]}).\")\n",
    "    else:\n",
    "        print(f\"📊 This file contains yearly data: {unique_years.min()} → {unique_years.max()}\")\n",
    "        print(\"✅ Unique years found:\", sorted(unique_years))\n"
   ]
  },
  {
   "cell_type": "code",
   "execution_count": 18,
   "id": "bf96a22e-e3a1-4cc9-be8f-339b549104ba",
   "metadata": {},
   "outputs": [
    {
     "name": "stdout",
     "output_type": "stream",
     "text": [
      "📊 Variables in file: ['sfcWind', 'time_bnds', 'lat_bnds', 'lon_bnds']\n",
      "📐 Dimensions: FrozenMappingWarningOnValuesAccess({'time': 365, 'lat': 192, 'lon': 288, 'nbnd': 2})\n",
      "Unexpected exception formatting exception. Falling back to standard exception\n"
     ]
    },
    {
     "name": "stderr",
     "output_type": "stream",
     "text": [
      "Traceback (most recent call last):\n",
      "  File \"C:\\Users\\Pekham_Ganguly\\AppData\\Local\\Programs\\Python\\Python313\\Lib\\site-packages\\IPython\\core\\interactiveshell.py\", line 2168, in showtraceback\n",
      "    stb = self.InteractiveTB.structured_traceback(\n",
      "        etype, value, tb, tb_offset=tb_offset\n",
      "    )\n",
      "  File \"C:\\Users\\Pekham_Ganguly\\AppData\\Local\\Programs\\Python\\Python313\\Lib\\site-packages\\IPython\\core\\ultratb.py\", line 1457, in structured_traceback\n",
      "    return FormattedTB.structured_traceback(\n",
      "           ~~~~~~~~~~~~~~~~~~~~~~~~~~~~~~~~^\n",
      "        self, etype, evalue, etb, tb_offset, number_of_lines_of_context\n",
      "        ^^^^^^^^^^^^^^^^^^^^^^^^^^^^^^^^^^^^^^^^^^^^^^^^^^^^^^^^^^^^^^^\n",
      "    )\n",
      "    ^\n",
      "  File \"C:\\Users\\Pekham_Ganguly\\AppData\\Local\\Programs\\Python\\Python313\\Lib\\site-packages\\IPython\\core\\ultratb.py\", line 1348, in structured_traceback\n",
      "    return VerboseTB.structured_traceback(\n",
      "           ~~~~~~~~~~~~~~~~~~~~~~~~~~~~~~^\n",
      "        self, etype, value, tb, tb_offset, number_of_lines_of_context\n",
      "        ^^^^^^^^^^^^^^^^^^^^^^^^^^^^^^^^^^^^^^^^^^^^^^^^^^^^^^^^^^^^^\n",
      "    )\n",
      "    ^\n",
      "  File \"C:\\Users\\Pekham_Ganguly\\AppData\\Local\\Programs\\Python\\Python313\\Lib\\site-packages\\IPython\\core\\ultratb.py\", line 1195, in structured_traceback\n",
      "    formatted_exception = self.format_exception_as_a_whole(etype, evalue, etb, number_of_lines_of_context,\n",
      "                                                           tb_offset)\n",
      "  File \"C:\\Users\\Pekham_Ganguly\\AppData\\Local\\Programs\\Python\\Python313\\Lib\\site-packages\\IPython\\core\\ultratb.py\", line 1085, in format_exception_as_a_whole\n",
      "    self.get_records(etb, number_of_lines_of_context, tb_offset) if etb else []\n",
      "    ~~~~~~~~~~~~~~~~^^^^^^^^^^^^^^^^^^^^^^^^^^^^^^^^^^^^^^^^^^^^\n",
      "  File \"C:\\Users\\Pekham_Ganguly\\AppData\\Local\\Programs\\Python\\Python313\\Lib\\site-packages\\IPython\\core\\ultratb.py\", line 1182, in get_records\n",
      "    res = list(stack_data.FrameInfo.stack_data(etb, options=options))[tb_offset:]\n",
      "          ~~~~^^^^^^^^^^^^^^^^^^^^^^^^^^^^^^^^^^^^^^^^^^^^^^^^^^^^^^^\n",
      "  File \"C:\\Users\\Pekham_Ganguly\\AppData\\Local\\Programs\\Python\\Python313\\Lib\\site-packages\\stack_data\\core.py\", line 597, in stack_data\n",
      "    yield from collapse_repeated(\n",
      "    ...<4 lines>...\n",
      "    )\n",
      "  File \"C:\\Users\\Pekham_Ganguly\\AppData\\Local\\Programs\\Python\\Python313\\Lib\\site-packages\\stack_data\\utils.py\", line 83, in collapse_repeated\n",
      "    yield from map(mapper, original_group)\n",
      "  File \"C:\\Users\\Pekham_Ganguly\\AppData\\Local\\Programs\\Python\\Python313\\Lib\\site-packages\\stack_data\\core.py\", line 587, in mapper\n",
      "    return cls(f, options)\n",
      "  File \"C:\\Users\\Pekham_Ganguly\\AppData\\Local\\Programs\\Python\\Python313\\Lib\\site-packages\\stack_data\\core.py\", line 551, in __init__\n",
      "    self.executing = Source.executing(frame_or_tb)\n",
      "                     ~~~~~~~~~~~~~~~~^^^^^^^^^^^^^\n",
      "  File \"C:\\Users\\Pekham_Ganguly\\AppData\\Local\\Programs\\Python\\Python313\\Lib\\site-packages\\executing\\executing.py\", line 264, in executing\n",
      "    source = cls.for_frame(frame)\n",
      "  File \"C:\\Users\\Pekham_Ganguly\\AppData\\Local\\Programs\\Python\\Python313\\Lib\\site-packages\\executing\\executing.py\", line 183, in for_frame\n",
      "    return cls.for_filename(frame.f_code.co_filename, frame.f_globals or {}, use_cache)\n",
      "           ~~~~~~~~~~~~~~~~^^^^^^^^^^^^^^^^^^^^^^^^^^^^^^^^^^^^^^^^^^^^^^^^^^^^^^^^^^^^\n",
      "  File \"C:\\Users\\Pekham_Ganguly\\AppData\\Local\\Programs\\Python\\Python313\\Lib\\site-packages\\executing\\executing.py\", line 212, in for_filename\n",
      "    return cls._for_filename_and_lines(filename, tuple(lines))\n",
      "           ~~~~~~~~~~~~~~~~~~~~~~~~~~~^^^^^^^^^^^^^^^^^^^^^^^^\n",
      "  File \"C:\\Users\\Pekham_Ganguly\\AppData\\Local\\Programs\\Python\\Python313\\Lib\\site-packages\\executing\\executing.py\", line 223, in _for_filename_and_lines\n",
      "    result = source_cache[(filename, lines)] = cls(filename, lines)\n",
      "                                               ~~~^^^^^^^^^^^^^^^^^\n",
      "  File \"C:\\Users\\Pekham_Ganguly\\AppData\\Local\\Programs\\Python\\Python313\\Lib\\site-packages\\executing\\executing.py\", line 163, in __init__\n",
      "    self.tree = ast.parse(self.text, filename=filename)\n",
      "                ~~~~~~~~~^^^^^^^^^^^^^^^^^^^^^^^^^^^^^^\n",
      "  File \"C:\\Users\\Pekham_Ganguly\\AppData\\Local\\Programs\\Python\\Python313\\Lib\\ast.py\", line 50, in parse\n",
      "    return compile(source, filename, mode, flags,\n",
      "                   _feature_version=feature_version, optimize=optimize)\n",
      "MemoryError\n"
     ]
    }
   ],
   "source": [
    "import xarray as xr\n",
    "import pandas as pd\n",
    "import os\n",
    "\n",
    "# 📂 Input NetCDF file\n",
    "NC_FILE = r\"D:\\Cognitud\\68bb0136d698235e8a89c53faf98c7c1\\sfcWind_day_CESM2_historical_r1i1p1f1_gn_20140101-20141231.nc\"\n",
    "\n",
    "# 📂 Output CSV file\n",
    "OUTPUT_CSV = NC_FILE.replace(\".nc\", \".csv\")\n",
    "\n",
    "# 🔹 Open dataset\n",
    "ds = xr.open_dataset(NC_FILE)\n",
    "\n",
    "print(\"📊 Variables in file:\", list(ds.data_vars))\n",
    "print(\"📐 Dimensions:\", ds.dims)\n",
    "\n",
    "# 🔹 Convert to DataFrame\n",
    "df = ds.to_dataframe().reset_index()\n",
    "\n",
    "# 🔹 Save to CSV\n",
    "df.to_csv(OUTPUT_CSV, index=False)\n",
    "\n",
    "print(f\"✅ Saved CSV: {OUTPUT_CSV}\")\n"
   ]
  },
  {
   "cell_type": "code",
   "execution_count": 27,
   "id": "1c633928-4af4-456c-83cb-6108b11066bd",
   "metadata": {},
   "outputs": [
    {
     "name": "stdout",
     "output_type": "stream",
     "text": [
      "✅ India 2014 tasmax + hurs + wind saved: D:\\Cognitud\\Heat Stress Project\\india_tasmax_hurs_wind_2014.csv\n",
      "Shape: (0, 5)\n"
     ]
    }
   ],
   "source": [
    "import xarray as xr\n",
    "import pandas as pd\n",
    "\n",
    "# ==== Input NetCDFs ====\n",
    "tasmax_nc = r\"D:\\Cognitud\\Heat Stress Project\\timeseries-tasmax-annual-mean_cmip6-x0.25_ensemble-all-historical_timeseries-smooth_median_1950-2014.nc\"\n",
    "hurs_nc   = r\"D:\\Cognitud\\Heat Stress Project\\timeseries-hurs-annual-mean_cmip6-x0.25_ensemble-all-historical_timeseries-smooth_median_1950-2014.nc\"\n",
    "\n",
    "# ==== Wind CSV (annual mean) ====\n",
    "wind_csv  = r\"D:\\Cognitud\\Heat Stress Project\\sfcWind_annual_mean_2014.csv\"\n",
    "\n",
    "# ==== Output ====\n",
    "out_csv = r\"D:\\Cognitud\\Heat Stress Project\\india_tasmax_hurs_wind_2014.csv\"\n",
    "\n",
    "# ==== Helper: extract 2014 slice from annual NetCDF ====\n",
    "def get_2014_array(ncfile):\n",
    "    ds = xr.open_dataset(ncfile, decode_times=False)\n",
    "    var = list(ds.data_vars.keys())[0]\n",
    "    if 2014 in ds['time'].values:\n",
    "        da_2014 = ds[var].sel(time=2014)\n",
    "    else:\n",
    "        da_2014 = ds[var].isel(time=-1)\n",
    "    return da_2014, ds\n",
    "\n",
    "# ==== Load tasmax & hurs ====\n",
    "tas_2014, tas_ds = get_2014_array(tasmax_nc)\n",
    "hurs_2014, hurs_ds = get_2014_array(hurs_nc)\n",
    "\n",
    "# ==== Subset to India (lat: 6–37.5, lon: 68–98) ====\n",
    "lat_min, lat_max = float(tas_ds['lat'].values.min()), float(tas_ds['lat'].values.max())\n",
    "lon_min, lon_max = float(tas_ds['lon'].values.min()), float(tas_ds['lon'].values.max())\n",
    "\n",
    "if lat_min < lat_max:  # -90 → 90\n",
    "    lat_slice = slice(6.0, 37.5)\n",
    "else:                  # 90 → -90\n",
    "    lat_slice = slice(37.5, 6.0)\n",
    "\n",
    "if lon_min >= 0:       # 0–360\n",
    "    lon_slice = slice(68.0, 98.0)\n",
    "else:                  # -180–180\n",
    "    lon_slice = slice(68.0, 98.0)\n",
    "\n",
    "tas_india = tas_2014.sel(lat=lat_slice, lon=lon_slice)\n",
    "hurs_india = hurs_2014.sel(lat=lat_slice, lon=lon_slice)\n",
    "\n",
    "# ==== Convert NetCDFs to DataFrames ====\n",
    "tas_df = tas_india.to_dataframe().reset_index()\n",
    "hurs_df = hurs_india.to_dataframe().reset_index()\n",
    "\n",
    "df = pd.merge(tas_df, hurs_df, on=[\"lat\", \"lon\"], suffixes=(\"_tasmax\", \"_hurs\"))\n",
    "\n",
    "# ==== Load Wind CSV ====\n",
    "wind_df = pd.read_csv(wind_csv)\n",
    "\n",
    "# Convert lon from 0–360 → -180–180\n",
    "wind_df[\"lon\"] = wind_df[\"lon\"].apply(lambda x: x-360 if x > 180 else x)\n",
    "\n",
    "# Subset wind to India region\n",
    "wind_df = wind_df[(wind_df[\"lat\"] >= 6) & (wind_df[\"lat\"] <= 37.5) &\n",
    "                  (wind_df[\"lon\"] >= 68) & (wind_df[\"lon\"] <= 98)]\n",
    "\n",
    "# ==== Merge with nearest matching lat/lon ====\n",
    "df[\"lat_round\"] = df[\"lat\"].round(2)\n",
    "df[\"lon_round\"] = df[\"lon\"].round(2)\n",
    "wind_df[\"lat_round\"] = wind_df[\"lat\"].round(2)\n",
    "wind_df[\"lon_round\"] = wind_df[\"lon\"].round(2)\n",
    "\n",
    "final_df = pd.merge(df, wind_df, on=[\"lat_round\", \"lon_round\"], how=\"inner\")\n",
    "\n",
    "# Restore lat/lon from rounded values\n",
    "final_df = final_df.rename(columns={\"lat_round\": \"lat\", \"lon_round\": \"lon\"})\n",
    "\n",
    "# Keep only useful columns\n",
    "final_df = final_df[[\"lat\", \"lon\", \n",
    "                     \"timeseries-tasmax-annual-mean\", \n",
    "                     \"timeseries-hurs-annual-mean\", \n",
    "                     \"sfcWind_2014\"]]\n",
    "\n",
    "# ==== Save CSV ====\n",
    "final_df.to_csv(out_csv, index=False)\n",
    "print(f\"✅ India 2014 tasmax + hurs + wind saved: {out_csv}\")\n",
    "print(\"Shape:\", final_df.shape)\n"
   ]
  },
  {
   "cell_type": "code",
   "execution_count": 23,
   "id": "bb2e71ab-a11d-4f38-a018-74c2a798b200",
   "metadata": {},
   "outputs": [
    {
     "name": "stdout",
     "output_type": "stream",
     "text": [
      "Variable: sfcWind\n",
      "✅ Annual mean wind speed saved: D:\\Cognitud\\Heat Stress Project\\sfcWind_annual_mean_2014.csv\n",
      "Shape: (55296, 3)\n"
     ]
    }
   ],
   "source": [
    "import xarray as xr\n",
    "import pandas as pd\n",
    "\n",
    "# ==== Input NetCDF ====\n",
    "nc_file = r\"D:\\Cognitud\\68bb0136d698235e8a89c53faf98c7c1\\sfcWind_day_CESM2_historical_r1i1p1f1_gn_20140101-20141231.nc\"\n",
    "\n",
    "# ==== Output CSV ====\n",
    "out_csv = r\"D:\\Cognitud\\Heat Stress Project\\sfcWind_annual_mean_2014.csv\"\n",
    "\n",
    "# ==== Load dataset ====\n",
    "ds = xr.open_dataset(nc_file, decode_times=True)\n",
    "var = list(ds.data_vars.keys())[0]  # usually \"sfcWind\"\n",
    "print(\"Variable:\", var)\n",
    "\n",
    "# ==== Select 2014 & compute annual mean ====\n",
    "wind_2014 = ds[var].sel(time=slice(\"2014-01-01\", \"2014-12-31\"))\n",
    "wind_2014_mean = wind_2014.mean(dim=\"time\")\n",
    "\n",
    "# ==== Convert to DataFrame ====\n",
    "df = wind_2014_mean.to_dataframe().reset_index()\n",
    "df.rename(columns={var: \"sfcWind_2014\"}, inplace=True)\n",
    "\n",
    "# ==== Save CSV ====\n",
    "df.to_csv(out_csv, index=False)\n",
    "print(f\"✅ Annual mean wind speed saved: {out_csv}\")\n",
    "print(\"Shape:\", df.shape)\n"
   ]
  },
  {
   "cell_type": "code",
   "execution_count": 28,
   "id": "d47723a8-5b04-46ef-bcb5-0a64c50a799d",
   "metadata": {},
   "outputs": [
    {
     "name": "stdout",
     "output_type": "stream",
     "text": [
      "Variable: sfcWind\n",
      "✅ Saved annual mean wind raster: D:\\Cognitud\\Heat Stress Project\\sfcWind_annual_mean_2014.tif\n"
     ]
    }
   ],
   "source": [
    "import xarray as xr\n",
    "import rasterio\n",
    "from rasterio.transform import from_origin\n",
    "import numpy as np\n",
    "\n",
    "# ==== Input NetCDF ====\n",
    "nc_file = r\"D:\\Cognitud\\68bb0136d698235e8a89c53faf98c7c1\\sfcWind_day_CESM2_historical_r1i1p1f1_gn_20140101-20141231.nc\"\n",
    "\n",
    "# ==== Output GeoTIFF ====\n",
    "out_tif = r\"D:\\Cognitud\\Heat Stress Project\\sfcWind_annual_mean_2014.tif\"\n",
    "\n",
    "# ==== Load dataset ====\n",
    "ds = xr.open_dataset(nc_file, decode_times=True)\n",
    "var = list(ds.data_vars.keys())[0]  # usually 'sfcWind'\n",
    "print(\"Variable:\", var)\n",
    "\n",
    "# ==== Select 2014 and compute annual mean ====\n",
    "wind_2014 = ds[var].sel(time=slice(\"2014-01-01\", \"2014-12-31\"))\n",
    "wind_annual_mean = wind_2014.mean(dim=\"time\")\n",
    "\n",
    "# ==== Extract coordinates and data ====\n",
    "lat = wind_annual_mean[\"lat\"].values\n",
    "lon = wind_annual_mean[\"lon\"].values\n",
    "data = wind_annual_mean.values\n",
    "\n",
    "# Ensure 2D orientation matches GeoTIFF convention\n",
    "if lat[0] < lat[-1]:\n",
    "    lat = lat[::-1]\n",
    "    data = data[::-1, :]\n",
    "\n",
    "# ==== Define transform ====\n",
    "res_lon = lon[1] - lon[0]\n",
    "res_lat = lat[0] - lat[1]  # negative\n",
    "transform = from_origin(lon.min(), lat.max(), res_lon, abs(res_lat))\n",
    "\n",
    "# ==== Save to GeoTIFF ====\n",
    "profile = {\n",
    "    \"driver\": \"GTiff\",\n",
    "    \"height\": data.shape[0],\n",
    "    \"width\": data.shape[1],\n",
    "    \"count\": 1,\n",
    "    \"dtype\": \"float32\",\n",
    "    \"crs\": \"EPSG:4326\",\n",
    "    \"transform\": transform,\n",
    "}\n",
    "\n",
    "with rasterio.open(out_tif, \"w\", **profile) as dst:\n",
    "    dst.write(data.astype(np.float32), 1)\n",
    "\n",
    "print(f\"✅ Saved annual mean wind raster: {out_tif}\")\n"
   ]
  },
  {
   "cell_type": "code",
   "execution_count": 29,
   "id": "af650a7f-511b-4290-841a-b2f89cf7d0af",
   "metadata": {},
   "outputs": [
    {
     "name": "stdout",
     "output_type": "stream",
     "text": [
      "✅ Saved 2014 raster to D:\\Cognitud\\Heat Stress Project\\tasmax_2014.tif\n",
      "✅ Saved 2014 raster to D:\\Cognitud\\Heat Stress Project\\hurs_2014.tif\n"
     ]
    }
   ],
   "source": [
    "import xarray as xr\n",
    "import rasterio\n",
    "from rasterio.transform import from_origin\n",
    "import numpy as np\n",
    "\n",
    "# ==== Input NetCDFs ====\n",
    "tasmax_nc = r\"D:\\Cognitud\\Heat Stress Project\\timeseries-tasmax-annual-mean_cmip6-x0.25_ensemble-all-historical_timeseries-smooth_median_1950-2014.nc\"\n",
    "hurs_nc   = r\"D:\\Cognitud\\Heat Stress Project\\timeseries-hurs-annual-mean_cmip6-x0.25_ensemble-all-historical_timeseries-smooth_median_1950-2014.nc\"\n",
    "\n",
    "# ==== Output GeoTIFFs ====\n",
    "tasmax_tif = r\"D:\\Cognitud\\Heat Stress Project\\tasmax_2014.tif\"\n",
    "hurs_tif   = r\"D:\\Cognitud\\Heat Stress Project\\hurs_2014.tif\"\n",
    "\n",
    "# ==== Helper function ====\n",
    "def extract_and_save(ncfile, year, out_tif):\n",
    "    ds = xr.open_dataset(ncfile, decode_times=False)\n",
    "    var = list(ds.data_vars.keys())[0]\n",
    "\n",
    "    # Extract 2014 raster\n",
    "    if 2014 in ds[\"time\"].values:\n",
    "        da_2014 = ds[var].sel(time=2014)\n",
    "    else:\n",
    "        da_2014 = ds[var].isel(time=-1)  # fallback: last timestep\n",
    "\n",
    "    lat = da_2014[\"lat\"].values\n",
    "    lon = da_2014[\"lon\"].values\n",
    "    data = da_2014.values\n",
    "\n",
    "    # Ensure orientation (north → south)\n",
    "    if lat[0] < lat[-1]:\n",
    "        lat = lat[::-1]\n",
    "        data = data[::-1, :]\n",
    "\n",
    "    # Define transform\n",
    "    res_lon = lon[1] - lon[0]\n",
    "    res_lat = lat[0] - lat[1]  # negative\n",
    "    transform = from_origin(lon.min(), lat.max(), res_lon, abs(res_lat))\n",
    "\n",
    "    profile = {\n",
    "        \"driver\": \"GTiff\",\n",
    "        \"height\": data.shape[0],\n",
    "        \"width\": data.shape[1],\n",
    "        \"count\": 1,\n",
    "        \"dtype\": \"float32\",\n",
    "        \"crs\": \"EPSG:4326\",\n",
    "        \"transform\": transform,\n",
    "    }\n",
    "\n",
    "    with rasterio.open(out_tif, \"w\", **profile) as dst:\n",
    "        dst.write(data.astype(np.float32), 1)\n",
    "\n",
    "    print(f\"✅ Saved {year} raster to {out_tif}\")\n",
    "\n",
    "# ==== Run for tasmax and hurs ====\n",
    "extract_and_save(tasmax_nc, 2014, tasmax_tif)\n",
    "extract_and_save(hurs_nc, 2014, hurs_tif)\n"
   ]
  },
  {
   "cell_type": "code",
   "execution_count": 30,
   "id": "98acd2b1-1466-43aa-91bc-e05e0c53d299",
   "metadata": {},
   "outputs": [
    {
     "name": "stdout",
     "output_type": "stream",
     "text": [
      "✅ Reprojected wind raster saved: D:\\Cognitud\\Heat Stress Project\\sfcWind_annual_mean_2014_aligned.tif\n"
     ]
    }
   ],
   "source": [
    "import rasterio\n",
    "from rasterio.warp import calculate_default_transform, reproject, Resampling\n",
    "\n",
    "# ==== Input files ====\n",
    "wind_tif   = r\"D:\\Cognitud\\Heat Stress Project\\sfcWind_annual_mean_2014.tif\"\n",
    "tasmax_tif = r\"D:\\Cognitud\\Heat Stress Project\\tasmax_2014.tif\"\n",
    "\n",
    "# ==== Output file ====\n",
    "wind_aligned_tif = r\"D:\\Cognitud\\Heat Stress Project\\sfcWind_annual_mean_2014_aligned.tif\"\n",
    "\n",
    "# ==== Open tasmax (reference raster) ====\n",
    "with rasterio.open(tasmax_tif) as ref:\n",
    "    ref_crs = ref.crs\n",
    "    ref_transform = ref.transform\n",
    "    ref_width = ref.width\n",
    "    ref_height = ref.height\n",
    "\n",
    "# ==== Open wind and reproject ====\n",
    "with rasterio.open(wind_tif) as src:\n",
    "    profile = src.profile.copy()\n",
    "    data = src.read(1)\n",
    "\n",
    "    # Update profile to match tasmax\n",
    "    profile.update({\n",
    "        \"crs\": ref_crs,\n",
    "        \"transform\": ref_transform,\n",
    "        \"width\": ref_width,\n",
    "        \"height\": ref_height\n",
    "    })\n",
    "\n",
    "    # Create empty array for output\n",
    "    aligned_data = np.empty((ref_height, ref_width), dtype=np.float32)\n",
    "\n",
    "    # Reproject\n",
    "    reproject(\n",
    "        source=data,\n",
    "        destination=aligned_data,\n",
    "        src_transform=src.transform,\n",
    "        src_crs=src.crs,\n",
    "        dst_transform=ref_transform,\n",
    "        dst_crs=ref_crs,\n",
    "        resampling=Resampling.bilinear\n",
    "    )\n",
    "\n",
    "    # Save\n",
    "    with rasterio.open(wind_aligned_tif, \"w\", **profile) as dst:\n",
    "        dst.write(aligned_data, 1)\n",
    "\n",
    "print(f\"✅ Reprojected wind raster saved: {wind_aligned_tif}\")\n"
   ]
  },
  {
   "cell_type": "code",
   "execution_count": 33,
   "id": "3c28e63b-8d03-48de-8a82-4ab0b14d2f2f",
   "metadata": {},
   "outputs": [
    {
     "name": "stdout",
     "output_type": "stream",
     "text": [
      "✅ Saved WBGT raster: D:\\Cognitud\\Heat Stress Project\\heat_stress_liljegren_2014.tif\n",
      "✅ Saved classified heat stress zones: D:\\Cognitud\\Heat Stress Project\\heat_stress_liljegren_2014_zones.tif\n"
     ]
    }
   ],
   "source": [
    "import rasterio\n",
    "import numpy as np\n",
    "\n",
    "# ==== Input TIFFs ====\n",
    "tasmax_file = r\"D:\\Cognitud\\Heat Stress Project\\tasmax_2014.tif\"\n",
    "hurs_file   = r\"D:\\Cognitud\\Heat Stress Project\\hurs_2014.tif\"\n",
    "\n",
    "# ==== Output ====\n",
    "wbgt_file   = r\"D:\\Cognitud\\Heat Stress Project\\heat_stress_liljegren_2014.tif\"\n",
    "zones_file  = r\"D:\\Cognitud\\Heat Stress Project\\heat_stress_liljegren_2014_zones.tif\"\n",
    "\n",
    "# ==== Load rasters ====\n",
    "with rasterio.open(tasmax_file) as src:\n",
    "    T = src.read(1)   # °C\n",
    "    profile = src.profile\n",
    "\n",
    "with rasterio.open(hurs_file) as src:\n",
    "    RH = src.read(1)  # %\n",
    "\n",
    "# ==== Vapor Pressure (hPa) ====\n",
    "e = (RH/100.0) * 6.105 * np.exp((17.27*T) / (237.7+T))\n",
    "\n",
    "# ==== WBGT (Liljegren simplified, no wind) ====\n",
    "WBGT = 0.567*T + 0.393*e + 3.94\n",
    "\n",
    "# ==== Save WBGT raster ====\n",
    "profile.update(dtype=rasterio.float32, count=1, nodata=np.nan)\n",
    "with rasterio.open(wbgt_file, \"w\", **profile) as dst:\n",
    "    dst.write(WBGT.astype(np.float32), 1)\n",
    "\n",
    "print(f\"✅ Saved WBGT raster: {wbgt_file}\")\n",
    "\n",
    "# ==== Apply classification (your thresholds) ====\n",
    "zones = np.zeros(WBGT.shape, dtype=np.int16)\n",
    "\n",
    "zones[(WBGT > 46)] = 5   # Extreme Heat Stress\n",
    "zones[(WBGT > 38) & (WBGT <= 46)] = 4   # Very Strong\n",
    "zones[(WBGT > 32) & (WBGT <= 38)] = 3   # Strong\n",
    "zones[(WBGT > 26) & (WBGT <= 32)] = 2   # Moderate\n",
    "zones[(WBGT >= 9) & (WBGT <= 26)] = 1   # No Thermal Stress\n",
    "\n",
    "# ==== Save zones raster ====\n",
    "profile.update(dtype=rasterio.int16, count=1, nodata=0)\n",
    "with rasterio.open(zones_file, \"w\", **profile) as dst:\n",
    "    dst.write(zones, 1)\n",
    "\n",
    "print(f\"✅ Saved classified heat stress zones: {zones_file}\")\n"
   ]
  },
  {
   "cell_type": "code",
   "execution_count": 32,
   "id": "e71fc44b-49da-49c4-bddd-a19c47d006ec",
   "metadata": {},
   "outputs": [
    {
     "name": "stdout",
     "output_type": "stream",
     "text": [
      "✅ Saved WBGT raster: D:\\Cognitud\\Heat Stress Project\\heat_stress_liljegren_2014.tif\n",
      "✅ Saved WBGT categories raster: D:\\Cognitud\\Heat Stress Project\\heat_stress_liljegren_2014_zones.tif\n"
     ]
    }
   ],
   "source": [
    "import rasterio\n",
    "import numpy as np\n",
    "\n",
    "# ==== Input TIFFs ====\n",
    "tasmax_file = r\"D:\\Cognitud\\Heat Stress Project\\tasmax_2014.tif\"\n",
    "hurs_file   = r\"D:\\Cognitud\\Heat Stress Project\\hurs_2014.tif\"\n",
    "wind_file   = r\"D:\\Cognitud\\Heat Stress Project\\sfcWind_annual_mean_2014_aligned.tif\"\n",
    "\n",
    "# ==== Output ====\n",
    "wbgt_file   = r\"D:\\Cognitud\\Heat Stress Project\\heat_stress_liljegren_2014.tif\"\n",
    "\n",
    "# ==== Load rasters ====\n",
    "with rasterio.open(tasmax_file) as src:\n",
    "    T = src.read(1)   # °C\n",
    "    profile = src.profile\n",
    "\n",
    "with rasterio.open(hurs_file) as src:\n",
    "    RH = src.read(1)  # %\n",
    "    \n",
    "with rasterio.open(wind_file) as src:\n",
    "    WS = src.read(1)  # m/s\n",
    "\n",
    "# ==== Calculate Vapor Pressure (hPa) ====\n",
    "e = (RH/100.0) * 6.105 * np.exp((17.27*T) / (237.7+T))\n",
    "\n",
    "# ==== Calculate WBGT (Liljegren simplified with wind) ====\n",
    "WBGT = 0.567*T + 0.393*e + 0.2*WS + 3.94\n",
    "\n",
    "# ==== Categorize WBGT ====\n",
    "categories = np.full(WBGT.shape, 0, dtype=np.int16)  # 0 = Comfortable\n",
    "categories[(WBGT >= 27) & (WBGT < 29)] = 1  # Caution\n",
    "categories[(WBGT >= 29) & (WBGT < 31)] = 2  # Extreme Caution\n",
    "categories[(WBGT >= 31) & (WBGT < 32)] = 3  # Danger\n",
    "categories[WBGT >= 32] = 4                 # Extreme Danger\n",
    "\n",
    "# ==== Save WBGT raster ====\n",
    "profile.update(dtype=rasterio.float32, count=1)\n",
    "with rasterio.open(wbgt_file, \"w\", **profile) as dst:\n",
    "    dst.write(WBGT.astype(np.float32), 1)\n",
    "\n",
    "print(f\"✅ Saved WBGT raster: {wbgt_file}\")\n",
    "\n",
    "# ==== Save classified zones ====\n",
    "zones_file = wbgt_file.replace(\".tif\", \"_zones.tif\")\n",
    "profile.update(dtype=rasterio.int16, count=1)\n",
    "with rasterio.open(zones_file, \"w\", **profile) as dst:\n",
    "    dst.write(categories, 1)\n",
    "\n",
    "print(f\"✅ Saved WBGT categories raster: {zones_file}\")\n"
   ]
  },
  {
   "cell_type": "code",
   "execution_count": null,
   "id": "5d402d8f-388c-4289-8dde-d6b25fa752d3",
   "metadata": {},
   "outputs": [],
   "source": []
  }
 ],
 "metadata": {
  "kernelspec": {
   "display_name": "Python 3 (ipykernel)",
   "language": "python",
   "name": "python3"
  },
  "language_info": {
   "codemirror_mode": {
    "name": "ipython",
    "version": 3
   },
   "file_extension": ".py",
   "mimetype": "text/x-python",
   "name": "python",
   "nbconvert_exporter": "python",
   "pygments_lexer": "ipython3",
   "version": "3.13.5"
  }
 },
 "nbformat": 4,
 "nbformat_minor": 5
}
